{
  "nbformat": 4,
  "nbformat_minor": 0,
  "metadata": {
    "colab": {
      "name": "PyLatheDB-DEMO.ipynb",
      "provenance": [],
      "collapsed_sections": [
        "9BCs4NWfWhV3",
        "85Bru8qN6lpE"
      ],
      "include_colab_link": true
    },
    "kernelspec": {
      "name": "python3",
      "display_name": "Python 3"
    },
    "language_info": {
      "name": "python"
    }
  },
  "cells": [
    {
      "cell_type": "markdown",
      "metadata": {
        "id": "view-in-github",
        "colab_type": "text"
      },
      "source": [
        "<a href=\"https://colab.research.google.com/github/pr3martins/PyLatheDB/blob/main/demo/PyLatheDB_DEMO.ipynb\" target=\"_parent\"><img src=\"https://colab.research.google.com/assets/colab-badge.svg\" alt=\"Open In Colab\"/></a>"
      ]
    },
    {
      "cell_type": "markdown",
      "source": [
        "# PyLatheDB - A Library for Relational Keyword Search with Support to Schema References\n",
        "---\n",
        "\n",
        "PyLatheDB is based on Lathe, an R-KwS framework that generalizes the well-known concepts of Query Matches (QMs) and Candidate Joining Networks (CJNs) to handle keywords referring to schema elements and introduces new algorithms to generate them, along with a novel approach to automatically select the CJNs that are more likely to represent the user intent when issuing a keyword query.\n",
        "\n",
        "We recommend running this Python Notebook using [Google Colab](https://colab.research.google.com/github/pr3martins/PyLatheDB/blob/main/demo/PyLatheDB_DEMO.ipynb). But its static version is also available in our [GitHub Repository](https://github.com/pr3martins/PyLatheDB/blob/main/demo/PyLatheDB_DEMO.ipynb)."
      ],
      "metadata": {
        "id": "-Avnlu5jzbyD"
      }
    },
    {
      "cell_type": "markdown",
      "source": [
        "## Environment Preparation\n",
        "\n",
        "Initially, before the demonstration, it is necessary to  run an environment preparation step, which includes the installation of the RDBMS; the downloading of some configuration files and scripts; and the installation of the **PyLatheDB** library and its dependencies."
      ],
      "metadata": {
        "id": "9BCs4NWfWhV3"
      }
    },
    {
      "cell_type": "markdown",
      "source": [
        "### Download of the configuration Files\n",
        "\n",
        "The configuration files comprise information about the datasets and query sets used. They are automatically downloaded, but they can also be found [here](https://drive.google.com/drive/folders/1Xz3mPN0NC7xdIETKZlFDTcqcU6lsVUYD?usp=sharing)."
      ],
      "metadata": {
        "id": "BT1FWFwB-Eg9"
      }
    },
    {
      "cell_type": "code",
      "source": [
        "!pip install --upgrade --no-cache-dir gdown\n",
        "\n",
        "!gdown 1KTRL-RhKgnzENlwcGHZ7zkvT4fVsQ1D7\n",
        "!unzip -o PyLatheDB_DEMO_resources.zip\n",
        "import nltk\n",
        "nltk.download('wordnet')\n",
        "nltk.download('stopwords')\n",
        "nltk.download('omw-1.4')"
      ],
      "metadata": {
        "id": "zv1qHUj_W8fm",
        "outputId": "f9be6504-1c16-4715-d862-bd4af8c8ffab",
        "colab": {
          "base_uri": "https://localhost:8080/"
        }
      },
      "execution_count": 1,
      "outputs": [
        {
          "output_type": "stream",
          "name": "stdout",
          "text": [
            "Looking in indexes: https://pypi.org/simple, https://us-python.pkg.dev/colab-wheels/public/simple/\n",
            "Requirement already satisfied: gdown in /usr/local/lib/python3.9/dist-packages (4.6.6)\n",
            "Collecting gdown\n",
            "  Downloading gdown-4.7.1-py3-none-any.whl (15 kB)\n",
            "Requirement already satisfied: beautifulsoup4 in /usr/local/lib/python3.9/dist-packages (from gdown) (4.11.2)\n",
            "Requirement already satisfied: six in /usr/local/lib/python3.9/dist-packages (from gdown) (1.16.0)\n",
            "Requirement already satisfied: filelock in /usr/local/lib/python3.9/dist-packages (from gdown) (3.10.7)\n",
            "Requirement already satisfied: tqdm in /usr/local/lib/python3.9/dist-packages (from gdown) (4.65.0)\n",
            "Requirement already satisfied: requests[socks] in /usr/local/lib/python3.9/dist-packages (from gdown) (2.27.1)\n",
            "Requirement already satisfied: soupsieve>1.2 in /usr/local/lib/python3.9/dist-packages (from beautifulsoup4->gdown) (2.4)\n",
            "Requirement already satisfied: certifi>=2017.4.17 in /usr/local/lib/python3.9/dist-packages (from requests[socks]->gdown) (2022.12.7)\n",
            "Requirement already satisfied: idna<4,>=2.5 in /usr/local/lib/python3.9/dist-packages (from requests[socks]->gdown) (3.4)\n",
            "Requirement already satisfied: urllib3<1.27,>=1.21.1 in /usr/local/lib/python3.9/dist-packages (from requests[socks]->gdown) (1.26.15)\n",
            "Requirement already satisfied: charset-normalizer~=2.0.0 in /usr/local/lib/python3.9/dist-packages (from requests[socks]->gdown) (2.0.12)\n",
            "Requirement already satisfied: PySocks!=1.5.7,>=1.5.6 in /usr/local/lib/python3.9/dist-packages (from requests[socks]->gdown) (1.7.1)\n",
            "Installing collected packages: gdown\n",
            "  Attempting uninstall: gdown\n",
            "    Found existing installation: gdown 4.6.6\n",
            "    Uninstalling gdown-4.6.6:\n",
            "      Successfully uninstalled gdown-4.6.6\n",
            "Successfully installed gdown-4.7.1\n",
            "Downloading...\n",
            "From (uriginal): https://drive.google.com/uc?id=1KTRL-RhKgnzENlwcGHZ7zkvT4fVsQ1D7\n",
            "From (redirected): https://drive.google.com/uc?id=1KTRL-RhKgnzENlwcGHZ7zkvT4fVsQ1D7&confirm=t&uuid=35218fe7-ccec-488d-8e88-938e7272cf6d\n",
            "To: /content/PyLatheDB_DEMO_resources.zip\n",
            "100% 92.1M/92.1M [00:01<00:00, 47.8MB/s]\n",
            "Archive:  PyLatheDB_DEMO_resources.zip\n",
            "   creating: config/\n",
            "  inflating: config/config.json      \n",
            "   creating: config/dataset_configs/\n",
            "  inflating: config/dataset_configs/mondial.json  \n",
            "   creating: config/dataset_configs/attributes/\n",
            "  inflating: config/dataset_configs/attributes/imdb_filtered_attributes.json  \n",
            "  inflating: config/dataset_configs/attributes/mondial_all_attributes.json  \n",
            "  inflating: config/dataset_configs/attributes/mondial_filtered_attributes.json  \n",
            "  inflating: config/dataset_configs/attributes/imdb_all_attributes.json  \n",
            "  inflating: config/dataset_configs/imdb.json  \n",
            "   creating: config/queryset_configs/\n",
            "  inflating: config/queryset_configs/coffman_imdb_config.json  \n",
            "  inflating: config/queryset_configs/coffman_mondial_config.json  \n",
            "   creating: datasets/\n",
            "   creating: datasets/imdb/\n",
            "  inflating: datasets/imdb/imdb_schema_index_file.shelve.db  \n",
            "  inflating: datasets/imdb/imdb_value_index_file.shelve.db  \n",
            "  inflating: datasets/imdb/imdb_schema_graph_file.pickle  \n",
            "   creating: datasets/mondial/\n",
            "  inflating: datasets/mondial/mondial_value_index_file.shelve.db  \n",
            "  inflating: datasets/mondial/mondial_schema_graph_file.pickle  \n",
            "  inflating: datasets/mondial/mondial_schema_index_file.shelve.db  \n",
            "   creating: dbsources/\n",
            "  inflating: dbsources/imdb-rename-tables.psql  \n",
            "  inflating: dbsources/mondial-schema_part2.pgsql  \n",
            "  inflating: dbsources/mondial-field_fulltext_index.psql  \n",
            "  inflating: dbsources/imdb-schema.pgsql  \n",
            "  inflating: dbsources/pylathedb.stop  \n",
            "  inflating: dbsources/imdb-data.pgsql  \n",
            "  inflating: dbsources/mondial-schema_part1.pgsql  \n",
            "  inflating: dbsources/mondial-data.pgsql  \n",
            "  inflating: dbsources/imdb-fulltext_index.psql  \n",
            "   creating: querysets/\n",
            "  inflating: querysets/coffman_imdb.json  \n",
            "  inflating: querysets/coffman_mondial.json  \n"
          ]
        },
        {
          "output_type": "stream",
          "name": "stderr",
          "text": [
            "[nltk_data] Downloading package wordnet to /root/nltk_data...\n",
            "[nltk_data] Downloading package stopwords to /root/nltk_data...\n",
            "[nltk_data]   Unzipping corpora/stopwords.zip.\n",
            "[nltk_data] Downloading package omw-1.4 to /root/nltk_data...\n"
          ]
        },
        {
          "output_type": "execute_result",
          "data": {
            "text/plain": [
              "True"
            ]
          },
          "metadata": {},
          "execution_count": 1
        }
      ]
    },
    {
      "cell_type": "markdown",
      "source": [
        "### Installation of the PostgreSQL"
      ],
      "metadata": {
        "id": "b3oWxUnl-Xyq"
      }
    },
    {
      "cell_type": "code",
      "source": [
        "# Install postgresql server\n",
        "!sudo apt-get -y -qq update\n",
        "!sudo apt-get -y -qq install postgresql postgresql-contrib &>log\n",
        "!sudo service postgresql start\n",
        "\n",
        "# Setup a password `postgres` for username `postgres`\n",
        "!sudo -u postgres psql -U postgres -c \"ALTER USER postgres PASSWORD 'postgres';\"\n",
        "\n",
        "!cp dbsources/pylathedb.stop /usr/share/postgresql/12/tsearch_data/english.stop\n"
      ],
      "metadata": {
        "id": "PEeEHxMsQVBs",
        "outputId": "638bfb43-5522-4011-e887-975ddd79bf71",
        "colab": {
          "base_uri": "https://localhost:8080/"
        }
      },
      "execution_count": 2,
      "outputs": [
        {
          "output_type": "stream",
          "name": "stdout",
          "text": [
            " * Starting PostgreSQL 12 database server\n",
            "   ...done.\n",
            "ALTER ROLE\n"
          ]
        }
      ]
    },
    {
      "cell_type": "markdown",
      "source": [
        "### Scripts for the Databases Creation"
      ],
      "metadata": {
        "id": "s89ffyvY-mTG"
      }
    },
    {
      "cell_type": "code",
      "source": [
        "!sudo -u postgres dropdb imdb &>>log\n",
        "!sudo -u postgres createdb imdb &>>log\n",
        "!sudo -u postgres psql -U postgres imdb <  dbsources/imdb-schema.pgsql &>>log\n",
        "!sudo -u postgres psql -U postgres imdb <  dbsources/imdb-data.pgsql &>>log\n",
        "!sudo -u postgres psql -U postgres imdb <  dbsources/imdb-fulltext_index.psql &>>log\n",
        "!sudo -u postgres psql -U postgres imdb < dbsources/imdb-rename-tables.psql &>>log\n",
        "\n",
        "!sudo -u postgres dropdb mondial &>>log\n",
        "!sudo -u postgres createdb mondial &>>log\n",
        "!sudo -u postgres psql -U postgres mondial <  dbsources/mondial-schema_part1.pgsql &>>log\n",
        "!sudo -u postgres psql -U postgres mondial <  dbsources/mondial-data.pgsql &>>log\n",
        "!sudo -u postgres psql -U postgres mondial <  dbsources/mondial-schema_part2.pgsql &>>log\n",
        "!sudo -u postgres psql -U postgres mondial <  dbsources/mondial-field_fulltext_index.psql &>>log"
      ],
      "metadata": {
        "id": "_6HoX6TgfnzA"
      },
      "execution_count": 3,
      "outputs": []
    },
    {
      "cell_type": "markdown",
      "source": [
        "### Enable DataTable Formating from Google Colab"
      ],
      "metadata": {
        "id": "p3mkA7nj_Gty"
      }
    },
    {
      "cell_type": "code",
      "source": [
        "from google.colab import data_table\n",
        "data_table.enable_dataframe_formatter()"
      ],
      "metadata": {
        "id": "DHjj3QY10b--"
      },
      "execution_count": 4,
      "outputs": []
    },
    {
      "cell_type": "markdown",
      "source": [
        "### Installation of the PyLathe library available [here](https://pypi.org/project/pylathedb/)"
      ],
      "metadata": {
        "id": "z0CYsna9-2lY"
      }
    },
    {
      "cell_type": "code",
      "source": [
        "!pip install pylathedb==1.0.9 -U"
      ],
      "metadata": {
        "id": "TE76LA_p0FQ8",
        "outputId": "8a975715-2701-4318-f181-531c5f4e37ed",
        "colab": {
          "base_uri": "https://localhost:8080/"
        }
      },
      "execution_count": 7,
      "outputs": [
        {
          "output_type": "stream",
          "name": "stdout",
          "text": [
            "Looking in indexes: https://pypi.org/simple, https://us-python.pkg.dev/colab-wheels/public/simple/\n",
            "Collecting pylathedb==1.0.9\n",
            "  Downloading pylathedb-1.0.9-py3-none-any.whl (51 kB)\n",
            "\u001b[2K     \u001b[90m━━━━━━━━━━━━━━━━━━━━━━━━━━━━━━━━━━━━━━━━\u001b[0m \u001b[32m51.9/51.9 KB\u001b[0m \u001b[31m1.7 MB/s\u001b[0m eta \u001b[36m0:00:00\u001b[0m\n",
            "\u001b[?25hRequirement already satisfied: prettytable in /usr/local/lib/python3.9/dist-packages (from pylathedb==1.0.9) (0.7.2)\n",
            "Requirement already satisfied: matplotlib in /usr/local/lib/python3.9/dist-packages (from pylathedb==1.0.9) (3.7.1)\n",
            "Requirement already satisfied: graphviz in /usr/local/lib/python3.9/dist-packages (from pylathedb==1.0.9) (0.20.1)\n",
            "Requirement already satisfied: nltk in /usr/local/lib/python3.9/dist-packages (from pylathedb==1.0.9) (3.8.1)\n",
            "Collecting psycopg2-binary\n",
            "  Using cached psycopg2_binary-2.9.5-cp39-cp39-manylinux_2_17_x86_64.manylinux2014_x86_64.whl (3.0 MB)\n",
            "Requirement already satisfied: psutil in /usr/local/lib/python3.9/dist-packages (from pylathedb==1.0.9) (5.9.4)\n",
            "Requirement already satisfied: pandas in /usr/local/lib/python3.9/dist-packages (from pylathedb==1.0.9) (1.4.4)\n",
            "Requirement already satisfied: packaging>=20.0 in /usr/local/lib/python3.9/dist-packages (from matplotlib->pylathedb==1.0.9) (23.0)\n",
            "Requirement already satisfied: pillow>=6.2.0 in /usr/local/lib/python3.9/dist-packages (from matplotlib->pylathedb==1.0.9) (8.4.0)\n",
            "Requirement already satisfied: python-dateutil>=2.7 in /usr/local/lib/python3.9/dist-packages (from matplotlib->pylathedb==1.0.9) (2.8.2)\n",
            "Requirement already satisfied: kiwisolver>=1.0.1 in /usr/local/lib/python3.9/dist-packages (from matplotlib->pylathedb==1.0.9) (1.4.4)\n",
            "Requirement already satisfied: importlib-resources>=3.2.0 in /usr/local/lib/python3.9/dist-packages (from matplotlib->pylathedb==1.0.9) (5.12.0)\n",
            "Requirement already satisfied: contourpy>=1.0.1 in /usr/local/lib/python3.9/dist-packages (from matplotlib->pylathedb==1.0.9) (1.0.7)\n",
            "Requirement already satisfied: numpy>=1.20 in /usr/local/lib/python3.9/dist-packages (from matplotlib->pylathedb==1.0.9) (1.22.4)\n",
            "Requirement already satisfied: fonttools>=4.22.0 in /usr/local/lib/python3.9/dist-packages (from matplotlib->pylathedb==1.0.9) (4.39.3)\n",
            "Requirement already satisfied: pyparsing>=2.3.1 in /usr/local/lib/python3.9/dist-packages (from matplotlib->pylathedb==1.0.9) (3.0.9)\n",
            "Requirement already satisfied: cycler>=0.10 in /usr/local/lib/python3.9/dist-packages (from matplotlib->pylathedb==1.0.9) (0.11.0)\n",
            "Requirement already satisfied: tqdm in /usr/local/lib/python3.9/dist-packages (from nltk->pylathedb==1.0.9) (4.65.0)\n",
            "Requirement already satisfied: click in /usr/local/lib/python3.9/dist-packages (from nltk->pylathedb==1.0.9) (8.1.3)\n",
            "Requirement already satisfied: joblib in /usr/local/lib/python3.9/dist-packages (from nltk->pylathedb==1.0.9) (1.1.1)\n",
            "Requirement already satisfied: regex>=2021.8.3 in /usr/local/lib/python3.9/dist-packages (from nltk->pylathedb==1.0.9) (2022.10.31)\n",
            "Requirement already satisfied: pytz>=2020.1 in /usr/local/lib/python3.9/dist-packages (from pandas->pylathedb==1.0.9) (2022.7.1)\n",
            "Requirement already satisfied: zipp>=3.1.0 in /usr/local/lib/python3.9/dist-packages (from importlib-resources>=3.2.0->matplotlib->pylathedb==1.0.9) (3.15.0)\n",
            "Requirement already satisfied: six>=1.5 in /usr/local/lib/python3.9/dist-packages (from python-dateutil>=2.7->matplotlib->pylathedb==1.0.9) (1.16.0)\n",
            "Installing collected packages: psycopg2-binary, pylathedb\n",
            "Successfully installed psycopg2-binary-2.9.5 pylathedb-1.0.9\n"
          ]
        }
      ]
    },
    {
      "cell_type": "markdown",
      "source": [
        "## PyLatheDB setup\n",
        "\n",
        "In this section, we will run the PyLatheDB setup, which comprises the creation of the Value Index and the Schema Index. We will also explain the main parameters of the library, such as number of QMs, number of CJNs per QM and the use of the eager evaluation strategy for CJN generation. "
      ],
      "metadata": {
        "id": "85Bru8qN6lpE"
      }
    },
    {
      "cell_type": "markdown",
      "source": [
        "### Library import and set configuration directory"
      ],
      "metadata": {
        "id": "g9rv0VoN_nM0"
      }
    },
    {
      "cell_type": "code",
      "source": [
        "from pylathedb.lathe import Lathe\n",
        "lathe = Lathe(config_directory='./config/')"
      ],
      "metadata": {
        "id": "-wpNJChhQjEP"
      },
      "execution_count": 8,
      "outputs": []
    },
    {
      "cell_type": "markdown",
      "source": [
        "### Create Indexes \n",
        "This step is not necessary because we already downloaded the indexes alongside the configuration files. But feel free to test the Index Creation by uncommenting the following cell:"
      ],
      "metadata": {
        "id": "gct9Nh0W_tqp"
      }
    },
    {
      "cell_type": "code",
      "source": [
        "# lathe.create_indexes()"
      ],
      "metadata": {
        "id": "GCxC4RxZ_ln1"
      },
      "execution_count": 9,
      "outputs": []
    },
    {
      "cell_type": "markdown",
      "source": [
        "### Load Indexes\n",
        "\n",
        "The cell below shows how to load the Value and Schema Indexes."
      ],
      "metadata": {
        "id": "JL1mPyVCAUiX"
      }
    },
    {
      "cell_type": "code",
      "source": [
        "lathe.load_indexes()"
      ],
      "metadata": {
        "id": "K1AWZHMFXQ_A"
      },
      "execution_count": 10,
      "outputs": []
    },
    {
      "cell_type": "markdown",
      "source": [
        "### Choose Query set/Database\n",
        "\n",
        "You can choose which query set to use and its respective database. Input as a function parameter the number of the name of the query set to use. If you input no number, it will list the query sets available.\n",
        "\n",
        "*Remember to always load the indexes again after changing query set.*"
      ],
      "metadata": {
        "id": "WjMMYqzAAwIp"
      }
    },
    {
      "cell_type": "code",
      "source": [
        "lathe.change_queryset()"
      ],
      "metadata": {
        "id": "Gs8KXPMSxYYm",
        "colab": {
          "base_uri": "https://localhost:8080/"
        },
        "outputId": "28a3d26e-532f-4296-cc9e-92da35721e79"
      },
      "execution_count": 11,
      "outputs": [
        {
          "output_type": "stream",
          "name": "stdout",
          "text": [
            "Please input a query set to change:\n",
            "01 - coffman_imdb\n",
            "02 - coffman_mondial\n"
          ]
        }
      ]
    },
    {
      "cell_type": "markdown",
      "source": [
        "### Default Parameters\n",
        "\n",
        "We have a few parameters for R-KwS using PyLatheDB:\n",
        "*    `max_qm_size`: Maximum Query Match Size\n",
        "*    `max_cjn_size`: Maximum Candidate Joining Network Size\n",
        "*    `topk_cns`: Top-k CJNs to be considered\n",
        "*    `configuration`: A tuple containing the number of QMs to be considered, number of CJNs for each QM to be considered, and the maximum number of CJNs to be probed by the eager evaluation for each QM. \n",
        "\n",
        "\n"
      ],
      "metadata": {
        "id": "ey2a_wdSBNKn"
      }
    },
    {
      "cell_type": "code",
      "source": [
        "lathe.max_qm_size = 3\n",
        "lathe.max_cjn_size = 5\n",
        "lathe.topk_cns = 10\n",
        "\n",
        "num_qms = 5\n",
        "num_cjns_per_qm = 1\n",
        "num_probed_cjns = 0\n",
        "\n",
        "lathe.configuration = (num_qms,num_cjns_per_qm,num_probed_cjns)"
      ],
      "metadata": {
        "id": "P8PUzbKoxOdB"
      },
      "execution_count": 12,
      "outputs": []
    },
    {
      "cell_type": "markdown",
      "source": [
        "## Keyword Search over Relational Databases\n",
        "\n",
        "You can use the function `keyword_search` from the class `Lathe` using three parameters. \n",
        "\n",
        "\n",
        "1.   You can input a Keyword query\n",
        "2.   You can call the function with no input to show a list of premade keyword queries used in Coffman Benchmark.\n",
        "3.   You can input the number of the keyword query according to the option 2."
      ],
      "metadata": {
        "id": "WhwI-lMT_sOJ"
      }
    },
    {
      "cell_type": "code",
      "source": [
        "lathe.keyword_search()"
      ],
      "metadata": {
        "colab": {
          "base_uri": "https://localhost:8080/"
        },
        "id": "YEQ7ZZtWF5gt",
        "outputId": "6db051eb-db22-4ec1-9240-fade48f3eae5"
      },
      "execution_count": 13,
      "outputs": [
        {
          "output_type": "stream",
          "name": "stdout",
          "text": [
            "Please input a keyword query or choose one of the queries below:\n",
            "01 - denzel washington\n",
            "02 - clint eastwood\n",
            "03 - john wayne\n",
            "04 - will smith\n",
            "05 - harrison ford\n",
            "06 - julia roberts\n",
            "07 - tom hanks\n",
            "08 - johnny depp\n",
            "09 - angelina jolie\n",
            "10 - morgan freeman\n",
            "11 - gone with the wind\n",
            "12 - star wars\n",
            "13 - casablanca\n",
            "14 - lord of the rings\n",
            "15 - the sound of music\n",
            "16 - wizard of oz\n",
            "17 - the notebook\n",
            "18 - forrest gump\n",
            "19 - the princess bride\n",
            "20 - the godfather\n",
            "21 - title atticus finch\n",
            "22 - title indiana jones\n",
            "23 - title james bond\n",
            "24 - title rick blaine\n",
            "25 - title will kane\n",
            "26 - title dr. hannibal lecter\n",
            "27 - title norman bates\n",
            "28 - title darth vader\n",
            "29 - title the wicked witch of the west\n",
            "30 - title nurse ratched\n",
            "31 - title frankly my dear i don't give a damn\n",
            "32 - title i'm going to make him an offer he can't refuse\n",
            "33 - title you don't understand i coulda had class i coulda been a contender i coulda been somebody instead of a bum which is what i am\n",
            "34 - title toto i've a feeling we're not in kansas any more\n",
            "35 - title here's looking at you kid\n",
            "36 - hamill skywalker\n",
            "37 - hanks 2004\n",
            "38 - henry fonda yours mine ours character\n",
            "39 - russell crowe gladiator character\n",
            "40 - brent spiner star trek\n",
            "41 - audrey hepburn 1951\n",
            "42 - name jacques clouseau\n",
            "43 - name jack ryan\n",
            "44 - rocky stallone\n",
            "45 - name terminator\n",
            "46 - harrison ford george lucas\n",
            "47 - sean connery fleming\n",
            "48 - reeves wachowski\n",
            "49 - dean jones herbie\n",
            "50 - indiana jones last crusade lost ark\n"
          ]
        }
      ]
    },
    {
      "cell_type": "markdown",
      "source": [
        "### Understanding the Results\n",
        "\n",
        "The function `keyword_search` from the class `Lathe` returns an `LatheResult` object, which contains methods to show the CJNs, QMs and KMs returned for the keyword query."
      ],
      "metadata": {
        "id": "4nalYT6yF90_"
      }
    },
    {
      "cell_type": "markdown",
      "source": [
        "### Keyword Matches\n",
        "\n",
        "The function `kms` returns two unordered lists, one for the Schema-Keyword Matches and one for Value-Keyword Matches."
      ],
      "metadata": {
        "id": "zcLxI1p0wkcS"
      }
    },
    {
      "cell_type": "code",
      "source": [
        "result = lathe.keyword_search('julia roberts films')\n",
        "result.kms()"
      ],
      "metadata": {
        "colab": {
          "base_uri": "https://localhost:8080/",
          "height": 411
        },
        "id": "sipofwKEFdqz",
        "outputId": "cf197a21-d2cd-461f-e6b5-3033969a81e6"
      },
      "execution_count": 14,
      "outputs": [
        {
          "output_type": "stream",
          "name": "stdout",
          "text": [
            "Keyword Query: julia roberts films\n"
          ]
        },
        {
          "output_type": "display_data",
          "data": {
            "text/plain": [
              "<IPython.core.display.Markdown object>"
            ],
            "text/markdown": "---"
          },
          "metadata": {}
        },
        {
          "output_type": "display_data",
          "data": {
            "text/plain": [
              "<IPython.core.display.Markdown object>"
            ],
            "text/markdown": "**SKMs**:"
          },
          "metadata": {}
        },
        {
          "output_type": "display_data",
          "data": {
            "text/plain": [
              "<IPython.core.display.Markdown object>"
            ],
            "text/markdown": "---"
          },
          "metadata": {}
        },
        {
          "output_type": "stream",
          "name": "stdout",
          "text": [
            "MOVIE.s(*{films})\n"
          ]
        },
        {
          "output_type": "display_data",
          "data": {
            "text/plain": [
              "<IPython.core.display.Markdown object>"
            ],
            "text/markdown": "---"
          },
          "metadata": {}
        },
        {
          "output_type": "display_data",
          "data": {
            "text/plain": [
              "<IPython.core.display.Markdown object>"
            ],
            "text/markdown": "**VKMs**:"
          },
          "metadata": {}
        },
        {
          "output_type": "display_data",
          "data": {
            "text/plain": [
              "<IPython.core.display.Markdown object>"
            ],
            "text/markdown": "---"
          },
          "metadata": {}
        },
        {
          "output_type": "stream",
          "name": "stdout",
          "text": [
            "PERSON.v(name{julia})\n",
            "CHARACTER.v(name{julia})\n",
            "MOVIEINFO.v(info{julia})\n",
            "MOVIE.v(title{julia})\n",
            "PERSON.v(name{roberts})\n",
            "CHARACTER.v(name{roberts})\n",
            "MOVIEINFO.v(info{roberts})\n",
            "MOVIE.v(title{roberts})\n",
            "CHARACTER.v(name{films})\n",
            "MOVIEINFO.v(info{films})\n",
            "MOVIE.v(title{films})\n",
            "PERSON.v(name{roberts,julia})\n",
            "MOVIEINFO.v(info{roberts,julia})\n",
            "MOVIEINFO.v(info{films,julia})\n",
            "MOVIE.v(title{roberts,julia})\n"
          ]
        }
      ]
    },
    {
      "cell_type": "markdown",
      "source": [
        "### Query Matches\n",
        "\n",
        "The function `qms` returns a ranked list of the Query Matches for the keyword query. Each QM is presented as a set of Keyword Matches."
      ],
      "metadata": {
        "id": "kBHjyuQswF4H"
      }
    },
    {
      "cell_type": "code",
      "source": [
        "result.qms()"
      ],
      "metadata": {
        "colab": {
          "base_uri": "https://localhost:8080/",
          "height": 351
        },
        "id": "scMhvLTHFaPc",
        "outputId": "1a18d220-b39d-4aba-9b3b-fefd2ee93a1d"
      },
      "execution_count": 15,
      "outputs": [
        {
          "output_type": "display_data",
          "data": {
            "text/plain": [
              "<IPython.core.display.Markdown object>"
            ],
            "text/markdown": "---"
          },
          "metadata": {}
        },
        {
          "output_type": "display_data",
          "data": {
            "text/plain": [
              "<IPython.core.display.Markdown object>"
            ],
            "text/markdown": "**1st QM**:"
          },
          "metadata": {}
        },
        {
          "output_type": "display_data",
          "data": {
            "text/plain": [
              "<IPython.core.display.Markdown object>"
            ],
            "text/markdown": "---"
          },
          "metadata": {}
        },
        {
          "output_type": "stream",
          "name": "stdout",
          "text": [
            "{MOVIE.s(*{films}), PERSON.v(name{roberts,julia})}\n"
          ]
        },
        {
          "output_type": "display_data",
          "data": {
            "text/plain": [
              "<IPython.core.display.Markdown object>"
            ],
            "text/markdown": "---"
          },
          "metadata": {}
        },
        {
          "output_type": "display_data",
          "data": {
            "text/plain": [
              "<IPython.core.display.Markdown object>"
            ],
            "text/markdown": "**2nd QM**:"
          },
          "metadata": {}
        },
        {
          "output_type": "display_data",
          "data": {
            "text/plain": [
              "<IPython.core.display.Markdown object>"
            ],
            "text/markdown": "---"
          },
          "metadata": {}
        },
        {
          "output_type": "stream",
          "name": "stdout",
          "text": [
            "{MOVIE.s(*{films}).v(title{roberts,julia})}\n"
          ]
        },
        {
          "output_type": "display_data",
          "data": {
            "text/plain": [
              "<IPython.core.display.Markdown object>"
            ],
            "text/markdown": "---"
          },
          "metadata": {}
        },
        {
          "output_type": "display_data",
          "data": {
            "text/plain": [
              "<IPython.core.display.Markdown object>"
            ],
            "text/markdown": "**3rd QM**:"
          },
          "metadata": {}
        },
        {
          "output_type": "display_data",
          "data": {
            "text/plain": [
              "<IPython.core.display.Markdown object>"
            ],
            "text/markdown": "---"
          },
          "metadata": {}
        },
        {
          "output_type": "stream",
          "name": "stdout",
          "text": [
            "{MOVIE.s(*{films}), MOVIEINFO.v(info{roberts,julia})}\n"
          ]
        },
        {
          "output_type": "display_data",
          "data": {
            "text/plain": [
              "<IPython.core.display.Markdown object>"
            ],
            "text/markdown": "---"
          },
          "metadata": {}
        },
        {
          "output_type": "display_data",
          "data": {
            "text/plain": [
              "<IPython.core.display.Markdown object>"
            ],
            "text/markdown": "**4th QM**:"
          },
          "metadata": {}
        },
        {
          "output_type": "display_data",
          "data": {
            "text/plain": [
              "<IPython.core.display.Markdown object>"
            ],
            "text/markdown": "---"
          },
          "metadata": {}
        },
        {
          "output_type": "stream",
          "name": "stdout",
          "text": [
            "{MOVIE.s(*{films}), PERSON.v(name{julia}), PERSON.v(name{roberts})}\n"
          ]
        },
        {
          "output_type": "display_data",
          "data": {
            "text/plain": [
              "<IPython.core.display.Markdown object>"
            ],
            "text/markdown": "---"
          },
          "metadata": {}
        },
        {
          "output_type": "display_data",
          "data": {
            "text/plain": [
              "<IPython.core.display.Markdown object>"
            ],
            "text/markdown": "**5th QM**:"
          },
          "metadata": {}
        },
        {
          "output_type": "display_data",
          "data": {
            "text/plain": [
              "<IPython.core.display.Markdown object>"
            ],
            "text/markdown": "---"
          },
          "metadata": {}
        },
        {
          "output_type": "stream",
          "name": "stdout",
          "text": [
            "{MOVIE.v(title{films}), PERSON.v(name{roberts,julia})}\n"
          ]
        }
      ]
    },
    {
      "cell_type": "markdown",
      "source": [
        "### Schema Graph (IMDb dataset)"
      ],
      "metadata": {
        "id": "bXdSBQp5LlYa"
      }
    },
    {
      "cell_type": "code",
      "source": [
        "lathe.change_queryset(1)\n",
        "lathe.index_handler.schema_graph.show()"
      ],
      "metadata": {
        "colab": {
          "base_uri": "https://localhost:8080/",
          "height": 203
        },
        "id": "Tb_UdxFULsNJ",
        "outputId": "dc8218a4-3c89-47ea-a144-ae8ef67c05e9"
      },
      "execution_count": 16,
      "outputs": [
        {
          "output_type": "stream",
          "name": "stdout",
          "text": [
            "./config/queryset_configs/coffman_imdb_config.json\n",
            "Changed to query set coffman_imdb.\n",
            "Graph:\n"
          ]
        },
        {
          "output_type": "display_data",
          "data": {
            "image/svg+xml": "<?xml version=\"1.0\" encoding=\"UTF-8\" standalone=\"no\"?>\n<!DOCTYPE svg PUBLIC \"-//W3C//DTD SVG 1.1//EN\"\n \"http://www.w3.org/Graphics/SVG/1.1/DTD/svg11.dtd\">\n<!-- Generated by graphviz version 2.43.0 (0)\n -->\n<!-- Title: %3 Pages: 1 -->\n<svg width=\"312pt\" height=\"98pt\"\n viewBox=\"0.00 0.00 312.26 98.00\" xmlns=\"http://www.w3.org/2000/svg\" xmlns:xlink=\"http://www.w3.org/1999/xlink\">\n<g id=\"graph0\" class=\"graph\" transform=\"scale(1 1) rotate(0) translate(4 94)\">\n<title>%3</title>\n<polygon fill=\"white\" stroke=\"transparent\" points=\"-4,4 -4,-94 308.26,-94 308.26,4 -4,4\"/>\n<!-- casting -->\n<g id=\"node1\" class=\"node\">\n<title>casting</title>\n<ellipse fill=\"none\" stroke=\"black\" cx=\"160.26\" cy=\"-72\" rx=\"32.16\" ry=\"18\"/>\n<text text-anchor=\"middle\" x=\"160.26\" y=\"-69.8\" font-family=\"Times,serif\" font-size=\"9.00\">CASTING</text>\n</g>\n<!-- movie -->\n<g id=\"node2\" class=\"node\">\n<title>movie</title>\n<ellipse fill=\"none\" stroke=\"black\" cx=\"39.26\" cy=\"-18\" rx=\"27.27\" ry=\"18\"/>\n<text text-anchor=\"middle\" x=\"39.26\" y=\"-15.8\" font-family=\"Times,serif\" font-size=\"9.00\">MOVIE</text>\n</g>\n<!-- casting&#45;&gt;movie -->\n<g id=\"edge2\" class=\"edge\">\n<title>casting&#45;&gt;movie</title>\n<path fill=\"none\" stroke=\"black\" d=\"M134.14,-61.13C116.74,-54.4 93.45,-45.09 73.26,-36 71.64,-35.27 69.97,-34.5 68.3,-33.72\"/>\n<polygon fill=\"black\" stroke=\"black\" points=\"69.46,-30.78 59.99,-29.7 66.72,-36.45 69.46,-30.78\"/>\n</g>\n<!-- person -->\n<g id=\"node4\" class=\"node\">\n<title>person</title>\n<ellipse fill=\"none\" stroke=\"black\" cx=\"110.26\" cy=\"-18\" rx=\"30.04\" ry=\"18\"/>\n<text text-anchor=\"middle\" x=\"110.26\" y=\"-15.8\" font-family=\"Times,serif\" font-size=\"9.00\">PERSON</text>\n</g>\n<!-- casting&#45;&gt;person -->\n<g id=\"edge4\" class=\"edge\">\n<title>casting&#45;&gt;person</title>\n<path fill=\"none\" stroke=\"black\" d=\"M145.53,-55.68C141.01,-50.98 135.96,-45.72 131.11,-40.69\"/>\n<polygon fill=\"black\" stroke=\"black\" points=\"133.22,-38.34 124.71,-34.03 128.68,-42.7 133.22,-38.34\"/>\n</g>\n<!-- character -->\n<g id=\"node5\" class=\"node\">\n<title>character</title>\n<ellipse fill=\"none\" stroke=\"black\" cx=\"195.26\" cy=\"-18\" rx=\"40.98\" ry=\"18\"/>\n<text text-anchor=\"middle\" x=\"195.26\" y=\"-15.8\" font-family=\"Times,serif\" font-size=\"9.00\">CHARACTER</text>\n</g>\n<!-- casting&#45;&gt;character -->\n<g id=\"edge1\" class=\"edge\">\n<title>casting&#45;&gt;character</title>\n<path fill=\"none\" stroke=\"black\" d=\"M171.14,-54.83C173.57,-51.22 176.2,-47.31 178.8,-43.45\"/>\n<polygon fill=\"black\" stroke=\"black\" points=\"181.61,-44.92 184.02,-35.7 176.38,-41.4 181.61,-44.92\"/>\n</g>\n<!-- role -->\n<g id=\"node6\" class=\"node\">\n<title>role</title>\n<ellipse fill=\"none\" stroke=\"black\" cx=\"277.26\" cy=\"-18\" rx=\"27\" ry=\"18\"/>\n<text text-anchor=\"middle\" x=\"277.26\" y=\"-15.8\" font-family=\"Times,serif\" font-size=\"9.00\">ROLE</text>\n</g>\n<!-- casting&#45;&gt;role -->\n<g id=\"edge3\" class=\"edge\">\n<title>casting&#45;&gt;role</title>\n<path fill=\"none\" stroke=\"black\" d=\"M185.87,-60.7C202.38,-53.94 224.22,-44.76 243.26,-36 244.88,-35.25 246.53,-34.48 248.2,-33.68\"/>\n<polygon fill=\"black\" stroke=\"black\" points=\"249.79,-36.41 256.5,-29.64 247.03,-30.75 249.79,-36.41\"/>\n</g>\n<!-- movieinfo -->\n<g id=\"node3\" class=\"node\">\n<title>movieinfo</title>\n<ellipse fill=\"none\" stroke=\"black\" cx=\"39.26\" cy=\"-72\" rx=\"39.02\" ry=\"18\"/>\n<text text-anchor=\"middle\" x=\"39.26\" y=\"-69.8\" font-family=\"Times,serif\" font-size=\"9.00\">MOVIEINFO</text>\n</g>\n<!-- movieinfo&#45;&gt;movie -->\n<g id=\"edge5\" class=\"edge\">\n<title>movieinfo&#45;&gt;movie</title>\n<path fill=\"none\" stroke=\"black\" d=\"M39.26,-53.97C39.26,-51.22 39.26,-48.31 39.26,-45.4\"/>\n<polygon fill=\"black\" stroke=\"black\" points=\"42.41,-45.24 39.26,-36.24 36.11,-45.24 42.41,-45.24\"/>\n</g>\n</g>\n</svg>\n",
            "text/plain": [
              "<graphviz.graphs.Digraph at 0x7f45f96d1f40>"
            ]
          },
          "metadata": {}
        }
      ]
    },
    {
      "cell_type": "markdown",
      "source": [
        "#### Candidate Joining Networks\n",
        "\n",
        "The library returns, for each CJN, its Text representation, its Graph representation, its SQL translation and the returned results from the SQL execution by the RDBMS. The function `cjns` outputs the informatio about each CJN according to four boolean parameters: `text`, `graph`, `sql`, and `df`. The parameters `graph` and `df` are enabled by default.\n",
        "\n",
        "\n",
        "*The Graph representation may not be available in the static version of this notebook in Github. You can run it using Google Colab [here](https://colab.research.google.com/github/pr3martins/PyLatheDB/blob/main/demo/PyLatheDB_DEMO.ipynb).*"
      ],
      "metadata": {
        "id": "5i_gF-yrh3d4"
      }
    },
    {
      "cell_type": "code",
      "source": [
        "result.cjns(top_k=1,graph=True,text=True,sql=True,df=True)"
      ],
      "metadata": {
        "colab": {
          "base_uri": "https://localhost:8080/",
          "height": 779
        },
        "id": "IEq5hjlK8vUe",
        "outputId": "a282fd40-c015-4f0f-ad3a-99e7132f2c0f"
      },
      "execution_count": 17,
      "outputs": [
        {
          "output_type": "display_data",
          "data": {
            "text/plain": [
              "<IPython.core.display.Markdown object>"
            ],
            "text/markdown": "---"
          },
          "metadata": {}
        },
        {
          "output_type": "display_data",
          "data": {
            "text/plain": [
              "<IPython.core.display.Markdown object>"
            ],
            "text/markdown": "**1st CJN**:"
          },
          "metadata": {}
        },
        {
          "output_type": "display_data",
          "data": {
            "text/plain": [
              "<IPython.core.display.Markdown object>"
            ],
            "text/markdown": "---"
          },
          "metadata": {}
        },
        {
          "output_type": "stream",
          "name": "stdout",
          "text": [
            "Text:\n",
            "\tPERSON.v(name{roberts,julia})\n",
            "\t\t<CASTING\n",
            "\t\t\t>MOVIE.s(*{films})\n"
          ]
        },
        {
          "output_type": "display_data",
          "data": {
            "text/plain": [
              "<IPython.core.display.Markdown object>"
            ],
            "text/markdown": "---"
          },
          "metadata": {}
        },
        {
          "output_type": "stream",
          "name": "stdout",
          "text": [
            "Graph:\n"
          ]
        },
        {
          "output_type": "display_data",
          "data": {
            "image/svg+xml": "<?xml version=\"1.0\" encoding=\"UTF-8\" standalone=\"no\"?>\n<!DOCTYPE svg PUBLIC \"-//W3C//DTD SVG 1.1//EN\"\n \"http://www.w3.org/Graphics/SVG/1.1/DTD/svg11.dtd\">\n<!-- Generated by graphviz version 2.43.0 (0)\n -->\n<!-- Title: %3 Pages: 1 -->\n<svg width=\"280pt\" height=\"98pt\"\n viewBox=\"0.00 0.00 280.33 98.00\" xmlns=\"http://www.w3.org/2000/svg\" xmlns:xlink=\"http://www.w3.org/1999/xlink\">\n<g id=\"graph0\" class=\"graph\" transform=\"scale(1 1) rotate(0) translate(4 94)\">\n<title>%3</title>\n<polygon fill=\"white\" stroke=\"transparent\" points=\"-4,4 -4,-94 276.33,-94 276.33,4 -4,4\"/>\n<!-- t1 -->\n<g id=\"node1\" class=\"node\">\n<title>t1</title>\n<ellipse fill=\"none\" stroke=\"black\" cx=\"77.36\" cy=\"-18\" rx=\"77.23\" ry=\"18\"/>\n<text text-anchor=\"middle\" x=\"77.36\" y=\"-15.8\" font-family=\"Times,serif\" font-size=\"9.00\">PERSON.v(name{roberts,julia})</text>\n</g>\n<!-- t2 -->\n<g id=\"node2\" class=\"node\">\n<title>t2</title>\n<ellipse fill=\"none\" stroke=\"black\" cx=\"148.36\" cy=\"-72\" rx=\"32.16\" ry=\"18\"/>\n<text text-anchor=\"middle\" x=\"148.36\" y=\"-69.8\" font-family=\"Times,serif\" font-size=\"9.00\">CASTING</text>\n</g>\n<!-- t2&#45;&gt;t1 -->\n<g id=\"edge1\" class=\"edge\">\n<title>t2&#45;&gt;t1</title>\n<path fill=\"none\" stroke=\"black\" d=\"M129.34,-57.06C122.5,-52.06 114.61,-46.28 107.08,-40.76\"/>\n<polygon fill=\"black\" stroke=\"black\" points=\"108.84,-38.15 99.72,-35.37 105.12,-43.23 108.84,-38.15\"/>\n</g>\n<!-- t3 -->\n<g id=\"node3\" class=\"node\">\n<title>t3</title>\n<ellipse fill=\"none\" stroke=\"black\" cx=\"220.36\" cy=\"-18\" rx=\"51.92\" ry=\"18\"/>\n<text text-anchor=\"middle\" x=\"220.36\" y=\"-15.8\" font-family=\"Times,serif\" font-size=\"9.00\">MOVIE.s(*{films})</text>\n</g>\n<!-- t2&#45;&gt;t3 -->\n<g id=\"edge2\" class=\"edge\">\n<title>t2&#45;&gt;t3</title>\n<path fill=\"none\" stroke=\"black\" d=\"M167.28,-57.34C174.53,-52.1 182.98,-46 190.99,-40.22\"/>\n<polygon fill=\"black\" stroke=\"black\" points=\"193.32,-42.42 198.77,-34.59 189.63,-37.31 193.32,-42.42\"/>\n</g>\n</g>\n</svg>\n",
            "text/plain": [
              "<graphviz.graphs.Digraph at 0x7f45f96f3c40>"
            ]
          },
          "metadata": {}
        },
        {
          "output_type": "display_data",
          "data": {
            "text/plain": [
              "<IPython.core.display.Markdown object>"
            ],
            "text/markdown": "---"
          },
          "metadata": {}
        },
        {
          "output_type": "stream",
          "name": "stdout",
          "text": [
            "SQL:\n",
            "  \n",
            "  SELECT\n",
            "  \tt3.*,\n",
            "  \tt1.name\n",
            "  FROM\n",
            "  \t\"person\" t1\n",
            "  \tJOIN \"casting\" t2 ON t2.person_id = t1.id\n",
            "  \tJOIN \"movie\" t3 ON t2.movie_id = t3.id\n",
            "  WHERE\n",
            "  \tt1.name_tsvector @@ to_tsquery('roberts & julia')\n",
            "  LIMIT 1000;\n",
            "\n"
          ]
        },
        {
          "output_type": "display_data",
          "data": {
            "text/plain": [
              "<IPython.core.display.Markdown object>"
            ],
            "text/markdown": "---"
          },
          "metadata": {}
        },
        {
          "output_type": "stream",
          "name": "stdout",
          "text": [
            "JNTs:\n"
          ]
        },
        {
          "output_type": "display_data",
          "data": {
            "text/plain": [
              "       id                       title imdb_index  kind_id  year imdb_id  \\\n",
              "0    3161                20 Something       None        1  2006    None   \n",
              "1  175564                   Firehouse       None        1  1987    None   \n",
              "2  198621              Grand Champion       None        1  2002    None   \n",
              "3  304918  Ljuset håller mig sällskap       None        1  2000    None   \n",
              "4  422036               Runaway Bride       None        1  1999    None   \n",
              "\n",
              "  phonetic_code episode_of_id season_nr episode_nr series_years  __search_id  \\\n",
              "0         S5352          None      None       None         None     43788412   \n",
              "1           F62          None      None       None         None     43846816   \n",
              "2         G6532          None      None       None         None     43876968   \n",
              "3         L2346          None      None       None         None     44099445   \n",
              "4         R5163          None      None       None         None     44164278   \n",
              "\n",
              "             name  \n",
              "0  Roberts, Julia  \n",
              "1  Roberts, Julia  \n",
              "2  Roberts, Julia  \n",
              "3  Roberts, Julia  \n",
              "4  Roberts, Julia  "
            ],
            "text/html": [
              "\n",
              "  <div id=\"df-8e0dbe58-fadf-4d99-b61d-f95a390faf6c\">\n",
              "    <div class=\"colab-df-container\">\n",
              "      <div>\n",
              "<style scoped>\n",
              "    .dataframe tbody tr th:only-of-type {\n",
              "        vertical-align: middle;\n",
              "    }\n",
              "\n",
              "    .dataframe tbody tr th {\n",
              "        vertical-align: top;\n",
              "    }\n",
              "\n",
              "    .dataframe thead th {\n",
              "        text-align: right;\n",
              "    }\n",
              "</style>\n",
              "<table border=\"1\" class=\"dataframe\">\n",
              "  <thead>\n",
              "    <tr style=\"text-align: right;\">\n",
              "      <th></th>\n",
              "      <th>id</th>\n",
              "      <th>title</th>\n",
              "      <th>imdb_index</th>\n",
              "      <th>kind_id</th>\n",
              "      <th>year</th>\n",
              "      <th>imdb_id</th>\n",
              "      <th>phonetic_code</th>\n",
              "      <th>episode_of_id</th>\n",
              "      <th>season_nr</th>\n",
              "      <th>episode_nr</th>\n",
              "      <th>series_years</th>\n",
              "      <th>__search_id</th>\n",
              "      <th>name</th>\n",
              "    </tr>\n",
              "  </thead>\n",
              "  <tbody>\n",
              "    <tr>\n",
              "      <th>0</th>\n",
              "      <td>3161</td>\n",
              "      <td>20 Something</td>\n",
              "      <td>None</td>\n",
              "      <td>1</td>\n",
              "      <td>2006</td>\n",
              "      <td>None</td>\n",
              "      <td>S5352</td>\n",
              "      <td>None</td>\n",
              "      <td>None</td>\n",
              "      <td>None</td>\n",
              "      <td>None</td>\n",
              "      <td>43788412</td>\n",
              "      <td>Roberts, Julia</td>\n",
              "    </tr>\n",
              "    <tr>\n",
              "      <th>1</th>\n",
              "      <td>175564</td>\n",
              "      <td>Firehouse</td>\n",
              "      <td>None</td>\n",
              "      <td>1</td>\n",
              "      <td>1987</td>\n",
              "      <td>None</td>\n",
              "      <td>F62</td>\n",
              "      <td>None</td>\n",
              "      <td>None</td>\n",
              "      <td>None</td>\n",
              "      <td>None</td>\n",
              "      <td>43846816</td>\n",
              "      <td>Roberts, Julia</td>\n",
              "    </tr>\n",
              "    <tr>\n",
              "      <th>2</th>\n",
              "      <td>198621</td>\n",
              "      <td>Grand Champion</td>\n",
              "      <td>None</td>\n",
              "      <td>1</td>\n",
              "      <td>2002</td>\n",
              "      <td>None</td>\n",
              "      <td>G6532</td>\n",
              "      <td>None</td>\n",
              "      <td>None</td>\n",
              "      <td>None</td>\n",
              "      <td>None</td>\n",
              "      <td>43876968</td>\n",
              "      <td>Roberts, Julia</td>\n",
              "    </tr>\n",
              "    <tr>\n",
              "      <th>3</th>\n",
              "      <td>304918</td>\n",
              "      <td>Ljuset håller mig sällskap</td>\n",
              "      <td>None</td>\n",
              "      <td>1</td>\n",
              "      <td>2000</td>\n",
              "      <td>None</td>\n",
              "      <td>L2346</td>\n",
              "      <td>None</td>\n",
              "      <td>None</td>\n",
              "      <td>None</td>\n",
              "      <td>None</td>\n",
              "      <td>44099445</td>\n",
              "      <td>Roberts, Julia</td>\n",
              "    </tr>\n",
              "    <tr>\n",
              "      <th>4</th>\n",
              "      <td>422036</td>\n",
              "      <td>Runaway Bride</td>\n",
              "      <td>None</td>\n",
              "      <td>1</td>\n",
              "      <td>1999</td>\n",
              "      <td>None</td>\n",
              "      <td>R5163</td>\n",
              "      <td>None</td>\n",
              "      <td>None</td>\n",
              "      <td>None</td>\n",
              "      <td>None</td>\n",
              "      <td>44164278</td>\n",
              "      <td>Roberts, Julia</td>\n",
              "    </tr>\n",
              "  </tbody>\n",
              "</table>\n",
              "</div>\n",
              "      <button class=\"colab-df-convert\" onclick=\"convertToInteractive('df-8e0dbe58-fadf-4d99-b61d-f95a390faf6c')\"\n",
              "              title=\"Convert this dataframe to an interactive table.\"\n",
              "              style=\"display:none;\">\n",
              "        \n",
              "  <svg xmlns=\"http://www.w3.org/2000/svg\" height=\"24px\"viewBox=\"0 0 24 24\"\n",
              "       width=\"24px\">\n",
              "    <path d=\"M0 0h24v24H0V0z\" fill=\"none\"/>\n",
              "    <path d=\"M18.56 5.44l.94 2.06.94-2.06 2.06-.94-2.06-.94-.94-2.06-.94 2.06-2.06.94zm-11 1L8.5 8.5l.94-2.06 2.06-.94-2.06-.94L8.5 2.5l-.94 2.06-2.06.94zm10 10l.94 2.06.94-2.06 2.06-.94-2.06-.94-.94-2.06-.94 2.06-2.06.94z\"/><path d=\"M17.41 7.96l-1.37-1.37c-.4-.4-.92-.59-1.43-.59-.52 0-1.04.2-1.43.59L10.3 9.45l-7.72 7.72c-.78.78-.78 2.05 0 2.83L4 21.41c.39.39.9.59 1.41.59.51 0 1.02-.2 1.41-.59l7.78-7.78 2.81-2.81c.8-.78.8-2.07 0-2.86zM5.41 20L4 18.59l7.72-7.72 1.47 1.35L5.41 20z\"/>\n",
              "  </svg>\n",
              "      </button>\n",
              "      \n",
              "  <style>\n",
              "    .colab-df-container {\n",
              "      display:flex;\n",
              "      flex-wrap:wrap;\n",
              "      gap: 12px;\n",
              "    }\n",
              "\n",
              "    .colab-df-convert {\n",
              "      background-color: #E8F0FE;\n",
              "      border: none;\n",
              "      border-radius: 50%;\n",
              "      cursor: pointer;\n",
              "      display: none;\n",
              "      fill: #1967D2;\n",
              "      height: 32px;\n",
              "      padding: 0 0 0 0;\n",
              "      width: 32px;\n",
              "    }\n",
              "\n",
              "    .colab-df-convert:hover {\n",
              "      background-color: #E2EBFA;\n",
              "      box-shadow: 0px 1px 2px rgba(60, 64, 67, 0.3), 0px 1px 3px 1px rgba(60, 64, 67, 0.15);\n",
              "      fill: #174EA6;\n",
              "    }\n",
              "\n",
              "    [theme=dark] .colab-df-convert {\n",
              "      background-color: #3B4455;\n",
              "      fill: #D2E3FC;\n",
              "    }\n",
              "\n",
              "    [theme=dark] .colab-df-convert:hover {\n",
              "      background-color: #434B5C;\n",
              "      box-shadow: 0px 1px 3px 1px rgba(0, 0, 0, 0.15);\n",
              "      filter: drop-shadow(0px 1px 2px rgba(0, 0, 0, 0.3));\n",
              "      fill: #FFFFFF;\n",
              "    }\n",
              "  </style>\n",
              "\n",
              "      <script>\n",
              "        const buttonEl =\n",
              "          document.querySelector('#df-8e0dbe58-fadf-4d99-b61d-f95a390faf6c button.colab-df-convert');\n",
              "        buttonEl.style.display =\n",
              "          google.colab.kernel.accessAllowed ? 'block' : 'none';\n",
              "\n",
              "        async function convertToInteractive(key) {\n",
              "          const element = document.querySelector('#df-8e0dbe58-fadf-4d99-b61d-f95a390faf6c');\n",
              "          const dataTable =\n",
              "            await google.colab.kernel.invokeFunction('convertToInteractive',\n",
              "                                                     [key], {});\n",
              "          if (!dataTable) return;\n",
              "\n",
              "          const docLinkHtml = 'Like what you see? Visit the ' +\n",
              "            '<a target=\"_blank\" href=https://colab.research.google.com/notebooks/data_table.ipynb>data table notebook</a>'\n",
              "            + ' to learn more about interactive tables.';\n",
              "          element.innerHTML = '';\n",
              "          dataTable['output_type'] = 'display_data';\n",
              "          await google.colab.output.renderOutput(dataTable, element);\n",
              "          const docLink = document.createElement('div');\n",
              "          docLink.innerHTML = docLinkHtml;\n",
              "          element.appendChild(docLink);\n",
              "        }\n",
              "      </script>\n",
              "    </div>\n",
              "  </div>\n",
              "  "
            ],
            "application/vnd.google.colaboratory.module+javascript": "\n      import \"https://ssl.gstatic.com/colaboratory/data_table/99dac6621f6ae8c4/data_table.js\";\n\n      window.createDataTable({\n        data: [[{\n            'v': 0,\n            'f': \"0\",\n        },\n{\n            'v': 3161,\n            'f': \"3161\",\n        },\n\"20 Something\",\n{\n            'v': null,\n            'f': \"null\",\n        },\n{\n            'v': 1,\n            'f': \"1\",\n        },\n{\n            'v': 2006,\n            'f': \"2006\",\n        },\n{\n            'v': null,\n            'f': \"null\",\n        },\n\"S5352\",\n{\n            'v': null,\n            'f': \"null\",\n        },\n{\n            'v': null,\n            'f': \"null\",\n        },\n{\n            'v': null,\n            'f': \"null\",\n        },\n{\n            'v': null,\n            'f': \"null\",\n        },\n{\n            'v': 43788412,\n            'f': \"43788412\",\n        },\n\"Roberts, Julia\"],\n [{\n            'v': 1,\n            'f': \"1\",\n        },\n{\n            'v': 175564,\n            'f': \"175564\",\n        },\n\"Firehouse\",\n{\n            'v': null,\n            'f': \"null\",\n        },\n{\n            'v': 1,\n            'f': \"1\",\n        },\n{\n            'v': 1987,\n            'f': \"1987\",\n        },\n{\n            'v': null,\n            'f': \"null\",\n        },\n\"F62\",\n{\n            'v': null,\n            'f': \"null\",\n        },\n{\n            'v': null,\n            'f': \"null\",\n        },\n{\n            'v': null,\n            'f': \"null\",\n        },\n{\n            'v': null,\n            'f': \"null\",\n        },\n{\n            'v': 43846816,\n            'f': \"43846816\",\n        },\n\"Roberts, Julia\"],\n [{\n            'v': 2,\n            'f': \"2\",\n        },\n{\n            'v': 198621,\n            'f': \"198621\",\n        },\n\"Grand Champion\",\n{\n            'v': null,\n            'f': \"null\",\n        },\n{\n            'v': 1,\n            'f': \"1\",\n        },\n{\n            'v': 2002,\n            'f': \"2002\",\n        },\n{\n            'v': null,\n            'f': \"null\",\n        },\n\"G6532\",\n{\n            'v': null,\n            'f': \"null\",\n        },\n{\n            'v': null,\n            'f': \"null\",\n        },\n{\n            'v': null,\n            'f': \"null\",\n        },\n{\n            'v': null,\n            'f': \"null\",\n        },\n{\n            'v': 43876968,\n            'f': \"43876968\",\n        },\n\"Roberts, Julia\"],\n [{\n            'v': 3,\n            'f': \"3\",\n        },\n{\n            'v': 304918,\n            'f': \"304918\",\n        },\n\"Ljuset h\\u00e5ller mig s\\u00e4llskap\",\n{\n            'v': null,\n            'f': \"null\",\n        },\n{\n            'v': 1,\n            'f': \"1\",\n        },\n{\n            'v': 2000,\n            'f': \"2000\",\n        },\n{\n            'v': null,\n            'f': \"null\",\n        },\n\"L2346\",\n{\n            'v': null,\n            'f': \"null\",\n        },\n{\n            'v': null,\n            'f': \"null\",\n        },\n{\n            'v': null,\n            'f': \"null\",\n        },\n{\n            'v': null,\n            'f': \"null\",\n        },\n{\n            'v': 44099445,\n            'f': \"44099445\",\n        },\n\"Roberts, Julia\"],\n [{\n            'v': 4,\n            'f': \"4\",\n        },\n{\n            'v': 422036,\n            'f': \"422036\",\n        },\n\"Runaway Bride\",\n{\n            'v': null,\n            'f': \"null\",\n        },\n{\n            'v': 1,\n            'f': \"1\",\n        },\n{\n            'v': 1999,\n            'f': \"1999\",\n        },\n{\n            'v': null,\n            'f': \"null\",\n        },\n\"R5163\",\n{\n            'v': null,\n            'f': \"null\",\n        },\n{\n            'v': null,\n            'f': \"null\",\n        },\n{\n            'v': null,\n            'f': \"null\",\n        },\n{\n            'v': null,\n            'f': \"null\",\n        },\n{\n            'v': 44164278,\n            'f': \"44164278\",\n        },\n\"Roberts, Julia\"]],\n        columns: [[\"number\", \"index\"], [\"number\", \"id\"], [\"string\", \"title\"], [\"number\", \"imdb_index\"], [\"number\", \"kind_id\"], [\"number\", \"year\"], [\"number\", \"imdb_id\"], [\"string\", \"phonetic_code\"], [\"number\", \"episode_of_id\"], [\"number\", \"season_nr\"], [\"number\", \"episode_nr\"], [\"number\", \"series_years\"], [\"number\", \"__search_id\"], [\"string\", \"name\"]],\n        columnOptions: [{\"width\": \"1px\", \"className\": \"index_column\"}],\n        rowsPerPage: 25,\n        helpUrl: \"https://colab.research.google.com/notebooks/data_table.ipynb\",\n        suppressOutputScrolling: true,\n        minimumWidth: undefined,\n      });\n    "
          },
          "metadata": {}
        },
        {
          "output_type": "stream",
          "name": "stdout",
          "text": [
            "\n"
          ]
        }
      ]
    },
    {
      "cell_type": "code",
      "source": [
        "result = lathe.keyword_search('julia roberts films')\n",
        "result.cjns(df=False)"
      ],
      "metadata": {
        "colab": {
          "base_uri": "https://localhost:8080/",
          "height": 1000
        },
        "id": "J-fRKmuvP5qE",
        "outputId": "a7dc2492-a684-459c-a3ac-f3e7d89736f6"
      },
      "execution_count": 18,
      "outputs": [
        {
          "output_type": "stream",
          "name": "stdout",
          "text": [
            "Keyword Query: julia roberts films\n"
          ]
        },
        {
          "output_type": "display_data",
          "data": {
            "text/plain": [
              "<IPython.core.display.Markdown object>"
            ],
            "text/markdown": "---"
          },
          "metadata": {}
        },
        {
          "output_type": "display_data",
          "data": {
            "text/plain": [
              "<IPython.core.display.Markdown object>"
            ],
            "text/markdown": "**1st CJN**:"
          },
          "metadata": {}
        },
        {
          "output_type": "display_data",
          "data": {
            "text/plain": [
              "<IPython.core.display.Markdown object>"
            ],
            "text/markdown": "---"
          },
          "metadata": {}
        },
        {
          "output_type": "stream",
          "name": "stdout",
          "text": [
            "Graph:\n"
          ]
        },
        {
          "output_type": "display_data",
          "data": {
            "image/svg+xml": "<?xml version=\"1.0\" encoding=\"UTF-8\" standalone=\"no\"?>\n<!DOCTYPE svg PUBLIC \"-//W3C//DTD SVG 1.1//EN\"\n \"http://www.w3.org/Graphics/SVG/1.1/DTD/svg11.dtd\">\n<!-- Generated by graphviz version 2.43.0 (0)\n -->\n<!-- Title: %3 Pages: 1 -->\n<svg width=\"280pt\" height=\"98pt\"\n viewBox=\"0.00 0.00 280.33 98.00\" xmlns=\"http://www.w3.org/2000/svg\" xmlns:xlink=\"http://www.w3.org/1999/xlink\">\n<g id=\"graph0\" class=\"graph\" transform=\"scale(1 1) rotate(0) translate(4 94)\">\n<title>%3</title>\n<polygon fill=\"white\" stroke=\"transparent\" points=\"-4,4 -4,-94 276.33,-94 276.33,4 -4,4\"/>\n<!-- t1 -->\n<g id=\"node1\" class=\"node\">\n<title>t1</title>\n<ellipse fill=\"none\" stroke=\"black\" cx=\"77.36\" cy=\"-18\" rx=\"77.23\" ry=\"18\"/>\n<text text-anchor=\"middle\" x=\"77.36\" y=\"-15.8\" font-family=\"Times,serif\" font-size=\"9.00\">PERSON.v(name{roberts,julia})</text>\n</g>\n<!-- t2 -->\n<g id=\"node2\" class=\"node\">\n<title>t2</title>\n<ellipse fill=\"none\" stroke=\"black\" cx=\"148.36\" cy=\"-72\" rx=\"32.16\" ry=\"18\"/>\n<text text-anchor=\"middle\" x=\"148.36\" y=\"-69.8\" font-family=\"Times,serif\" font-size=\"9.00\">CASTING</text>\n</g>\n<!-- t2&#45;&gt;t1 -->\n<g id=\"edge1\" class=\"edge\">\n<title>t2&#45;&gt;t1</title>\n<path fill=\"none\" stroke=\"black\" d=\"M129.34,-57.06C122.5,-52.06 114.61,-46.28 107.08,-40.76\"/>\n<polygon fill=\"black\" stroke=\"black\" points=\"108.84,-38.15 99.72,-35.37 105.12,-43.23 108.84,-38.15\"/>\n</g>\n<!-- t3 -->\n<g id=\"node3\" class=\"node\">\n<title>t3</title>\n<ellipse fill=\"none\" stroke=\"black\" cx=\"220.36\" cy=\"-18\" rx=\"51.92\" ry=\"18\"/>\n<text text-anchor=\"middle\" x=\"220.36\" y=\"-15.8\" font-family=\"Times,serif\" font-size=\"9.00\">MOVIE.s(*{films})</text>\n</g>\n<!-- t2&#45;&gt;t3 -->\n<g id=\"edge2\" class=\"edge\">\n<title>t2&#45;&gt;t3</title>\n<path fill=\"none\" stroke=\"black\" d=\"M167.28,-57.34C174.53,-52.1 182.98,-46 190.99,-40.22\"/>\n<polygon fill=\"black\" stroke=\"black\" points=\"193.32,-42.42 198.77,-34.59 189.63,-37.31 193.32,-42.42\"/>\n</g>\n</g>\n</svg>\n",
            "text/plain": [
              "<graphviz.graphs.Digraph at 0x7f45f95c2310>"
            ]
          },
          "metadata": {}
        },
        {
          "output_type": "stream",
          "name": "stdout",
          "text": [
            "\n"
          ]
        },
        {
          "output_type": "display_data",
          "data": {
            "text/plain": [
              "<IPython.core.display.Markdown object>"
            ],
            "text/markdown": "---"
          },
          "metadata": {}
        },
        {
          "output_type": "display_data",
          "data": {
            "text/plain": [
              "<IPython.core.display.Markdown object>"
            ],
            "text/markdown": "**2nd CJN**:"
          },
          "metadata": {}
        },
        {
          "output_type": "display_data",
          "data": {
            "text/plain": [
              "<IPython.core.display.Markdown object>"
            ],
            "text/markdown": "---"
          },
          "metadata": {}
        },
        {
          "output_type": "stream",
          "name": "stdout",
          "text": [
            "Graph:\n"
          ]
        },
        {
          "output_type": "display_data",
          "data": {
            "image/svg+xml": "<?xml version=\"1.0\" encoding=\"UTF-8\" standalone=\"no\"?>\n<!DOCTYPE svg PUBLIC \"-//W3C//DTD SVG 1.1//EN\"\n \"http://www.w3.org/Graphics/SVG/1.1/DTD/svg11.dtd\">\n<!-- Generated by graphviz version 2.43.0 (0)\n -->\n<!-- Title: %3 Pages: 1 -->\n<svg width=\"201pt\" height=\"44pt\"\n viewBox=\"0.00 0.00 200.83 44.00\" xmlns=\"http://www.w3.org/2000/svg\" xmlns:xlink=\"http://www.w3.org/1999/xlink\">\n<g id=\"graph0\" class=\"graph\" transform=\"scale(1 1) rotate(0) translate(4 40)\">\n<title>%3</title>\n<polygon fill=\"white\" stroke=\"transparent\" points=\"-4,4 -4,-40 196.83,-40 196.83,4 -4,4\"/>\n<!-- t1 -->\n<g id=\"node1\" class=\"node\">\n<title>t1</title>\n<ellipse fill=\"none\" stroke=\"black\" cx=\"96.42\" cy=\"-18\" rx=\"96.34\" ry=\"18\"/>\n<text text-anchor=\"middle\" x=\"96.42\" y=\"-15.8\" font-family=\"Times,serif\" font-size=\"9.00\">MOVIE.s(*{films}).v(title{roberts,julia})</text>\n</g>\n</g>\n</svg>\n",
            "text/plain": [
              "<graphviz.graphs.Digraph at 0x7f45f95c2190>"
            ]
          },
          "metadata": {}
        },
        {
          "output_type": "stream",
          "name": "stdout",
          "text": [
            "\n"
          ]
        },
        {
          "output_type": "display_data",
          "data": {
            "text/plain": [
              "<IPython.core.display.Markdown object>"
            ],
            "text/markdown": "---"
          },
          "metadata": {}
        },
        {
          "output_type": "display_data",
          "data": {
            "text/plain": [
              "<IPython.core.display.Markdown object>"
            ],
            "text/markdown": "**3rd CJN**:"
          },
          "metadata": {}
        },
        {
          "output_type": "display_data",
          "data": {
            "text/plain": [
              "<IPython.core.display.Markdown object>"
            ],
            "text/markdown": "---"
          },
          "metadata": {}
        },
        {
          "output_type": "stream",
          "name": "stdout",
          "text": [
            "Graph:\n"
          ]
        },
        {
          "output_type": "display_data",
          "data": {
            "image/svg+xml": "<?xml version=\"1.0\" encoding=\"UTF-8\" standalone=\"no\"?>\n<!DOCTYPE svg PUBLIC \"-//W3C//DTD SVG 1.1//EN\"\n \"http://www.w3.org/Graphics/SVG/1.1/DTD/svg11.dtd\">\n<!-- Generated by graphviz version 2.43.0 (0)\n -->\n<!-- Title: %3 Pages: 1 -->\n<svg width=\"177pt\" height=\"98pt\"\n viewBox=\"0.00 0.00 176.59 98.00\" xmlns=\"http://www.w3.org/2000/svg\" xmlns:xlink=\"http://www.w3.org/1999/xlink\">\n<g id=\"graph0\" class=\"graph\" transform=\"scale(1 1) rotate(0) translate(4 94)\">\n<title>%3</title>\n<polygon fill=\"white\" stroke=\"transparent\" points=\"-4,4 -4,-94 172.59,-94 172.59,4 -4,4\"/>\n<!-- t1 -->\n<g id=\"node1\" class=\"node\">\n<title>t1</title>\n<ellipse fill=\"none\" stroke=\"black\" cx=\"84.29\" cy=\"-72\" rx=\"84.09\" ry=\"18\"/>\n<text text-anchor=\"middle\" x=\"84.29\" y=\"-69.8\" font-family=\"Times,serif\" font-size=\"9.00\">MOVIEINFO.v(info{roberts,julia})</text>\n</g>\n<!-- t2 -->\n<g id=\"node2\" class=\"node\">\n<title>t2</title>\n<ellipse fill=\"none\" stroke=\"black\" cx=\"84.29\" cy=\"-18\" rx=\"51.92\" ry=\"18\"/>\n<text text-anchor=\"middle\" x=\"84.29\" y=\"-15.8\" font-family=\"Times,serif\" font-size=\"9.00\">MOVIE.s(*{films})</text>\n</g>\n<!-- t1&#45;&gt;t2 -->\n<g id=\"edge1\" class=\"edge\">\n<title>t1&#45;&gt;t2</title>\n<path fill=\"none\" stroke=\"black\" d=\"M84.29,-53.97C84.29,-51.22 84.29,-48.31 84.29,-45.4\"/>\n<polygon fill=\"black\" stroke=\"black\" points=\"87.44,-45.24 84.29,-36.24 81.14,-45.24 87.44,-45.24\"/>\n</g>\n</g>\n</svg>\n",
            "text/plain": [
              "<graphviz.graphs.Digraph at 0x7f460710f9d0>"
            ]
          },
          "metadata": {}
        },
        {
          "output_type": "stream",
          "name": "stdout",
          "text": [
            "\n"
          ]
        },
        {
          "output_type": "display_data",
          "data": {
            "text/plain": [
              "<IPython.core.display.Markdown object>"
            ],
            "text/markdown": "---"
          },
          "metadata": {}
        },
        {
          "output_type": "display_data",
          "data": {
            "text/plain": [
              "<IPython.core.display.Markdown object>"
            ],
            "text/markdown": "**4th CJN**:"
          },
          "metadata": {}
        },
        {
          "output_type": "display_data",
          "data": {
            "text/plain": [
              "<IPython.core.display.Markdown object>"
            ],
            "text/markdown": "---"
          },
          "metadata": {}
        },
        {
          "output_type": "stream",
          "name": "stdout",
          "text": [
            "Graph:\n"
          ]
        },
        {
          "output_type": "display_data",
          "data": {
            "image/svg+xml": "<?xml version=\"1.0\" encoding=\"UTF-8\" standalone=\"no\"?>\n<!DOCTYPE svg PUBLIC \"-//W3C//DTD SVG 1.1//EN\"\n \"http://www.w3.org/Graphics/SVG/1.1/DTD/svg11.dtd\">\n<!-- Generated by graphviz version 2.43.0 (0)\n -->\n<!-- Title: %3 Pages: 1 -->\n<svg width=\"399pt\" height=\"98pt\"\n viewBox=\"0.00 0.00 399.33 98.00\" xmlns=\"http://www.w3.org/2000/svg\" xmlns:xlink=\"http://www.w3.org/1999/xlink\">\n<g id=\"graph0\" class=\"graph\" transform=\"scale(1 1) rotate(0) translate(4 94)\">\n<title>%3</title>\n<polygon fill=\"white\" stroke=\"transparent\" points=\"-4,4 -4,-94 395.33,-94 395.33,4 -4,4\"/>\n<!-- t1 -->\n<g id=\"node1\" class=\"node\">\n<title>t1</title>\n<ellipse fill=\"none\" stroke=\"black\" cx=\"61.78\" cy=\"-18\" rx=\"61.55\" ry=\"18\"/>\n<text text-anchor=\"middle\" x=\"61.78\" y=\"-15.8\" font-family=\"Times,serif\" font-size=\"9.00\">PERSON.v(name{julia})</text>\n</g>\n<!-- t2 -->\n<g id=\"node2\" class=\"node\">\n<title>t2</title>\n<ellipse fill=\"none\" stroke=\"black\" cx=\"137.78\" cy=\"-72\" rx=\"32.16\" ry=\"18\"/>\n<text text-anchor=\"middle\" x=\"137.78\" y=\"-69.8\" font-family=\"Times,serif\" font-size=\"9.00\">CASTING</text>\n</g>\n<!-- t2&#45;&gt;t1 -->\n<g id=\"edge2\" class=\"edge\">\n<title>t2&#45;&gt;t1</title>\n<path fill=\"none\" stroke=\"black\" d=\"M118.2,-57.61C110.31,-52.21 101.02,-45.85 92.28,-39.87\"/>\n<polygon fill=\"black\" stroke=\"black\" points=\"94,-37.23 84.79,-34.75 90.44,-42.43 94,-37.23\"/>\n</g>\n<!-- t3 -->\n<g id=\"node3\" class=\"node\">\n<title>t3</title>\n<ellipse fill=\"none\" stroke=\"black\" cx=\"189.78\" cy=\"-18\" rx=\"51.92\" ry=\"18\"/>\n<text text-anchor=\"middle\" x=\"189.78\" y=\"-15.8\" font-family=\"Times,serif\" font-size=\"9.00\">MOVIE.s(*{films})</text>\n</g>\n<!-- t2&#45;&gt;t3 -->\n<g id=\"edge1\" class=\"edge\">\n<title>t2&#45;&gt;t3</title>\n<path fill=\"none\" stroke=\"black\" d=\"M152.82,-55.96C157.27,-51.51 162.25,-46.53 167.08,-41.7\"/>\n<polygon fill=\"black\" stroke=\"black\" points=\"169.36,-43.87 173.5,-35.28 164.91,-39.42 169.36,-43.87\"/>\n</g>\n<!-- t4 -->\n<g id=\"node4\" class=\"node\">\n<title>t4</title>\n<ellipse fill=\"none\" stroke=\"black\" cx=\"240.78\" cy=\"-72\" rx=\"32.16\" ry=\"18\"/>\n<text text-anchor=\"middle\" x=\"240.78\" y=\"-69.8\" font-family=\"Times,serif\" font-size=\"9.00\">CASTING</text>\n</g>\n<!-- t4&#45;&gt;t3 -->\n<g id=\"edge3\" class=\"edge\">\n<title>t4&#45;&gt;t3</title>\n<path fill=\"none\" stroke=\"black\" d=\"M226.03,-55.96C221.76,-51.61 216.99,-46.75 212.36,-42.03\"/>\n<polygon fill=\"black\" stroke=\"black\" points=\"214.29,-39.5 205.74,-35.28 209.8,-43.91 214.29,-39.5\"/>\n</g>\n<!-- t5 -->\n<g id=\"node5\" class=\"node\">\n<title>t5</title>\n<ellipse fill=\"none\" stroke=\"black\" cx=\"323.78\" cy=\"-18\" rx=\"67.6\" ry=\"18\"/>\n<text text-anchor=\"middle\" x=\"323.78\" y=\"-15.8\" font-family=\"Times,serif\" font-size=\"9.00\">PERSON.v(name{roberts})</text>\n</g>\n<!-- t4&#45;&gt;t5 -->\n<g id=\"edge4\" class=\"edge\">\n<title>t4&#45;&gt;t5</title>\n<path fill=\"none\" stroke=\"black\" d=\"M261.72,-57.88C270.51,-52.37 280.95,-45.83 290.73,-39.7\"/>\n<polygon fill=\"black\" stroke=\"black\" points=\"292.44,-42.35 298.39,-34.9 289.1,-37.01 292.44,-42.35\"/>\n</g>\n</g>\n</svg>\n",
            "text/plain": [
              "<graphviz.graphs.Digraph at 0x7f45f95c2550>"
            ]
          },
          "metadata": {}
        },
        {
          "output_type": "stream",
          "name": "stdout",
          "text": [
            "\n"
          ]
        },
        {
          "output_type": "display_data",
          "data": {
            "text/plain": [
              "<IPython.core.display.Markdown object>"
            ],
            "text/markdown": "---"
          },
          "metadata": {}
        },
        {
          "output_type": "display_data",
          "data": {
            "text/plain": [
              "<IPython.core.display.Markdown object>"
            ],
            "text/markdown": "**5th CJN**:"
          },
          "metadata": {}
        },
        {
          "output_type": "display_data",
          "data": {
            "text/plain": [
              "<IPython.core.display.Markdown object>"
            ],
            "text/markdown": "---"
          },
          "metadata": {}
        },
        {
          "output_type": "stream",
          "name": "stdout",
          "text": [
            "Graph:\n"
          ]
        },
        {
          "output_type": "display_data",
          "data": {
            "image/svg+xml": "<?xml version=\"1.0\" encoding=\"UTF-8\" standalone=\"no\"?>\n<!DOCTYPE svg PUBLIC \"-//W3C//DTD SVG 1.1//EN\"\n \"http://www.w3.org/Graphics/SVG/1.1/DTD/svg11.dtd\">\n<!-- Generated by graphviz version 2.43.0 (0)\n -->\n<!-- Title: %3 Pages: 1 -->\n<svg width=\"292pt\" height=\"98pt\"\n viewBox=\"0.00 0.00 291.52 98.00\" xmlns=\"http://www.w3.org/2000/svg\" xmlns:xlink=\"http://www.w3.org/1999/xlink\">\n<g id=\"graph0\" class=\"graph\" transform=\"scale(1 1) rotate(0) translate(4 94)\">\n<title>%3</title>\n<polygon fill=\"white\" stroke=\"transparent\" points=\"-4,4 -4,-94 287.52,-94 287.52,4 -4,4\"/>\n<!-- t1 -->\n<g id=\"node1\" class=\"node\">\n<title>t1</title>\n<ellipse fill=\"none\" stroke=\"black\" cx=\"77.36\" cy=\"-18\" rx=\"77.23\" ry=\"18\"/>\n<text text-anchor=\"middle\" x=\"77.36\" y=\"-15.8\" font-family=\"Times,serif\" font-size=\"9.00\">PERSON.v(name{roberts,julia})</text>\n</g>\n<!-- t2 -->\n<g id=\"node2\" class=\"node\">\n<title>t2</title>\n<ellipse fill=\"none\" stroke=\"black\" cx=\"151.36\" cy=\"-72\" rx=\"32.16\" ry=\"18\"/>\n<text text-anchor=\"middle\" x=\"151.36\" y=\"-69.8\" font-family=\"Times,serif\" font-size=\"9.00\">CASTING</text>\n</g>\n<!-- t2&#45;&gt;t1 -->\n<g id=\"edge1\" class=\"edge\">\n<title>t2&#45;&gt;t1</title>\n<path fill=\"none\" stroke=\"black\" d=\"M131.92,-57.34C124.73,-52.28 116.38,-46.42 108.41,-40.82\"/>\n<polygon fill=\"black\" stroke=\"black\" points=\"109.8,-37.94 100.63,-35.35 106.18,-43.1 109.8,-37.94\"/>\n</g>\n<!-- t3 -->\n<g id=\"node3\" class=\"node\">\n<title>t3</title>\n<ellipse fill=\"none\" stroke=\"black\" cx=\"226.36\" cy=\"-18\" rx=\"57.32\" ry=\"18\"/>\n<text text-anchor=\"middle\" x=\"226.36\" y=\"-15.8\" font-family=\"Times,serif\" font-size=\"9.00\">MOVIE.v(title{films})</text>\n</g>\n<!-- t2&#45;&gt;t3 -->\n<g id=\"edge2\" class=\"edge\">\n<title>t2&#45;&gt;t3</title>\n<path fill=\"none\" stroke=\"black\" d=\"M171.07,-57.34C178.78,-51.99 187.79,-45.74 196.28,-39.86\"/>\n<polygon fill=\"black\" stroke=\"black\" points=\"198.27,-42.31 203.88,-34.59 194.68,-37.13 198.27,-42.31\"/>\n</g>\n</g>\n</svg>\n",
            "text/plain": [
              "<graphviz.graphs.Digraph at 0x7f460710f9d0>"
            ]
          },
          "metadata": {}
        },
        {
          "output_type": "stream",
          "name": "stdout",
          "text": [
            "\n"
          ]
        }
      ]
    },
    {
      "cell_type": "markdown",
      "source": [
        "### Keyword Search on MONDIAL dataset"
      ],
      "metadata": {
        "id": "EwLLNTCSNiwl"
      }
    },
    {
      "cell_type": "code",
      "source": [
        "lathe.change_queryset(2)\n",
        "lathe.index_handler.schema_graph.show()"
      ],
      "metadata": {
        "colab": {
          "base_uri": "https://localhost:8080/",
          "height": 364
        },
        "id": "vg4fb8vXLlvl",
        "outputId": "63b47635-4b84-4daf-919c-ee6227d6f0c4"
      },
      "execution_count": 19,
      "outputs": [
        {
          "output_type": "stream",
          "name": "stdout",
          "text": [
            "./config/queryset_configs/coffman_mondial_config.json\n",
            "Changed to query set coffman_mondial.\n",
            "Changed to dataset mondial.\n",
            "Graph:\n"
          ]
        },
        {
          "output_type": "display_data",
          "data": {
            "image/svg+xml": "<?xml version=\"1.0\" encoding=\"UTF-8\" standalone=\"no\"?>\n<!DOCTYPE svg PUBLIC \"-//W3C//DTD SVG 1.1//EN\"\n \"http://www.w3.org/Graphics/SVG/1.1/DTD/svg11.dtd\">\n<!-- Generated by graphviz version 2.43.0 (0)\n -->\n<!-- Title: %3 Pages: 1 -->\n<svg width=\"1025pt\" height=\"206pt\"\n viewBox=\"0.00 0.00 1024.93 206.00\" xmlns=\"http://www.w3.org/2000/svg\" xmlns:xlink=\"http://www.w3.org/1999/xlink\">\n<g id=\"graph0\" class=\"graph\" transform=\"scale(1 1) rotate(0) translate(4 202)\">\n<title>%3</title>\n<polygon fill=\"white\" stroke=\"transparent\" points=\"-4,4 -4,-202 1020.93,-202 1020.93,4 -4,4\"/>\n<!-- borders -->\n<g id=\"node1\" class=\"node\">\n<title>borders</title>\n<ellipse fill=\"none\" stroke=\"black\" cx=\"585.37\" cy=\"-180\" rx=\"34.13\" ry=\"18\"/>\n<text text-anchor=\"middle\" x=\"585.37\" y=\"-177.8\" font-family=\"Times,serif\" font-size=\"9.00\">BORDERS</text>\n</g>\n<!-- country -->\n<g id=\"node2\" class=\"node\">\n<title>country</title>\n<ellipse fill=\"none\" stroke=\"black\" cx=\"413.37\" cy=\"-126\" rx=\"34.78\" ry=\"18\"/>\n<text text-anchor=\"middle\" x=\"413.37\" y=\"-123.8\" font-family=\"Times,serif\" font-size=\"9.00\">COUNTRY</text>\n</g>\n<!-- borders&#45;&gt;country -->\n<g id=\"edge1\" class=\"edge\">\n<title>borders&#45;&gt;country</title>\n<path fill=\"none\" stroke=\"black\" d=\"M559.98,-167.86C554.86,-165.79 549.48,-163.73 544.37,-162 527.51,-156.28 484.83,-145.1 452.74,-136.91\"/>\n<polygon fill=\"black\" stroke=\"black\" points=\"453.49,-133.85 444,-134.68 451.94,-139.96 453.49,-133.85\"/>\n</g>\n<!-- city -->\n<g id=\"node3\" class=\"node\">\n<title>city</title>\n<ellipse fill=\"none\" stroke=\"black\" cx=\"437.37\" cy=\"-72\" rx=\"27\" ry=\"18\"/>\n<text text-anchor=\"middle\" x=\"437.37\" y=\"-69.8\" font-family=\"Times,serif\" font-size=\"9.00\">CITY</text>\n</g>\n<!-- country&#45;&gt;city -->\n<g id=\"edge2\" class=\"edge\">\n<title>country&#45;&gt;city</title>\n<path fill=\"none\" stroke=\"black\" d=\"M421.1,-108.26C422.67,-104.85 424.36,-101.2 426.02,-97.59\"/>\n<polygon fill=\"black\" stroke=\"black\" points=\"428.91,-98.84 429.83,-89.35 423.19,-96.2 428.91,-98.84\"/>\n</g>\n<!-- province -->\n<g id=\"node4\" class=\"node\">\n<title>province</title>\n<ellipse fill=\"none\" stroke=\"black\" cx=\"437.37\" cy=\"-18\" rx=\"35.59\" ry=\"18\"/>\n<text text-anchor=\"middle\" x=\"437.37\" y=\"-15.8\" font-family=\"Times,serif\" font-size=\"9.00\">PROVINCE</text>\n</g>\n<!-- city&#45;&gt;province -->\n<g id=\"edge3\" class=\"edge\">\n<title>city&#45;&gt;province</title>\n<path fill=\"none\" stroke=\"black\" d=\"M432.43,-54.26C432.23,-51.35 432.13,-48.26 432.12,-45.17\"/>\n<polygon fill=\"black\" stroke=\"black\" points=\"435.28,-45.16 432.41,-36.06 428.98,-44.96 435.28,-45.16\"/>\n</g>\n<!-- province&#45;&gt;country -->\n<g id=\"edge4\" class=\"edge\">\n<title>province&#45;&gt;country</title>\n<path fill=\"none\" stroke=\"black\" d=\"M418.43,-33.41C412.44,-39.09 406.56,-46.15 403.37,-54 397.5,-68.48 399.79,-85.82 403.65,-99.75\"/>\n<polygon fill=\"black\" stroke=\"black\" points=\"400.64,-100.69 406.34,-108.34 406.65,-98.81 400.64,-100.69\"/>\n</g>\n<!-- province&#45;&gt;city -->\n<g id=\"edge5\" class=\"edge\">\n<title>province&#45;&gt;city</title>\n<path fill=\"none\" stroke=\"black\" d=\"M442.34,-36.06C442.53,-38.99 442.63,-42.08 442.62,-45.17\"/>\n<polygon fill=\"black\" stroke=\"black\" points=\"439.47,-45.16 442.32,-54.26 445.77,-45.37 439.47,-45.16\"/>\n</g>\n<!-- economy -->\n<g id=\"node5\" class=\"node\">\n<title>economy</title>\n<ellipse fill=\"none\" stroke=\"black\" cx=\"36.37\" cy=\"-180\" rx=\"36.25\" ry=\"18\"/>\n<text text-anchor=\"middle\" x=\"36.37\" y=\"-177.8\" font-family=\"Times,serif\" font-size=\"9.00\">ECONOMY</text>\n</g>\n<!-- economy&#45;&gt;country -->\n<g id=\"edge6\" class=\"edge\">\n<title>economy&#45;&gt;country</title>\n<path fill=\"none\" stroke=\"black\" d=\"M62.38,-167.41C67.9,-165.32 73.76,-163.38 79.37,-162 181.38,-136.99 305.21,-129.85 369.64,-127.81\"/>\n<polygon fill=\"black\" stroke=\"black\" points=\"369.8,-130.96 378.71,-127.54 369.62,-124.66 369.8,-130.96\"/>\n</g>\n<!-- encompasses -->\n<g id=\"node6\" class=\"node\">\n<title>encompasses</title>\n<ellipse fill=\"none\" stroke=\"black\" cx=\"830.37\" cy=\"-180\" rx=\"47.19\" ry=\"18\"/>\n<text text-anchor=\"middle\" x=\"830.37\" y=\"-177.8\" font-family=\"Times,serif\" font-size=\"9.00\">ENCOMPASSES</text>\n</g>\n<!-- encompasses&#45;&gt;country -->\n<g id=\"edge8\" class=\"edge\">\n<title>encompasses&#45;&gt;country</title>\n<path fill=\"none\" stroke=\"black\" d=\"M787.93,-171.79C767.03,-168.44 741.43,-164.62 718.37,-162 613.41,-150.07 585.65,-160.87 481.37,-144 471.72,-142.44 461.43,-140.18 451.86,-137.82\"/>\n<polygon fill=\"black\" stroke=\"black\" points=\"452.44,-134.72 442.94,-135.55 450.88,-140.83 452.44,-134.72\"/>\n</g>\n<!-- continent -->\n<g id=\"node7\" class=\"node\">\n<title>continent</title>\n<ellipse fill=\"none\" stroke=\"black\" cx=\"886.37\" cy=\"-126\" rx=\"39.02\" ry=\"18\"/>\n<text text-anchor=\"middle\" x=\"886.37\" y=\"-123.8\" font-family=\"Times,serif\" font-size=\"9.00\">CONTINENT</text>\n</g>\n<!-- encompasses&#45;&gt;continent -->\n<g id=\"edge7\" class=\"edge\">\n<title>encompasses&#45;&gt;continent</title>\n<path fill=\"none\" stroke=\"black\" d=\"M847.48,-163.12C852.34,-158.6 857.73,-153.6 862.9,-148.79\"/>\n<polygon fill=\"black\" stroke=\"black\" points=\"865.3,-150.86 869.76,-142.43 861.02,-146.25 865.3,-150.86\"/>\n</g>\n<!-- ethnic_group -->\n<g id=\"node8\" class=\"node\">\n<title>ethnic_group</title>\n<ellipse fill=\"none\" stroke=\"black\" cx=\"136.37\" cy=\"-180\" rx=\"49.8\" ry=\"18\"/>\n<text text-anchor=\"middle\" x=\"136.37\" y=\"-177.8\" font-family=\"Times,serif\" font-size=\"9.00\">ETHNIC_GROUP</text>\n</g>\n<!-- ethnic_group&#45;&gt;country -->\n<g id=\"edge9\" class=\"edge\">\n<title>ethnic_group&#45;&gt;country</title>\n<path fill=\"none\" stroke=\"black\" d=\"M172.37,-167.48C179.29,-165.49 186.53,-163.56 193.37,-162 254.46,-148.1 326.32,-137.78 370.86,-132.07\"/>\n<polygon fill=\"black\" stroke=\"black\" points=\"371.41,-135.18 379.94,-130.92 370.62,-128.93 371.41,-135.18\"/>\n</g>\n<!-- geo_desert -->\n<g id=\"node9\" class=\"node\">\n<title>geo_desert</title>\n<ellipse fill=\"none\" stroke=\"black\" cx=\"224.37\" cy=\"-72\" rx=\"42.29\" ry=\"18\"/>\n<text text-anchor=\"middle\" x=\"224.37\" y=\"-69.8\" font-family=\"Times,serif\" font-size=\"9.00\">GEO_DESERT</text>\n</g>\n<!-- geo_desert&#45;&gt;province -->\n<g id=\"edge10\" class=\"edge\">\n<title>geo_desert&#45;&gt;province</title>\n<path fill=\"none\" stroke=\"black\" d=\"M255.29,-59.6C261.25,-57.6 267.47,-55.63 273.37,-54 311.01,-43.58 321.18,-44.16 359.37,-36 371.36,-33.44 384.38,-30.62 396.28,-28.02\"/>\n<polygon fill=\"black\" stroke=\"black\" points=\"397.01,-31.09 405.13,-26.09 395.66,-24.93 397.01,-31.09\"/>\n</g>\n<!-- desert -->\n<g id=\"node10\" class=\"node\">\n<title>desert</title>\n<ellipse fill=\"none\" stroke=\"black\" cx=\"224.37\" cy=\"-18\" rx=\"28.74\" ry=\"18\"/>\n<text text-anchor=\"middle\" x=\"224.37\" y=\"-15.8\" font-family=\"Times,serif\" font-size=\"9.00\">DESERT</text>\n</g>\n<!-- geo_desert&#45;&gt;desert -->\n<g id=\"edge11\" class=\"edge\">\n<title>geo_desert&#45;&gt;desert</title>\n<path fill=\"none\" stroke=\"black\" d=\"M224.37,-53.97C224.37,-51.22 224.37,-48.31 224.37,-45.4\"/>\n<polygon fill=\"black\" stroke=\"black\" points=\"227.52,-45.24 224.37,-36.24 221.22,-45.24 227.52,-45.24\"/>\n</g>\n<!-- geo_island -->\n<g id=\"node11\" class=\"node\">\n<title>geo_island</title>\n<ellipse fill=\"none\" stroke=\"black\" cx=\"323.37\" cy=\"-72\" rx=\"42.95\" ry=\"18\"/>\n<text text-anchor=\"middle\" x=\"323.37\" y=\"-69.8\" font-family=\"Times,serif\" font-size=\"9.00\">GEO_ISLAND</text>\n</g>\n<!-- geo_island&#45;&gt;province -->\n<g id=\"edge12\" class=\"edge\">\n<title>geo_island&#45;&gt;province</title>\n<path fill=\"none\" stroke=\"black\" d=\"M351.26,-58.28C366.98,-51.11 386.73,-42.1 403.35,-34.52\"/>\n<polygon fill=\"black\" stroke=\"black\" points=\"404.84,-37.3 411.72,-30.7 402.23,-31.57 404.84,-37.3\"/>\n</g>\n<!-- island -->\n<g id=\"node12\" class=\"node\">\n<title>island</title>\n<ellipse fill=\"none\" stroke=\"black\" cx=\"323.37\" cy=\"-18\" rx=\"28.74\" ry=\"18\"/>\n<text text-anchor=\"middle\" x=\"323.37\" y=\"-15.8\" font-family=\"Times,serif\" font-size=\"9.00\">ISLAND</text>\n</g>\n<!-- geo_island&#45;&gt;island -->\n<g id=\"edge13\" class=\"edge\">\n<title>geo_island&#45;&gt;island</title>\n<path fill=\"none\" stroke=\"black\" d=\"M323.37,-53.97C323.37,-51.22 323.37,-48.31 323.37,-45.4\"/>\n<polygon fill=\"black\" stroke=\"black\" points=\"326.52,-45.24 323.37,-36.24 320.22,-45.24 326.52,-45.24\"/>\n</g>\n<!-- geo_lake -->\n<g id=\"node13\" class=\"node\">\n<title>geo_lake</title>\n<ellipse fill=\"none\" stroke=\"black\" cx=\"661.37\" cy=\"-72\" rx=\"36.9\" ry=\"18\"/>\n<text text-anchor=\"middle\" x=\"661.37\" y=\"-69.8\" font-family=\"Times,serif\" font-size=\"9.00\">GEO_LAKE</text>\n</g>\n<!-- geo_lake&#45;&gt;province -->\n<g id=\"edge14\" class=\"edge\">\n<title>geo_lake&#45;&gt;province</title>\n<path fill=\"none\" stroke=\"black\" d=\"M634.19,-59.55C628.69,-57.5 622.9,-55.53 617.37,-54 572.6,-41.57 559.96,-45.01 514.37,-36 502.61,-33.67 489.88,-30.95 478.23,-28.37\"/>\n<polygon fill=\"black\" stroke=\"black\" points=\"478.62,-25.23 469.15,-26.35 477.25,-31.38 478.62,-25.23\"/>\n</g>\n<!-- lake -->\n<g id=\"node14\" class=\"node\">\n<title>lake</title>\n<ellipse fill=\"none\" stroke=\"black\" cx=\"800.37\" cy=\"-18\" rx=\"27\" ry=\"18\"/>\n<text text-anchor=\"middle\" x=\"800.37\" y=\"-15.8\" font-family=\"Times,serif\" font-size=\"9.00\">LAKE</text>\n</g>\n<!-- geo_lake&#45;&gt;lake -->\n<g id=\"edge15\" class=\"edge\">\n<title>geo_lake&#45;&gt;lake</title>\n<path fill=\"none\" stroke=\"black\" d=\"M689.28,-60.14C694.62,-58.09 700.16,-55.97 705.37,-54 726.43,-46.05 750.19,-37.3 768.68,-30.54\"/>\n<polygon fill=\"black\" stroke=\"black\" points=\"769.93,-33.43 777.3,-27.39 767.76,-27.52 769.93,-33.43\"/>\n</g>\n<!-- geo_mountain -->\n<g id=\"node15\" class=\"node\">\n<title>geo_mountain</title>\n<ellipse fill=\"none\" stroke=\"black\" cx=\"559.37\" cy=\"-72\" rx=\"51.27\" ry=\"18\"/>\n<text text-anchor=\"middle\" x=\"559.37\" y=\"-69.8\" font-family=\"Times,serif\" font-size=\"9.00\">GEO_MOUNTAIN</text>\n</g>\n<!-- geo_mountain&#45;&gt;province -->\n<g id=\"edge16\" class=\"edge\">\n<title>geo_mountain&#45;&gt;province</title>\n<path fill=\"none\" stroke=\"black\" d=\"M527.96,-57.61C510.85,-50.32 489.64,-41.28 472.05,-33.78\"/>\n<polygon fill=\"black\" stroke=\"black\" points=\"473.25,-30.87 463.73,-30.24 470.78,-36.66 473.25,-30.87\"/>\n</g>\n<!-- mountain -->\n<g id=\"node16\" class=\"node\">\n<title>mountain</title>\n<ellipse fill=\"none\" stroke=\"black\" cx=\"559.37\" cy=\"-18\" rx=\"38.21\" ry=\"18\"/>\n<text text-anchor=\"middle\" x=\"559.37\" y=\"-15.8\" font-family=\"Times,serif\" font-size=\"9.00\">MOUNTAIN</text>\n</g>\n<!-- geo_mountain&#45;&gt;mountain -->\n<g id=\"edge17\" class=\"edge\">\n<title>geo_mountain&#45;&gt;mountain</title>\n<path fill=\"none\" stroke=\"black\" d=\"M559.37,-53.97C559.37,-51.22 559.37,-48.31 559.37,-45.4\"/>\n<polygon fill=\"black\" stroke=\"black\" points=\"562.52,-45.24 559.37,-36.24 556.22,-45.24 562.52,-45.24\"/>\n</g>\n<!-- geo_river -->\n<g id=\"node17\" class=\"node\">\n<title>geo_river</title>\n<ellipse fill=\"none\" stroke=\"black\" cx=\"689.37\" cy=\"-126\" rx=\"38.87\" ry=\"18\"/>\n<text text-anchor=\"middle\" x=\"689.37\" y=\"-123.8\" font-family=\"Times,serif\" font-size=\"9.00\">GEO_RIVER</text>\n</g>\n<!-- geo_river&#45;&gt;province -->\n<g id=\"edge18\" class=\"edge\">\n<title>geo_river&#45;&gt;province</title>\n<path fill=\"none\" stroke=\"black\" d=\"M653.91,-118.71C600.35,-109.17 504.67,-91.93 501.37,-90 483.4,-79.47 485.31,-69.48 471.37,-54 467.51,-49.7 463.28,-45.21 459.17,-40.93\"/>\n<polygon fill=\"black\" stroke=\"black\" points=\"461.4,-38.7 452.86,-34.44 456.88,-43.09 461.4,-38.7\"/>\n</g>\n<!-- river -->\n<g id=\"node18\" class=\"node\">\n<title>river</title>\n<ellipse fill=\"none\" stroke=\"black\" cx=\"849.37\" cy=\"-72\" rx=\"27\" ry=\"18\"/>\n<text text-anchor=\"middle\" x=\"849.37\" y=\"-69.8\" font-family=\"Times,serif\" font-size=\"9.00\">RIVER</text>\n</g>\n<!-- geo_river&#45;&gt;river -->\n<g id=\"edge19\" class=\"edge\">\n<title>geo_river&#45;&gt;river</title>\n<path fill=\"none\" stroke=\"black\" d=\"M720.22,-114.97C747.92,-105.97 788.45,-92.8 816.69,-83.62\"/>\n<polygon fill=\"black\" stroke=\"black\" points=\"817.81,-86.57 825.4,-80.79 815.86,-80.58 817.81,-86.57\"/>\n</g>\n<!-- river&#45;&gt;lake -->\n<g id=\"edge22\" class=\"edge\">\n<title>river&#45;&gt;lake</title>\n<path fill=\"none\" stroke=\"black\" d=\"M835.46,-56.24C830.77,-51.26 825.43,-45.59 820.36,-40.21\"/>\n<polygon fill=\"black\" stroke=\"black\" points=\"822.61,-38.01 814.15,-33.62 818.03,-42.33 822.61,-38.01\"/>\n</g>\n<!-- river&#45;&gt;river -->\n<g id=\"edge21\" class=\"edge\">\n<title>river&#45;&gt;river</title>\n<path fill=\"none\" stroke=\"black\" d=\"M872.14,-82C881.96,-82.82 890.37,-79.49 890.37,-72 890.37,-67.09 886.75,-63.96 881.49,-62.62\"/>\n<polygon fill=\"black\" stroke=\"black\" points=\"881.33,-59.46 872.14,-62 880.91,-65.74 881.33,-59.46\"/>\n</g>\n<!-- sea -->\n<g id=\"node20\" class=\"node\">\n<title>sea</title>\n<ellipse fill=\"none\" stroke=\"black\" cx=\"911.37\" cy=\"-18\" rx=\"27\" ry=\"18\"/>\n<text text-anchor=\"middle\" x=\"911.37\" y=\"-15.8\" font-family=\"Times,serif\" font-size=\"9.00\">SEA</text>\n</g>\n<!-- river&#45;&gt;sea -->\n<g id=\"edge20\" class=\"edge\">\n<title>river&#45;&gt;sea</title>\n<path fill=\"none\" stroke=\"black\" d=\"M865.66,-57.34C872.44,-51.65 880.45,-44.94 887.85,-38.73\"/>\n<polygon fill=\"black\" stroke=\"black\" points=\"890.11,-40.95 894.98,-32.75 886.06,-36.12 890.11,-40.95\"/>\n</g>\n<!-- geo_sea -->\n<g id=\"node19\" class=\"node\">\n<title>geo_sea</title>\n<ellipse fill=\"none\" stroke=\"black\" cx=\"745.37\" cy=\"-72\" rx=\"32.82\" ry=\"18\"/>\n<text text-anchor=\"middle\" x=\"745.37\" y=\"-69.8\" font-family=\"Times,serif\" font-size=\"9.00\">GEO_SEA</text>\n</g>\n<!-- geo_sea&#45;&gt;province -->\n<g id=\"edge23\" class=\"edge\">\n<title>geo_sea&#45;&gt;province</title>\n<path fill=\"none\" stroke=\"black\" d=\"M721.25,-59.34C716.11,-57.26 710.64,-55.33 705.37,-54 622.71,-33.08 598.61,-49.22 514.37,-36 502.3,-34.11 489.29,-31.47 477.46,-28.83\"/>\n<polygon fill=\"black\" stroke=\"black\" points=\"478.15,-25.76 468.68,-26.83 476.75,-31.9 478.15,-25.76\"/>\n</g>\n<!-- geo_sea&#45;&gt;sea -->\n<g id=\"edge24\" class=\"edge\">\n<title>geo_sea&#45;&gt;sea</title>\n<path fill=\"none\" stroke=\"black\" d=\"M773.16,-62.3C802.31,-53.17 848.09,-38.82 878.89,-29.18\"/>\n<polygon fill=\"black\" stroke=\"black\" points=\"879.89,-32.16 887.54,-26.47 878.01,-26.15 879.89,-32.16\"/>\n</g>\n<!-- is_member -->\n<g id=\"node21\" class=\"node\">\n<title>is_member</title>\n<ellipse fill=\"none\" stroke=\"black\" cx=\"672.37\" cy=\"-180\" rx=\"39.02\" ry=\"18\"/>\n<text text-anchor=\"middle\" x=\"672.37\" y=\"-177.8\" font-family=\"Times,serif\" font-size=\"9.00\">IS_MEMBER</text>\n</g>\n<!-- is_member&#45;&gt;country -->\n<g id=\"edge26\" class=\"edge\">\n<title>is_member&#45;&gt;country</title>\n<path fill=\"none\" stroke=\"black\" d=\"M643.98,-167.35C638.23,-165.32 632.16,-163.41 626.37,-162 563.28,-146.64 545.21,-155.9 481.37,-144 471.85,-142.23 461.68,-139.91 452.18,-137.57\"/>\n<polygon fill=\"black\" stroke=\"black\" points=\"452.83,-134.48 443.33,-135.32 451.28,-140.59 452.83,-134.48\"/>\n</g>\n<!-- organization -->\n<g id=\"node22\" class=\"node\">\n<title>organization</title>\n<ellipse fill=\"none\" stroke=\"black\" cx=\"537.37\" cy=\"-126\" rx=\"49.15\" ry=\"18\"/>\n<text text-anchor=\"middle\" x=\"537.37\" y=\"-123.8\" font-family=\"Times,serif\" font-size=\"9.00\">ORGANIZATION</text>\n</g>\n<!-- is_member&#45;&gt;organization -->\n<g id=\"edge25\" class=\"edge\">\n<title>is_member&#45;&gt;organization</title>\n<path fill=\"none\" stroke=\"black\" d=\"M643.41,-167.84C624.48,-160.55 599.47,-150.92 578.49,-142.84\"/>\n<polygon fill=\"black\" stroke=\"black\" points=\"579.61,-139.89 570.08,-139.6 577.34,-145.77 579.61,-139.89\"/>\n</g>\n<!-- organization&#45;&gt;city -->\n<g id=\"edge27\" class=\"edge\">\n<title>organization&#45;&gt;city</title>\n<path fill=\"none\" stroke=\"black\" d=\"M510.31,-110.93C496.71,-103.85 480.21,-95.28 466.35,-88.07\"/>\n<polygon fill=\"black\" stroke=\"black\" points=\"467.55,-85.14 458.11,-83.78 464.64,-90.73 467.55,-85.14\"/>\n</g>\n<!-- language -->\n<g id=\"node23\" class=\"node\">\n<title>language</title>\n<ellipse fill=\"none\" stroke=\"black\" cx=\"239.37\" cy=\"-180\" rx=\"39.02\" ry=\"18\"/>\n<text text-anchor=\"middle\" x=\"239.37\" y=\"-177.8\" font-family=\"Times,serif\" font-size=\"9.00\">LANGUAGE</text>\n</g>\n<!-- language&#45;&gt;country -->\n<g id=\"edge28\" class=\"edge\">\n<title>language&#45;&gt;country</title>\n<path fill=\"none\" stroke=\"black\" d=\"M268.84,-167.94C274.62,-165.89 280.67,-163.81 286.37,-162 315.49,-152.74 348.8,-143.61 374,-137\"/>\n<polygon fill=\"black\" stroke=\"black\" points=\"374.98,-140 382.9,-134.68 373.39,-133.9 374.98,-140\"/>\n</g>\n<!-- located -->\n<g id=\"node24\" class=\"node\">\n<title>located</title>\n<ellipse fill=\"none\" stroke=\"black\" cx=\"800.37\" cy=\"-126\" rx=\"32.82\" ry=\"18\"/>\n<text text-anchor=\"middle\" x=\"800.37\" y=\"-123.8\" font-family=\"Times,serif\" font-size=\"9.00\">LOCATED</text>\n</g>\n<!-- located&#45;&gt;city -->\n<g id=\"edge31\" class=\"edge\">\n<title>located&#45;&gt;city</title>\n<path fill=\"none\" stroke=\"black\" d=\"M772.14,-116.44C760.81,-113.31 747.57,-110.05 735.37,-108 632.5,-90.73 604.21,-107.46 501.37,-90 491.13,-88.26 480.15,-85.63 470.22,-82.96\"/>\n<polygon fill=\"black\" stroke=\"black\" points=\"470.97,-79.9 461.46,-80.51 469.28,-85.97 470.97,-79.9\"/>\n</g>\n<!-- located&#45;&gt;lake -->\n<g id=\"edge32\" class=\"edge\">\n<title>located&#45;&gt;lake</title>\n<path fill=\"none\" stroke=\"black\" d=\"M800.37,-107.97C800.37,-91.07 800.37,-64.94 800.37,-45.36\"/>\n<polygon fill=\"black\" stroke=\"black\" points=\"803.52,-45.34 800.37,-36.34 797.22,-45.34 803.52,-45.34\"/>\n</g>\n<!-- located&#45;&gt;river -->\n<g id=\"edge30\" class=\"edge\">\n<title>located&#45;&gt;river</title>\n<path fill=\"none\" stroke=\"black\" d=\"M814.81,-109.68C819.31,-104.9 824.36,-99.54 829.19,-94.42\"/>\n<polygon fill=\"black\" stroke=\"black\" points=\"831.66,-96.39 835.54,-87.68 827.08,-92.07 831.66,-96.39\"/>\n</g>\n<!-- located&#45;&gt;sea -->\n<g id=\"edge29\" class=\"edge\">\n<title>located&#45;&gt;sea</title>\n<path fill=\"none\" stroke=\"black\" d=\"M824.51,-113.39C829.65,-111.31 835.11,-109.37 840.37,-108 876.93,-98.51 984.12,-118.08 1009.37,-90 1020.07,-78.1 1018.59,-67.08 1009.37,-54 995.44,-34.23 969.28,-25.57 947.49,-21.8\"/>\n<polygon fill=\"black\" stroke=\"black\" points=\"947.83,-18.66 938.47,-20.47 946.91,-24.9 947.83,-18.66\"/>\n</g>\n<!-- merges_with -->\n<g id=\"node25\" class=\"node\">\n<title>merges_with</title>\n<ellipse fill=\"none\" stroke=\"black\" cx=\"955.37\" cy=\"-72\" rx=\"46.53\" ry=\"18\"/>\n<text text-anchor=\"middle\" x=\"955.37\" y=\"-69.8\" font-family=\"Times,serif\" font-size=\"9.00\">MERGES_WITH</text>\n</g>\n<!-- merges_with&#45;&gt;sea -->\n<g id=\"edge33\" class=\"edge\">\n<title>merges_with&#45;&gt;sea</title>\n<path fill=\"none\" stroke=\"black\" d=\"M941.45,-54.55C937.82,-50.25 933.84,-45.55 930,-41.02\"/>\n<polygon fill=\"black\" stroke=\"black\" points=\"932.38,-38.95 924.16,-34.11 927.57,-43.02 932.38,-38.95\"/>\n</g>\n<!-- politics -->\n<g id=\"node26\" class=\"node\">\n<title>politics</title>\n<ellipse fill=\"none\" stroke=\"black\" cx=\"325.37\" cy=\"-180\" rx=\"32.16\" ry=\"18\"/>\n<text text-anchor=\"middle\" x=\"325.37\" y=\"-177.8\" font-family=\"Times,serif\" font-size=\"9.00\">POLITICS</text>\n</g>\n<!-- politics&#45;&gt;country -->\n<g id=\"edge34\" class=\"edge\">\n<title>politics&#45;&gt;country</title>\n<path fill=\"none\" stroke=\"black\" d=\"M346.68,-166.41C357.67,-159.92 371.27,-151.88 383.31,-144.76\"/>\n<polygon fill=\"black\" stroke=\"black\" points=\"385.2,-147.31 391.35,-140.01 382,-141.88 385.2,-147.31\"/>\n</g>\n<!-- population -->\n<g id=\"node27\" class=\"node\">\n<title>population</title>\n<ellipse fill=\"none\" stroke=\"black\" cx=\"413.37\" cy=\"-180\" rx=\"42.29\" ry=\"18\"/>\n<text text-anchor=\"middle\" x=\"413.37\" y=\"-177.8\" font-family=\"Times,serif\" font-size=\"9.00\">POPULATION</text>\n</g>\n<!-- population&#45;&gt;country -->\n<g id=\"edge35\" class=\"edge\">\n<title>population&#45;&gt;country</title>\n<path fill=\"none\" stroke=\"black\" d=\"M413.37,-161.97C413.37,-159.22 413.37,-156.31 413.37,-153.4\"/>\n<polygon fill=\"black\" stroke=\"black\" points=\"416.52,-153.24 413.37,-144.24 410.22,-153.24 416.52,-153.24\"/>\n</g>\n<!-- religion -->\n<g id=\"node28\" class=\"node\">\n<title>religion</title>\n<ellipse fill=\"none\" stroke=\"black\" cx=\"503.37\" cy=\"-180\" rx=\"34.13\" ry=\"18\"/>\n<text text-anchor=\"middle\" x=\"503.37\" y=\"-177.8\" font-family=\"Times,serif\" font-size=\"9.00\">RELIGION</text>\n</g>\n<!-- religion&#45;&gt;country -->\n<g id=\"edge36\" class=\"edge\">\n<title>religion&#45;&gt;country</title>\n<path fill=\"none\" stroke=\"black\" d=\"M481.13,-166.15C469.77,-159.58 455.78,-151.5 443.48,-144.39\"/>\n<polygon fill=\"black\" stroke=\"black\" points=\"445.04,-141.66 435.68,-139.89 441.89,-147.12 445.04,-141.66\"/>\n</g>\n</g>\n</svg>\n",
            "text/plain": [
              "<graphviz.graphs.Digraph at 0x7f45f95c27f0>"
            ]
          },
          "metadata": {}
        }
      ]
    },
    {
      "cell_type": "markdown",
      "source": [
        "### Default Parameters\n",
        "\n",
        "We have a few parameters for R-KwS using PyLatheDB:\n",
        "*    `max_qm_size`: Maximum Query Match Size\n",
        "*    `max_cjn_size`: Maximum Candidate Joining Network Size\n",
        "*    `topk_cns`: Top-k CJNs to be considered\n",
        "*    `configuration`: A tuple containing the number of QMs to be considered, number of CJNs for each QM to be considered, and the maximum number of CJNs to be probed by the eager evaluation for each QM. \n",
        "\n",
        "\n"
      ],
      "metadata": {
        "id": "XVqG6u_jVIm_"
      }
    },
    {
      "cell_type": "code",
      "source": [
        "lathe.max_qm_size = 3\n",
        "lathe.max_cjn_size = 5\n",
        "lathe.topk_cns = 10\n",
        "\n",
        "num_qms = 5\n",
        "num_cjns_per_qm = 1\n",
        "num_probed_cjns = 0\n",
        "\n",
        "lathe.configuration = (num_qms,num_cjns_per_qm,num_probed_cjns)"
      ],
      "metadata": {
        "id": "pjMarOgDVInC"
      },
      "execution_count": 20,
      "outputs": []
    },
    {
      "cell_type": "markdown",
      "source": [
        "#### Keyword Search without Eager CJN Evaluation.\n",
        "\n"
      ],
      "metadata": {
        "id": "F-41RpU6niZx"
      }
    },
    {
      "cell_type": "code",
      "source": [
        "results = lathe.keyword_search('saint kitts cambodia organization',configuration = (5,5,0))\n",
        "results.cjns(text=False,sql=False)"
      ],
      "metadata": {
        "colab": {
          "base_uri": "https://localhost:8080/",
          "height": 1000
        },
        "id": "o_lKlzFhFI0f",
        "outputId": "4a9610fb-85ba-4d26-bc31-4768a2cb32bb"
      },
      "execution_count": 21,
      "outputs": [
        {
          "output_type": "stream",
          "name": "stdout",
          "text": [
            "Keyword Query: saint kitts cambodia organization\n"
          ]
        },
        {
          "output_type": "display_data",
          "data": {
            "text/plain": [
              "<IPython.core.display.Markdown object>"
            ],
            "text/markdown": "---"
          },
          "metadata": {}
        },
        {
          "output_type": "display_data",
          "data": {
            "text/plain": [
              "<IPython.core.display.Markdown object>"
            ],
            "text/markdown": "**1st CJN**:"
          },
          "metadata": {}
        },
        {
          "output_type": "display_data",
          "data": {
            "text/plain": [
              "<IPython.core.display.Markdown object>"
            ],
            "text/markdown": "---"
          },
          "metadata": {}
        },
        {
          "output_type": "stream",
          "name": "stdout",
          "text": [
            "Graph:\n"
          ]
        },
        {
          "output_type": "display_data",
          "data": {
            "image/svg+xml": "<?xml version=\"1.0\" encoding=\"UTF-8\" standalone=\"no\"?>\n<!DOCTYPE svg PUBLIC \"-//W3C//DTD SVG 1.1//EN\"\n \"http://www.w3.org/Graphics/SVG/1.1/DTD/svg11.dtd\">\n<!-- Generated by graphviz version 2.43.0 (0)\n -->\n<!-- Title: %3 Pages: 1 -->\n<svg width=\"522pt\" height=\"152pt\"\n viewBox=\"0.00 0.00 521.58 152.00\" xmlns=\"http://www.w3.org/2000/svg\" xmlns:xlink=\"http://www.w3.org/1999/xlink\">\n<g id=\"graph0\" class=\"graph\" transform=\"scale(1 1) rotate(0) translate(4 148)\">\n<title>%3</title>\n<polygon fill=\"white\" stroke=\"transparent\" points=\"-4,4 -4,-148 517.58,-148 517.58,4 -4,4\"/>\n<!-- t1 -->\n<g id=\"node1\" class=\"node\">\n<title>t1</title>\n<ellipse fill=\"none\" stroke=\"black\" cx=\"76.79\" cy=\"-72\" rx=\"76.58\" ry=\"18\"/>\n<text text-anchor=\"middle\" x=\"76.79\" y=\"-69.8\" font-family=\"Times,serif\" font-size=\"9.00\">COUNTRY.v(name{saint,kitts})</text>\n</g>\n<!-- t2 -->\n<g id=\"node2\" class=\"node\">\n<title>t2</title>\n<ellipse fill=\"none\" stroke=\"black\" cx=\"166.79\" cy=\"-18\" rx=\"27\" ry=\"18\"/>\n<text text-anchor=\"middle\" x=\"166.79\" y=\"-15.8\" font-family=\"Times,serif\" font-size=\"9.00\">CITY</text>\n</g>\n<!-- t1&#45;&gt;t2 -->\n<g id=\"edge1\" class=\"edge\">\n<title>t1&#45;&gt;t2</title>\n<path fill=\"none\" stroke=\"black\" d=\"M104.28,-55.12C115.24,-48.78 127.84,-41.51 138.84,-35.15\"/>\n<polygon fill=\"black\" stroke=\"black\" points=\"140.67,-37.73 146.89,-30.5 137.52,-32.27 140.67,-37.73\"/>\n</g>\n<!-- t3 -->\n<g id=\"node3\" class=\"node\">\n<title>t3</title>\n<ellipse fill=\"none\" stroke=\"black\" cx=\"256.79\" cy=\"-72\" rx=\"88.82\" ry=\"18\"/>\n<text text-anchor=\"middle\" x=\"256.79\" y=\"-69.8\" font-family=\"Times,serif\" font-size=\"9.00\">ORGANIZATION.s(*{organization})</text>\n</g>\n<!-- t3&#45;&gt;t2 -->\n<g id=\"edge2\" class=\"edge\">\n<title>t3&#45;&gt;t2</title>\n<path fill=\"none\" stroke=\"black\" d=\"M228.8,-54.83C217.87,-48.51 205.36,-41.28 194.45,-34.98\"/>\n<polygon fill=\"black\" stroke=\"black\" points=\"195.84,-32.15 186.47,-30.37 192.69,-37.6 195.84,-32.15\"/>\n</g>\n<!-- t4 -->\n<g id=\"node4\" class=\"node\">\n<title>t4</title>\n<ellipse fill=\"none\" stroke=\"black\" cx=\"346.79\" cy=\"-126\" rx=\"39.02\" ry=\"18\"/>\n<text text-anchor=\"middle\" x=\"346.79\" y=\"-123.8\" font-family=\"Times,serif\" font-size=\"9.00\">IS_MEMBER</text>\n</g>\n<!-- t4&#45;&gt;t3 -->\n<g id=\"edge4\" class=\"edge\">\n<title>t4&#45;&gt;t3</title>\n<path fill=\"none\" stroke=\"black\" d=\"M323.14,-111.34C313.85,-105.97 302.99,-99.69 292.77,-93.79\"/>\n<polygon fill=\"black\" stroke=\"black\" points=\"294.12,-90.93 284.75,-89.16 290.97,-96.39 294.12,-90.93\"/>\n</g>\n<!-- t5 -->\n<g id=\"node5\" class=\"node\">\n<title>t5</title>\n<ellipse fill=\"none\" stroke=\"black\" cx=\"436.79\" cy=\"-72\" rx=\"76.58\" ry=\"18\"/>\n<text text-anchor=\"middle\" x=\"436.79\" y=\"-69.8\" font-family=\"Times,serif\" font-size=\"9.00\">COUNTRY.v(name{cambodia})</text>\n</g>\n<!-- t4&#45;&gt;t5 -->\n<g id=\"edge3\" class=\"edge\">\n<title>t4&#45;&gt;t5</title>\n<path fill=\"none\" stroke=\"black\" d=\"M370.43,-111.34C379.8,-105.92 390.78,-99.58 401.08,-93.63\"/>\n<polygon fill=\"black\" stroke=\"black\" points=\"402.93,-96.2 409.15,-88.97 399.78,-90.74 402.93,-96.2\"/>\n</g>\n</g>\n</svg>\n",
            "text/plain": [
              "<graphviz.graphs.Digraph at 0x7f45f95deca0>"
            ]
          },
          "metadata": {}
        },
        {
          "output_type": "display_data",
          "data": {
            "text/plain": [
              "<IPython.core.display.Markdown object>"
            ],
            "text/markdown": "---"
          },
          "metadata": {}
        },
        {
          "output_type": "stream",
          "name": "stdout",
          "text": [
            "JNTs:\n",
            "\tThis CJN returns no tuples.\n",
            "\n"
          ]
        },
        {
          "output_type": "display_data",
          "data": {
            "text/plain": [
              "<IPython.core.display.Markdown object>"
            ],
            "text/markdown": "---"
          },
          "metadata": {}
        },
        {
          "output_type": "display_data",
          "data": {
            "text/plain": [
              "<IPython.core.display.Markdown object>"
            ],
            "text/markdown": "**2nd CJN**:"
          },
          "metadata": {}
        },
        {
          "output_type": "display_data",
          "data": {
            "text/plain": [
              "<IPython.core.display.Markdown object>"
            ],
            "text/markdown": "---"
          },
          "metadata": {}
        },
        {
          "output_type": "stream",
          "name": "stdout",
          "text": [
            "Graph:\n"
          ]
        },
        {
          "output_type": "display_data",
          "data": {
            "image/svg+xml": "<?xml version=\"1.0\" encoding=\"UTF-8\" standalone=\"no\"?>\n<!DOCTYPE svg PUBLIC \"-//W3C//DTD SVG 1.1//EN\"\n \"http://www.w3.org/Graphics/SVG/1.1/DTD/svg11.dtd\">\n<!-- Generated by graphviz version 2.43.0 (0)\n -->\n<!-- Title: %3 Pages: 1 -->\n<svg width=\"354pt\" height=\"206pt\"\n viewBox=\"0.00 0.00 353.70 206.00\" xmlns=\"http://www.w3.org/2000/svg\" xmlns:xlink=\"http://www.w3.org/1999/xlink\">\n<g id=\"graph0\" class=\"graph\" transform=\"scale(1 1) rotate(0) translate(4 202)\">\n<title>%3</title>\n<polygon fill=\"white\" stroke=\"transparent\" points=\"-4,4 -4,-202 349.7,-202 349.7,4 -4,4\"/>\n<!-- t1 -->\n<g id=\"node1\" class=\"node\">\n<title>t1</title>\n<ellipse fill=\"none\" stroke=\"black\" cx=\"76.79\" cy=\"-180\" rx=\"76.58\" ry=\"18\"/>\n<text text-anchor=\"middle\" x=\"76.79\" y=\"-177.8\" font-family=\"Times,serif\" font-size=\"9.00\">COUNTRY.v(name{saint,kitts})</text>\n</g>\n<!-- t2 -->\n<g id=\"node2\" class=\"node\">\n<title>t2</title>\n<ellipse fill=\"none\" stroke=\"black\" cx=\"166.79\" cy=\"-126\" rx=\"27\" ry=\"18\"/>\n<text text-anchor=\"middle\" x=\"166.79\" y=\"-123.8\" font-family=\"Times,serif\" font-size=\"9.00\">CITY</text>\n</g>\n<!-- t1&#45;&gt;t2 -->\n<g id=\"edge1\" class=\"edge\">\n<title>t1&#45;&gt;t2</title>\n<path fill=\"none\" stroke=\"black\" d=\"M104.28,-163.12C115.24,-156.78 127.84,-149.51 138.84,-143.15\"/>\n<polygon fill=\"black\" stroke=\"black\" points=\"140.67,-145.73 146.89,-138.5 137.52,-140.27 140.67,-145.73\"/>\n</g>\n<!-- t4 -->\n<g id=\"node4\" class=\"node\">\n<title>t4</title>\n<ellipse fill=\"none\" stroke=\"black\" cx=\"166.79\" cy=\"-72\" rx=\"35.59\" ry=\"18\"/>\n<text text-anchor=\"middle\" x=\"166.79\" y=\"-69.8\" font-family=\"Times,serif\" font-size=\"9.00\">PROVINCE</text>\n</g>\n<!-- t2&#45;&gt;t4 -->\n<g id=\"edge2\" class=\"edge\">\n<title>t2&#45;&gt;t4</title>\n<path fill=\"none\" stroke=\"black\" d=\"M166.79,-107.97C166.79,-105.22 166.79,-102.31 166.79,-99.4\"/>\n<polygon fill=\"black\" stroke=\"black\" points=\"169.94,-99.24 166.79,-90.24 163.64,-99.24 169.94,-99.24\"/>\n</g>\n<!-- t3 -->\n<g id=\"node3\" class=\"node\">\n<title>t3</title>\n<ellipse fill=\"none\" stroke=\"black\" cx=\"256.79\" cy=\"-180\" rx=\"88.82\" ry=\"18\"/>\n<text text-anchor=\"middle\" x=\"256.79\" y=\"-177.8\" font-family=\"Times,serif\" font-size=\"9.00\">ORGANIZATION.s(*{organization})</text>\n</g>\n<!-- t3&#45;&gt;t2 -->\n<g id=\"edge3\" class=\"edge\">\n<title>t3&#45;&gt;t2</title>\n<path fill=\"none\" stroke=\"black\" d=\"M228.8,-162.83C217.87,-156.51 205.36,-149.28 194.45,-142.98\"/>\n<polygon fill=\"black\" stroke=\"black\" points=\"195.84,-140.15 186.47,-138.37 192.69,-145.6 195.84,-140.15\"/>\n</g>\n<!-- t5 -->\n<g id=\"node5\" class=\"node\">\n<title>t5</title>\n<ellipse fill=\"none\" stroke=\"black\" cx=\"166.79\" cy=\"-18\" rx=\"76.58\" ry=\"18\"/>\n<text text-anchor=\"middle\" x=\"166.79\" y=\"-15.8\" font-family=\"Times,serif\" font-size=\"9.00\">COUNTRY.v(name{cambodia})</text>\n</g>\n<!-- t4&#45;&gt;t5 -->\n<g id=\"edge4\" class=\"edge\">\n<title>t4&#45;&gt;t5</title>\n<path fill=\"none\" stroke=\"black\" d=\"M166.79,-53.97C166.79,-51.22 166.79,-48.31 166.79,-45.4\"/>\n<polygon fill=\"black\" stroke=\"black\" points=\"169.94,-45.24 166.79,-36.24 163.64,-45.24 169.94,-45.24\"/>\n</g>\n</g>\n</svg>\n",
            "text/plain": [
              "<graphviz.graphs.Digraph at 0x7f45fe4bfd30>"
            ]
          },
          "metadata": {}
        },
        {
          "output_type": "display_data",
          "data": {
            "text/plain": [
              "<IPython.core.display.Markdown object>"
            ],
            "text/markdown": "---"
          },
          "metadata": {}
        },
        {
          "output_type": "stream",
          "name": "stdout",
          "text": [
            "JNTs:\n",
            "\tThis CJN returns no tuples.\n",
            "\n"
          ]
        },
        {
          "output_type": "display_data",
          "data": {
            "text/plain": [
              "<IPython.core.display.Markdown object>"
            ],
            "text/markdown": "---"
          },
          "metadata": {}
        },
        {
          "output_type": "display_data",
          "data": {
            "text/plain": [
              "<IPython.core.display.Markdown object>"
            ],
            "text/markdown": "**3rd CJN**:"
          },
          "metadata": {}
        },
        {
          "output_type": "display_data",
          "data": {
            "text/plain": [
              "<IPython.core.display.Markdown object>"
            ],
            "text/markdown": "---"
          },
          "metadata": {}
        },
        {
          "output_type": "stream",
          "name": "stdout",
          "text": [
            "Graph:\n"
          ]
        },
        {
          "output_type": "display_data",
          "data": {
            "image/svg+xml": "<?xml version=\"1.0\" encoding=\"UTF-8\" standalone=\"no\"?>\n<!DOCTYPE svg PUBLIC \"-//W3C//DTD SVG 1.1//EN\"\n \"http://www.w3.org/Graphics/SVG/1.1/DTD/svg11.dtd\">\n<!-- Generated by graphviz version 2.43.0 (0)\n -->\n<!-- Title: %3 Pages: 1 -->\n<svg width=\"522pt\" height=\"152pt\"\n viewBox=\"0.00 0.00 521.70 152.00\" xmlns=\"http://www.w3.org/2000/svg\" xmlns:xlink=\"http://www.w3.org/1999/xlink\">\n<g id=\"graph0\" class=\"graph\" transform=\"scale(1 1) rotate(0) translate(4 148)\">\n<title>%3</title>\n<polygon fill=\"white\" stroke=\"transparent\" points=\"-4,4 -4,-148 517.7,-148 517.7,4 -4,4\"/>\n<!-- t1 -->\n<g id=\"node1\" class=\"node\">\n<title>t1</title>\n<ellipse fill=\"none\" stroke=\"black\" cx=\"268.91\" cy=\"-72\" rx=\"76.58\" ry=\"18\"/>\n<text text-anchor=\"middle\" x=\"268.91\" y=\"-69.8\" font-family=\"Times,serif\" font-size=\"9.00\">COUNTRY.v(name{saint,kitts})</text>\n</g>\n<!-- t2 -->\n<g id=\"node2\" class=\"node\">\n<title>t2</title>\n<ellipse fill=\"none\" stroke=\"black\" cx=\"178.91\" cy=\"-18\" rx=\"27\" ry=\"18\"/>\n<text text-anchor=\"middle\" x=\"178.91\" y=\"-15.8\" font-family=\"Times,serif\" font-size=\"9.00\">CITY</text>\n</g>\n<!-- t1&#45;&gt;t2 -->\n<g id=\"edge1\" class=\"edge\">\n<title>t1&#45;&gt;t2</title>\n<path fill=\"none\" stroke=\"black\" d=\"M241.42,-55.12C230.46,-48.78 217.86,-41.51 206.86,-35.15\"/>\n<polygon fill=\"black\" stroke=\"black\" points=\"208.18,-32.27 198.81,-30.5 205.03,-37.73 208.18,-32.27\"/>\n</g>\n<!-- t3 -->\n<g id=\"node3\" class=\"node\">\n<title>t3</title>\n<ellipse fill=\"none\" stroke=\"black\" cx=\"88.91\" cy=\"-72\" rx=\"88.82\" ry=\"18\"/>\n<text text-anchor=\"middle\" x=\"88.91\" y=\"-69.8\" font-family=\"Times,serif\" font-size=\"9.00\">ORGANIZATION.s(*{organization})</text>\n</g>\n<!-- t3&#45;&gt;t2 -->\n<g id=\"edge2\" class=\"edge\">\n<title>t3&#45;&gt;t2</title>\n<path fill=\"none\" stroke=\"black\" d=\"M116.9,-54.83C127.83,-48.51 140.34,-41.28 151.25,-34.98\"/>\n<polygon fill=\"black\" stroke=\"black\" points=\"153.01,-37.6 159.23,-30.37 149.86,-32.15 153.01,-37.6\"/>\n</g>\n<!-- t4 -->\n<g id=\"node4\" class=\"node\">\n<title>t4</title>\n<ellipse fill=\"none\" stroke=\"black\" cx=\"352.91\" cy=\"-126\" rx=\"34.13\" ry=\"18\"/>\n<text text-anchor=\"middle\" x=\"352.91\" y=\"-123.8\" font-family=\"Times,serif\" font-size=\"9.00\">BORDERS</text>\n</g>\n<!-- t4&#45;&gt;t1 -->\n<g id=\"edge3\" class=\"edge\">\n<title>t4&#45;&gt;t1</title>\n<path fill=\"none\" stroke=\"black\" d=\"M331.72,-111.88C322.89,-106.42 312.44,-99.94 302.61,-93.86\"/>\n<polygon fill=\"black\" stroke=\"black\" points=\"304.22,-91.15 294.91,-89.09 300.9,-96.51 304.22,-91.15\"/>\n</g>\n<!-- t5 -->\n<g id=\"node5\" class=\"node\">\n<title>t5</title>\n<ellipse fill=\"none\" stroke=\"black\" cx=\"436.91\" cy=\"-72\" rx=\"76.58\" ry=\"18\"/>\n<text text-anchor=\"middle\" x=\"436.91\" y=\"-69.8\" font-family=\"Times,serif\" font-size=\"9.00\">COUNTRY.v(name{cambodia})</text>\n</g>\n<!-- t4&#45;&gt;t5 -->\n<g id=\"edge4\" class=\"edge\">\n<title>t4&#45;&gt;t5</title>\n<path fill=\"none\" stroke=\"black\" d=\"M374.11,-111.88C382.93,-106.42 393.39,-99.94 403.21,-93.86\"/>\n<polygon fill=\"black\" stroke=\"black\" points=\"404.92,-96.51 410.92,-89.09 401.61,-91.15 404.92,-96.51\"/>\n</g>\n</g>\n</svg>\n",
            "text/plain": [
              "<graphviz.graphs.Digraph at 0x7f45f95dedf0>"
            ]
          },
          "metadata": {}
        },
        {
          "output_type": "display_data",
          "data": {
            "text/plain": [
              "<IPython.core.display.Markdown object>"
            ],
            "text/markdown": "---"
          },
          "metadata": {}
        },
        {
          "output_type": "stream",
          "name": "stdout",
          "text": [
            "JNTs:\n",
            "\tThis CJN returns no tuples.\n",
            "\n"
          ]
        },
        {
          "output_type": "display_data",
          "data": {
            "text/plain": [
              "<IPython.core.display.Markdown object>"
            ],
            "text/markdown": "---"
          },
          "metadata": {}
        },
        {
          "output_type": "display_data",
          "data": {
            "text/plain": [
              "<IPython.core.display.Markdown object>"
            ],
            "text/markdown": "**4th CJN**:"
          },
          "metadata": {}
        },
        {
          "output_type": "display_data",
          "data": {
            "text/plain": [
              "<IPython.core.display.Markdown object>"
            ],
            "text/markdown": "---"
          },
          "metadata": {}
        },
        {
          "output_type": "stream",
          "name": "stdout",
          "text": [
            "Graph:\n"
          ]
        },
        {
          "output_type": "display_data",
          "data": {
            "image/svg+xml": "<?xml version=\"1.0\" encoding=\"UTF-8\" standalone=\"no\"?>\n<!DOCTYPE svg PUBLIC \"-//W3C//DTD SVG 1.1//EN\"\n \"http://www.w3.org/Graphics/SVG/1.1/DTD/svg11.dtd\">\n<!-- Generated by graphviz version 2.43.0 (0)\n -->\n<!-- Title: %3 Pages: 1 -->\n<svg width=\"522pt\" height=\"152pt\"\n viewBox=\"0.00 0.00 521.70 152.00\" xmlns=\"http://www.w3.org/2000/svg\" xmlns:xlink=\"http://www.w3.org/1999/xlink\">\n<g id=\"graph0\" class=\"graph\" transform=\"scale(1 1) rotate(0) translate(4 148)\">\n<title>%3</title>\n<polygon fill=\"white\" stroke=\"transparent\" points=\"-4,4 -4,-148 517.7,-148 517.7,4 -4,4\"/>\n<!-- t1 -->\n<g id=\"node1\" class=\"node\">\n<title>t1</title>\n<ellipse fill=\"none\" stroke=\"black\" cx=\"76.79\" cy=\"-72\" rx=\"76.58\" ry=\"18\"/>\n<text text-anchor=\"middle\" x=\"76.79\" y=\"-69.8\" font-family=\"Times,serif\" font-size=\"9.00\">COUNTRY.v(name{saint,kitts})</text>\n</g>\n<!-- t2 -->\n<g id=\"node2\" class=\"node\">\n<title>t2</title>\n<ellipse fill=\"none\" stroke=\"black\" cx=\"160.79\" cy=\"-126\" rx=\"34.13\" ry=\"18\"/>\n<text text-anchor=\"middle\" x=\"160.79\" y=\"-123.8\" font-family=\"Times,serif\" font-size=\"9.00\">BORDERS</text>\n</g>\n<!-- t2&#45;&gt;t1 -->\n<g id=\"edge1\" class=\"edge\">\n<title>t2&#45;&gt;t1</title>\n<path fill=\"none\" stroke=\"black\" d=\"M139.59,-111.88C130.77,-106.42 120.31,-99.94 110.49,-93.86\"/>\n<polygon fill=\"black\" stroke=\"black\" points=\"112.09,-91.15 102.78,-89.09 108.78,-96.51 112.09,-91.15\"/>\n</g>\n<!-- t3 -->\n<g id=\"node3\" class=\"node\">\n<title>t3</title>\n<ellipse fill=\"none\" stroke=\"black\" cx=\"244.79\" cy=\"-72\" rx=\"76.58\" ry=\"18\"/>\n<text text-anchor=\"middle\" x=\"244.79\" y=\"-69.8\" font-family=\"Times,serif\" font-size=\"9.00\">COUNTRY.v(name{cambodia})</text>\n</g>\n<!-- t2&#45;&gt;t3 -->\n<g id=\"edge2\" class=\"edge\">\n<title>t2&#45;&gt;t3</title>\n<path fill=\"none\" stroke=\"black\" d=\"M181.98,-111.88C190.8,-106.42 201.26,-99.94 211.09,-93.86\"/>\n<polygon fill=\"black\" stroke=\"black\" points=\"212.8,-96.51 218.79,-89.09 209.48,-91.15 212.8,-96.51\"/>\n</g>\n<!-- t4 -->\n<g id=\"node4\" class=\"node\">\n<title>t4</title>\n<ellipse fill=\"none\" stroke=\"black\" cx=\"334.79\" cy=\"-18\" rx=\"27\" ry=\"18\"/>\n<text text-anchor=\"middle\" x=\"334.79\" y=\"-15.8\" font-family=\"Times,serif\" font-size=\"9.00\">CITY</text>\n</g>\n<!-- t3&#45;&gt;t4 -->\n<g id=\"edge3\" class=\"edge\">\n<title>t3&#45;&gt;t4</title>\n<path fill=\"none\" stroke=\"black\" d=\"M272.28,-55.12C283.24,-48.78 295.84,-41.51 306.84,-35.15\"/>\n<polygon fill=\"black\" stroke=\"black\" points=\"308.67,-37.73 314.89,-30.5 305.52,-32.27 308.67,-37.73\"/>\n</g>\n<!-- t5 -->\n<g id=\"node5\" class=\"node\">\n<title>t5</title>\n<ellipse fill=\"none\" stroke=\"black\" cx=\"424.79\" cy=\"-72\" rx=\"88.82\" ry=\"18\"/>\n<text text-anchor=\"middle\" x=\"424.79\" y=\"-69.8\" font-family=\"Times,serif\" font-size=\"9.00\">ORGANIZATION.s(*{organization})</text>\n</g>\n<!-- t5&#45;&gt;t4 -->\n<g id=\"edge4\" class=\"edge\">\n<title>t5&#45;&gt;t4</title>\n<path fill=\"none\" stroke=\"black\" d=\"M396.8,-54.83C385.87,-48.51 373.36,-41.28 362.45,-34.98\"/>\n<polygon fill=\"black\" stroke=\"black\" points=\"363.84,-32.15 354.47,-30.37 360.69,-37.6 363.84,-32.15\"/>\n</g>\n</g>\n</svg>\n",
            "text/plain": [
              "<graphviz.graphs.Digraph at 0x7f4607049b50>"
            ]
          },
          "metadata": {}
        },
        {
          "output_type": "display_data",
          "data": {
            "text/plain": [
              "<IPython.core.display.Markdown object>"
            ],
            "text/markdown": "---"
          },
          "metadata": {}
        },
        {
          "output_type": "stream",
          "name": "stdout",
          "text": [
            "JNTs:\n",
            "\tThis CJN returns no tuples.\n",
            "\n"
          ]
        },
        {
          "output_type": "display_data",
          "data": {
            "text/plain": [
              "<IPython.core.display.Markdown object>"
            ],
            "text/markdown": "---"
          },
          "metadata": {}
        },
        {
          "output_type": "display_data",
          "data": {
            "text/plain": [
              "<IPython.core.display.Markdown object>"
            ],
            "text/markdown": "**5th CJN**:"
          },
          "metadata": {}
        },
        {
          "output_type": "display_data",
          "data": {
            "text/plain": [
              "<IPython.core.display.Markdown object>"
            ],
            "text/markdown": "---"
          },
          "metadata": {}
        },
        {
          "output_type": "stream",
          "name": "stdout",
          "text": [
            "Graph:\n"
          ]
        },
        {
          "output_type": "display_data",
          "data": {
            "image/svg+xml": "<?xml version=\"1.0\" encoding=\"UTF-8\" standalone=\"no\"?>\n<!DOCTYPE svg PUBLIC \"-//W3C//DTD SVG 1.1//EN\"\n \"http://www.w3.org/Graphics/SVG/1.1/DTD/svg11.dtd\">\n<!-- Generated by graphviz version 2.43.0 (0)\n -->\n<!-- Title: %3 Pages: 1 -->\n<svg width=\"522pt\" height=\"98pt\"\n viewBox=\"0.00 0.00 521.70 98.00\" xmlns=\"http://www.w3.org/2000/svg\" xmlns:xlink=\"http://www.w3.org/1999/xlink\">\n<g id=\"graph0\" class=\"graph\" transform=\"scale(1 1) rotate(0) translate(4 94)\">\n<title>%3</title>\n<polygon fill=\"white\" stroke=\"transparent\" points=\"-4,4 -4,-94 517.7,-94 517.7,4 -4,4\"/>\n<!-- t1 -->\n<g id=\"node1\" class=\"node\">\n<title>t1</title>\n<ellipse fill=\"none\" stroke=\"black\" cx=\"76.79\" cy=\"-18\" rx=\"76.58\" ry=\"18\"/>\n<text text-anchor=\"middle\" x=\"76.79\" y=\"-15.8\" font-family=\"Times,serif\" font-size=\"9.00\">COUNTRY.v(name{saint,kitts})</text>\n</g>\n<!-- t2 -->\n<g id=\"node2\" class=\"node\">\n<title>t2</title>\n<ellipse fill=\"none\" stroke=\"black\" cx=\"180.79\" cy=\"-72\" rx=\"34.13\" ry=\"18\"/>\n<text text-anchor=\"middle\" x=\"180.79\" y=\"-69.8\" font-family=\"Times,serif\" font-size=\"9.00\">BORDERS</text>\n</g>\n<!-- t2&#45;&gt;t1 -->\n<g id=\"edge1\" class=\"edge\">\n<title>t2&#45;&gt;t1</title>\n<path fill=\"none\" stroke=\"black\" d=\"M156.93,-59.07C144.91,-53.06 130.02,-45.62 116.35,-38.78\"/>\n<polygon fill=\"black\" stroke=\"black\" points=\"117.49,-35.83 108.03,-34.62 114.68,-41.47 117.49,-35.83\"/>\n</g>\n<!-- t3 -->\n<g id=\"node3\" class=\"node\">\n<title>t3</title>\n<ellipse fill=\"none\" stroke=\"black\" cx=\"244.79\" cy=\"-18\" rx=\"76.58\" ry=\"18\"/>\n<text text-anchor=\"middle\" x=\"244.79\" y=\"-15.8\" font-family=\"Times,serif\" font-size=\"9.00\">COUNTRY.v(name{cambodia})</text>\n</g>\n<!-- t2&#45;&gt;t3 -->\n<g id=\"edge2\" class=\"edge\">\n<title>t2&#45;&gt;t3</title>\n<path fill=\"none\" stroke=\"black\" d=\"M198.62,-56.52C204.36,-51.85 210.86,-46.56 217.14,-41.46\"/>\n<polygon fill=\"black\" stroke=\"black\" points=\"219.35,-43.73 224.35,-35.61 215.37,-38.84 219.35,-43.73\"/>\n</g>\n<!-- t4 -->\n<g id=\"node4\" class=\"node\">\n<title>t4</title>\n<ellipse fill=\"none\" stroke=\"black\" cx=\"307.79\" cy=\"-72\" rx=\"39.02\" ry=\"18\"/>\n<text text-anchor=\"middle\" x=\"307.79\" y=\"-69.8\" font-family=\"Times,serif\" font-size=\"9.00\">IS_MEMBER</text>\n</g>\n<!-- t4&#45;&gt;t3 -->\n<g id=\"edge4\" class=\"edge\">\n<title>t4&#45;&gt;t3</title>\n<path fill=\"none\" stroke=\"black\" d=\"M289.57,-55.96C284.15,-51.49 278.09,-46.49 272.22,-41.65\"/>\n<polygon fill=\"black\" stroke=\"black\" points=\"273.9,-38.95 264.96,-35.65 269.89,-43.81 273.9,-38.95\"/>\n</g>\n<!-- t5 -->\n<g id=\"node5\" class=\"node\">\n<title>t5</title>\n<ellipse fill=\"none\" stroke=\"black\" cx=\"424.79\" cy=\"-18\" rx=\"88.82\" ry=\"18\"/>\n<text text-anchor=\"middle\" x=\"424.79\" y=\"-15.8\" font-family=\"Times,serif\" font-size=\"9.00\">ORGANIZATION.s(*{organization})</text>\n</g>\n<!-- t4&#45;&gt;t5 -->\n<g id=\"edge3\" class=\"edge\">\n<title>t4&#45;&gt;t5</title>\n<path fill=\"none\" stroke=\"black\" d=\"M334.92,-58.94C348.71,-52.81 365.79,-45.22 381.35,-38.31\"/>\n<polygon fill=\"black\" stroke=\"black\" points=\"382.86,-41.08 389.8,-34.55 380.3,-35.33 382.86,-41.08\"/>\n</g>\n</g>\n</svg>\n",
            "text/plain": [
              "<graphviz.graphs.Digraph at 0x7f45f9612820>"
            ]
          },
          "metadata": {}
        },
        {
          "output_type": "display_data",
          "data": {
            "text/plain": [
              "<IPython.core.display.Markdown object>"
            ],
            "text/markdown": "---"
          },
          "metadata": {}
        },
        {
          "output_type": "stream",
          "name": "stdout",
          "text": [
            "JNTs:\n",
            "\tThis CJN returns no tuples.\n",
            "\n"
          ]
        },
        {
          "output_type": "display_data",
          "data": {
            "text/plain": [
              "<IPython.core.display.Markdown object>"
            ],
            "text/markdown": "---"
          },
          "metadata": {}
        },
        {
          "output_type": "display_data",
          "data": {
            "text/plain": [
              "<IPython.core.display.Markdown object>"
            ],
            "text/markdown": "**6th CJN**:"
          },
          "metadata": {}
        },
        {
          "output_type": "display_data",
          "data": {
            "text/plain": [
              "<IPython.core.display.Markdown object>"
            ],
            "text/markdown": "---"
          },
          "metadata": {}
        },
        {
          "output_type": "stream",
          "name": "stdout",
          "text": [
            "Graph:\n"
          ]
        },
        {
          "output_type": "display_data",
          "data": {
            "image/svg+xml": "<?xml version=\"1.0\" encoding=\"UTF-8\" standalone=\"no\"?>\n<!DOCTYPE svg PUBLIC \"-//W3C//DTD SVG 1.1//EN\"\n \"http://www.w3.org/Graphics/SVG/1.1/DTD/svg11.dtd\">\n<!-- Generated by graphviz version 2.43.0 (0)\n -->\n<!-- Title: %3 Pages: 1 -->\n<svg width=\"538pt\" height=\"152pt\"\n viewBox=\"0.00 0.00 537.58 152.00\" xmlns=\"http://www.w3.org/2000/svg\" xmlns:xlink=\"http://www.w3.org/1999/xlink\">\n<g id=\"graph0\" class=\"graph\" transform=\"scale(1 1) rotate(0) translate(4 148)\">\n<title>%3</title>\n<polygon fill=\"white\" stroke=\"transparent\" points=\"-4,4 -4,-148 533.58,-148 533.58,4 -4,4\"/>\n<!-- t1 -->\n<g id=\"node1\" class=\"node\">\n<title>t1</title>\n<ellipse fill=\"none\" stroke=\"black\" cx=\"76.79\" cy=\"-72\" rx=\"76.58\" ry=\"18\"/>\n<text text-anchor=\"middle\" x=\"76.79\" y=\"-69.8\" font-family=\"Times,serif\" font-size=\"9.00\">COUNTRY.v(name{saint,kitts})</text>\n</g>\n<!-- t2 -->\n<g id=\"node2\" class=\"node\">\n<title>t2</title>\n<ellipse fill=\"none\" stroke=\"black\" cx=\"170.79\" cy=\"-18\" rx=\"27\" ry=\"18\"/>\n<text text-anchor=\"middle\" x=\"170.79\" y=\"-15.8\" font-family=\"Times,serif\" font-size=\"9.00\">CITY</text>\n</g>\n<!-- t1&#45;&gt;t2 -->\n<g id=\"edge1\" class=\"edge\">\n<title>t1&#45;&gt;t2</title>\n<path fill=\"none\" stroke=\"black\" d=\"M105.25,-55.26C116.99,-48.76 130.56,-41.25 142.31,-34.76\"/>\n<polygon fill=\"black\" stroke=\"black\" points=\"144.13,-37.35 150.48,-30.23 141.08,-31.83 144.13,-37.35\"/>\n</g>\n<!-- t3 -->\n<g id=\"node3\" class=\"node\">\n<title>t3</title>\n<ellipse fill=\"none\" stroke=\"black\" cx=\"264.79\" cy=\"-72\" rx=\"97.64\" ry=\"18\"/>\n<text text-anchor=\"middle\" x=\"264.79\" y=\"-69.8\" font-family=\"Times,serif\" font-size=\"9.00\">ORGANIZATION.v(name{organization})</text>\n</g>\n<!-- t3&#45;&gt;t2 -->\n<g id=\"edge2\" class=\"edge\">\n<title>t3&#45;&gt;t2</title>\n<path fill=\"none\" stroke=\"black\" d=\"M235.3,-54.69C223.69,-48.27 210.42,-40.92 198.94,-34.57\"/>\n<polygon fill=\"black\" stroke=\"black\" points=\"200.35,-31.75 190.95,-30.15 197.3,-37.27 200.35,-31.75\"/>\n</g>\n<!-- t4 -->\n<g id=\"node4\" class=\"node\">\n<title>t4</title>\n<ellipse fill=\"none\" stroke=\"black\" cx=\"358.79\" cy=\"-126\" rx=\"39.02\" ry=\"18\"/>\n<text text-anchor=\"middle\" x=\"358.79\" y=\"-123.8\" font-family=\"Times,serif\" font-size=\"9.00\">IS_MEMBER</text>\n</g>\n<!-- t4&#45;&gt;t3 -->\n<g id=\"edge3\" class=\"edge\">\n<title>t4&#45;&gt;t3</title>\n<path fill=\"none\" stroke=\"black\" d=\"M334.58,-111.61C324.78,-106.19 313.24,-99.81 302.4,-93.81\"/>\n<polygon fill=\"black\" stroke=\"black\" points=\"303.68,-90.92 294.28,-89.32 300.63,-96.43 303.68,-90.92\"/>\n</g>\n<!-- t5 -->\n<g id=\"node5\" class=\"node\">\n<title>t5</title>\n<ellipse fill=\"none\" stroke=\"black\" cx=\"452.79\" cy=\"-72\" rx=\"76.58\" ry=\"18\"/>\n<text text-anchor=\"middle\" x=\"452.79\" y=\"-69.8\" font-family=\"Times,serif\" font-size=\"9.00\">COUNTRY.v(name{cambodia})</text>\n</g>\n<!-- t4&#45;&gt;t5 -->\n<g id=\"edge4\" class=\"edge\">\n<title>t4&#45;&gt;t5</title>\n<path fill=\"none\" stroke=\"black\" d=\"M382.99,-111.61C393.15,-105.99 405.18,-99.34 416.36,-93.15\"/>\n<polygon fill=\"black\" stroke=\"black\" points=\"417.97,-95.86 424.32,-88.75 414.92,-90.35 417.97,-95.86\"/>\n</g>\n</g>\n</svg>\n",
            "text/plain": [
              "<graphviz.graphs.Digraph at 0x7f45f9605fa0>"
            ]
          },
          "metadata": {}
        },
        {
          "output_type": "display_data",
          "data": {
            "text/plain": [
              "<IPython.core.display.Markdown object>"
            ],
            "text/markdown": "---"
          },
          "metadata": {}
        },
        {
          "output_type": "stream",
          "name": "stdout",
          "text": [
            "JNTs:\n",
            "\tThis CJN returns no tuples.\n",
            "\n"
          ]
        },
        {
          "output_type": "display_data",
          "data": {
            "text/plain": [
              "<IPython.core.display.Markdown object>"
            ],
            "text/markdown": "---"
          },
          "metadata": {}
        },
        {
          "output_type": "display_data",
          "data": {
            "text/plain": [
              "<IPython.core.display.Markdown object>"
            ],
            "text/markdown": "**7th CJN**:"
          },
          "metadata": {}
        },
        {
          "output_type": "display_data",
          "data": {
            "text/plain": [
              "<IPython.core.display.Markdown object>"
            ],
            "text/markdown": "---"
          },
          "metadata": {}
        },
        {
          "output_type": "stream",
          "name": "stdout",
          "text": [
            "Graph:\n"
          ]
        },
        {
          "output_type": "display_data",
          "data": {
            "image/svg+xml": "<?xml version=\"1.0\" encoding=\"UTF-8\" standalone=\"no\"?>\n<!DOCTYPE svg PUBLIC \"-//W3C//DTD SVG 1.1//EN\"\n \"http://www.w3.org/Graphics/SVG/1.1/DTD/svg11.dtd\">\n<!-- Generated by graphviz version 2.43.0 (0)\n -->\n<!-- Title: %3 Pages: 1 -->\n<svg width=\"370pt\" height=\"206pt\"\n viewBox=\"0.00 0.00 370.36 206.00\" xmlns=\"http://www.w3.org/2000/svg\" xmlns:xlink=\"http://www.w3.org/1999/xlink\">\n<g id=\"graph0\" class=\"graph\" transform=\"scale(1 1) rotate(0) translate(4 202)\">\n<title>%3</title>\n<polygon fill=\"white\" stroke=\"transparent\" points=\"-4,4 -4,-202 366.36,-202 366.36,4 -4,4\"/>\n<!-- t1 -->\n<g id=\"node1\" class=\"node\">\n<title>t1</title>\n<ellipse fill=\"none\" stroke=\"black\" cx=\"76.79\" cy=\"-180\" rx=\"76.58\" ry=\"18\"/>\n<text text-anchor=\"middle\" x=\"76.79\" y=\"-177.8\" font-family=\"Times,serif\" font-size=\"9.00\">COUNTRY.v(name{saint,kitts})</text>\n</g>\n<!-- t2 -->\n<g id=\"node2\" class=\"node\">\n<title>t2</title>\n<ellipse fill=\"none\" stroke=\"black\" cx=\"170.79\" cy=\"-126\" rx=\"27\" ry=\"18\"/>\n<text text-anchor=\"middle\" x=\"170.79\" y=\"-123.8\" font-family=\"Times,serif\" font-size=\"9.00\">CITY</text>\n</g>\n<!-- t1&#45;&gt;t2 -->\n<g id=\"edge1\" class=\"edge\">\n<title>t1&#45;&gt;t2</title>\n<path fill=\"none\" stroke=\"black\" d=\"M105.25,-163.26C116.99,-156.76 130.56,-149.25 142.31,-142.76\"/>\n<polygon fill=\"black\" stroke=\"black\" points=\"144.13,-145.35 150.48,-138.23 141.08,-139.83 144.13,-145.35\"/>\n</g>\n<!-- t4 -->\n<g id=\"node4\" class=\"node\">\n<title>t4</title>\n<ellipse fill=\"none\" stroke=\"black\" cx=\"170.79\" cy=\"-72\" rx=\"35.59\" ry=\"18\"/>\n<text text-anchor=\"middle\" x=\"170.79\" y=\"-69.8\" font-family=\"Times,serif\" font-size=\"9.00\">PROVINCE</text>\n</g>\n<!-- t2&#45;&gt;t4 -->\n<g id=\"edge2\" class=\"edge\">\n<title>t2&#45;&gt;t4</title>\n<path fill=\"none\" stroke=\"black\" d=\"M170.79,-107.97C170.79,-105.22 170.79,-102.31 170.79,-99.4\"/>\n<polygon fill=\"black\" stroke=\"black\" points=\"173.94,-99.24 170.79,-90.24 167.64,-99.24 173.94,-99.24\"/>\n</g>\n<!-- t3 -->\n<g id=\"node3\" class=\"node\">\n<title>t3</title>\n<ellipse fill=\"none\" stroke=\"black\" cx=\"264.79\" cy=\"-180\" rx=\"97.64\" ry=\"18\"/>\n<text text-anchor=\"middle\" x=\"264.79\" y=\"-177.8\" font-family=\"Times,serif\" font-size=\"9.00\">ORGANIZATION.v(name{organization})</text>\n</g>\n<!-- t3&#45;&gt;t2 -->\n<g id=\"edge3\" class=\"edge\">\n<title>t3&#45;&gt;t2</title>\n<path fill=\"none\" stroke=\"black\" d=\"M235.3,-162.69C223.69,-156.27 210.42,-148.92 198.94,-142.57\"/>\n<polygon fill=\"black\" stroke=\"black\" points=\"200.35,-139.75 190.95,-138.15 197.3,-145.27 200.35,-139.75\"/>\n</g>\n<!-- t5 -->\n<g id=\"node5\" class=\"node\">\n<title>t5</title>\n<ellipse fill=\"none\" stroke=\"black\" cx=\"170.79\" cy=\"-18\" rx=\"76.58\" ry=\"18\"/>\n<text text-anchor=\"middle\" x=\"170.79\" y=\"-15.8\" font-family=\"Times,serif\" font-size=\"9.00\">COUNTRY.v(name{cambodia})</text>\n</g>\n<!-- t4&#45;&gt;t5 -->\n<g id=\"edge4\" class=\"edge\">\n<title>t4&#45;&gt;t5</title>\n<path fill=\"none\" stroke=\"black\" d=\"M170.79,-53.97C170.79,-51.22 170.79,-48.31 170.79,-45.4\"/>\n<polygon fill=\"black\" stroke=\"black\" points=\"173.94,-45.24 170.79,-36.24 167.64,-45.24 173.94,-45.24\"/>\n</g>\n</g>\n</svg>\n",
            "text/plain": [
              "<graphviz.graphs.Digraph at 0x7f45f803cee0>"
            ]
          },
          "metadata": {}
        },
        {
          "output_type": "display_data",
          "data": {
            "text/plain": [
              "<IPython.core.display.Markdown object>"
            ],
            "text/markdown": "---"
          },
          "metadata": {}
        },
        {
          "output_type": "stream",
          "name": "stdout",
          "text": [
            "JNTs:\n",
            "\tThis CJN returns no tuples.\n",
            "\n"
          ]
        },
        {
          "output_type": "display_data",
          "data": {
            "text/plain": [
              "<IPython.core.display.Markdown object>"
            ],
            "text/markdown": "---"
          },
          "metadata": {}
        },
        {
          "output_type": "display_data",
          "data": {
            "text/plain": [
              "<IPython.core.display.Markdown object>"
            ],
            "text/markdown": "**8th CJN**:"
          },
          "metadata": {}
        },
        {
          "output_type": "display_data",
          "data": {
            "text/plain": [
              "<IPython.core.display.Markdown object>"
            ],
            "text/markdown": "---"
          },
          "metadata": {}
        },
        {
          "output_type": "stream",
          "name": "stdout",
          "text": [
            "Graph:\n"
          ]
        },
        {
          "output_type": "display_data",
          "data": {
            "image/svg+xml": "<?xml version=\"1.0\" encoding=\"UTF-8\" standalone=\"no\"?>\n<!DOCTYPE svg PUBLIC \"-//W3C//DTD SVG 1.1//EN\"\n \"http://www.w3.org/Graphics/SVG/1.1/DTD/svg11.dtd\">\n<!-- Generated by graphviz version 2.43.0 (0)\n -->\n<!-- Title: %3 Pages: 1 -->\n<svg width=\"538pt\" height=\"152pt\"\n viewBox=\"0.00 0.00 538.36 152.00\" xmlns=\"http://www.w3.org/2000/svg\" xmlns:xlink=\"http://www.w3.org/1999/xlink\">\n<g id=\"graph0\" class=\"graph\" transform=\"scale(1 1) rotate(0) translate(4 148)\">\n<title>%3</title>\n<polygon fill=\"white\" stroke=\"transparent\" points=\"-4,4 -4,-148 534.36,-148 534.36,4 -4,4\"/>\n<!-- t1 -->\n<g id=\"node1\" class=\"node\">\n<title>t1</title>\n<ellipse fill=\"none\" stroke=\"black\" cx=\"285.57\" cy=\"-72\" rx=\"76.58\" ry=\"18\"/>\n<text text-anchor=\"middle\" x=\"285.57\" y=\"-69.8\" font-family=\"Times,serif\" font-size=\"9.00\">COUNTRY.v(name{saint,kitts})</text>\n</g>\n<!-- t2 -->\n<g id=\"node2\" class=\"node\">\n<title>t2</title>\n<ellipse fill=\"none\" stroke=\"black\" cx=\"191.57\" cy=\"-18\" rx=\"27\" ry=\"18\"/>\n<text text-anchor=\"middle\" x=\"191.57\" y=\"-15.8\" font-family=\"Times,serif\" font-size=\"9.00\">CITY</text>\n</g>\n<!-- t1&#45;&gt;t2 -->\n<g id=\"edge1\" class=\"edge\">\n<title>t1&#45;&gt;t2</title>\n<path fill=\"none\" stroke=\"black\" d=\"M257.11,-55.26C245.37,-48.76 231.8,-41.25 220.05,-34.76\"/>\n<polygon fill=\"black\" stroke=\"black\" points=\"221.28,-31.83 211.88,-30.23 218.23,-37.35 221.28,-31.83\"/>\n</g>\n<!-- t3 -->\n<g id=\"node3\" class=\"node\">\n<title>t3</title>\n<ellipse fill=\"none\" stroke=\"black\" cx=\"97.57\" cy=\"-72\" rx=\"97.64\" ry=\"18\"/>\n<text text-anchor=\"middle\" x=\"97.57\" y=\"-69.8\" font-family=\"Times,serif\" font-size=\"9.00\">ORGANIZATION.v(name{organization})</text>\n</g>\n<!-- t3&#45;&gt;t2 -->\n<g id=\"edge2\" class=\"edge\">\n<title>t3&#45;&gt;t2</title>\n<path fill=\"none\" stroke=\"black\" d=\"M127.06,-54.69C138.67,-48.27 151.94,-40.92 163.42,-34.57\"/>\n<polygon fill=\"black\" stroke=\"black\" points=\"165.06,-37.27 171.41,-30.15 162.01,-31.75 165.06,-37.27\"/>\n</g>\n<!-- t4 -->\n<g id=\"node4\" class=\"node\">\n<title>t4</title>\n<ellipse fill=\"none\" stroke=\"black\" cx=\"369.57\" cy=\"-126\" rx=\"34.13\" ry=\"18\"/>\n<text text-anchor=\"middle\" x=\"369.57\" y=\"-123.8\" font-family=\"Times,serif\" font-size=\"9.00\">BORDERS</text>\n</g>\n<!-- t4&#45;&gt;t1 -->\n<g id=\"edge3\" class=\"edge\">\n<title>t4&#45;&gt;t1</title>\n<path fill=\"none\" stroke=\"black\" d=\"M348.38,-111.88C339.55,-106.42 329.1,-99.94 319.27,-93.86\"/>\n<polygon fill=\"black\" stroke=\"black\" points=\"320.88,-91.15 311.57,-89.09 317.56,-96.51 320.88,-91.15\"/>\n</g>\n<!-- t5 -->\n<g id=\"node5\" class=\"node\">\n<title>t5</title>\n<ellipse fill=\"none\" stroke=\"black\" cx=\"453.57\" cy=\"-72\" rx=\"76.58\" ry=\"18\"/>\n<text text-anchor=\"middle\" x=\"453.57\" y=\"-69.8\" font-family=\"Times,serif\" font-size=\"9.00\">COUNTRY.v(name{cambodia})</text>\n</g>\n<!-- t4&#45;&gt;t5 -->\n<g id=\"edge4\" class=\"edge\">\n<title>t4&#45;&gt;t5</title>\n<path fill=\"none\" stroke=\"black\" d=\"M390.77,-111.88C399.59,-106.42 410.05,-99.94 419.87,-93.86\"/>\n<polygon fill=\"black\" stroke=\"black\" points=\"421.58,-96.51 427.58,-89.09 418.27,-91.15 421.58,-96.51\"/>\n</g>\n</g>\n</svg>\n",
            "text/plain": [
              "<graphviz.graphs.Digraph at 0x7f45f96741f0>"
            ]
          },
          "metadata": {}
        },
        {
          "output_type": "display_data",
          "data": {
            "text/plain": [
              "<IPython.core.display.Markdown object>"
            ],
            "text/markdown": "---"
          },
          "metadata": {}
        },
        {
          "output_type": "stream",
          "name": "stdout",
          "text": [
            "JNTs:\n",
            "\tThis CJN returns no tuples.\n",
            "\n"
          ]
        },
        {
          "output_type": "display_data",
          "data": {
            "text/plain": [
              "<IPython.core.display.Markdown object>"
            ],
            "text/markdown": "---"
          },
          "metadata": {}
        },
        {
          "output_type": "display_data",
          "data": {
            "text/plain": [
              "<IPython.core.display.Markdown object>"
            ],
            "text/markdown": "**9th CJN**:"
          },
          "metadata": {}
        },
        {
          "output_type": "display_data",
          "data": {
            "text/plain": [
              "<IPython.core.display.Markdown object>"
            ],
            "text/markdown": "---"
          },
          "metadata": {}
        },
        {
          "output_type": "stream",
          "name": "stdout",
          "text": [
            "Graph:\n"
          ]
        },
        {
          "output_type": "display_data",
          "data": {
            "image/svg+xml": "<?xml version=\"1.0\" encoding=\"UTF-8\" standalone=\"no\"?>\n<!DOCTYPE svg PUBLIC \"-//W3C//DTD SVG 1.1//EN\"\n \"http://www.w3.org/Graphics/SVG/1.1/DTD/svg11.dtd\">\n<!-- Generated by graphviz version 2.43.0 (0)\n -->\n<!-- Title: %3 Pages: 1 -->\n<svg width=\"538pt\" height=\"152pt\"\n viewBox=\"0.00 0.00 538.36 152.00\" xmlns=\"http://www.w3.org/2000/svg\" xmlns:xlink=\"http://www.w3.org/1999/xlink\">\n<g id=\"graph0\" class=\"graph\" transform=\"scale(1 1) rotate(0) translate(4 148)\">\n<title>%3</title>\n<polygon fill=\"white\" stroke=\"transparent\" points=\"-4,4 -4,-148 534.36,-148 534.36,4 -4,4\"/>\n<!-- t1 -->\n<g id=\"node1\" class=\"node\">\n<title>t1</title>\n<ellipse fill=\"none\" stroke=\"black\" cx=\"76.79\" cy=\"-72\" rx=\"76.58\" ry=\"18\"/>\n<text text-anchor=\"middle\" x=\"76.79\" y=\"-69.8\" font-family=\"Times,serif\" font-size=\"9.00\">COUNTRY.v(name{saint,kitts})</text>\n</g>\n<!-- t2 -->\n<g id=\"node2\" class=\"node\">\n<title>t2</title>\n<ellipse fill=\"none\" stroke=\"black\" cx=\"160.79\" cy=\"-126\" rx=\"34.13\" ry=\"18\"/>\n<text text-anchor=\"middle\" x=\"160.79\" y=\"-123.8\" font-family=\"Times,serif\" font-size=\"9.00\">BORDERS</text>\n</g>\n<!-- t2&#45;&gt;t1 -->\n<g id=\"edge1\" class=\"edge\">\n<title>t2&#45;&gt;t1</title>\n<path fill=\"none\" stroke=\"black\" d=\"M139.59,-111.88C130.77,-106.42 120.31,-99.94 110.49,-93.86\"/>\n<polygon fill=\"black\" stroke=\"black\" points=\"112.09,-91.15 102.78,-89.09 108.78,-96.51 112.09,-91.15\"/>\n</g>\n<!-- t3 -->\n<g id=\"node3\" class=\"node\">\n<title>t3</title>\n<ellipse fill=\"none\" stroke=\"black\" cx=\"244.79\" cy=\"-72\" rx=\"76.58\" ry=\"18\"/>\n<text text-anchor=\"middle\" x=\"244.79\" y=\"-69.8\" font-family=\"Times,serif\" font-size=\"9.00\">COUNTRY.v(name{cambodia})</text>\n</g>\n<!-- t2&#45;&gt;t3 -->\n<g id=\"edge2\" class=\"edge\">\n<title>t2&#45;&gt;t3</title>\n<path fill=\"none\" stroke=\"black\" d=\"M181.98,-111.88C190.8,-106.42 201.26,-99.94 211.09,-93.86\"/>\n<polygon fill=\"black\" stroke=\"black\" points=\"212.8,-96.51 218.79,-89.09 209.48,-91.15 212.8,-96.51\"/>\n</g>\n<!-- t4 -->\n<g id=\"node4\" class=\"node\">\n<title>t4</title>\n<ellipse fill=\"none\" stroke=\"black\" cx=\"338.79\" cy=\"-18\" rx=\"27\" ry=\"18\"/>\n<text text-anchor=\"middle\" x=\"338.79\" y=\"-15.8\" font-family=\"Times,serif\" font-size=\"9.00\">CITY</text>\n</g>\n<!-- t3&#45;&gt;t4 -->\n<g id=\"edge3\" class=\"edge\">\n<title>t3&#45;&gt;t4</title>\n<path fill=\"none\" stroke=\"black\" d=\"M273.25,-55.26C284.99,-48.76 298.56,-41.25 310.31,-34.76\"/>\n<polygon fill=\"black\" stroke=\"black\" points=\"312.13,-37.35 318.48,-30.23 309.08,-31.83 312.13,-37.35\"/>\n</g>\n<!-- t5 -->\n<g id=\"node5\" class=\"node\">\n<title>t5</title>\n<ellipse fill=\"none\" stroke=\"black\" cx=\"432.79\" cy=\"-72\" rx=\"97.64\" ry=\"18\"/>\n<text text-anchor=\"middle\" x=\"432.79\" y=\"-69.8\" font-family=\"Times,serif\" font-size=\"9.00\">ORGANIZATION.v(name{organization})</text>\n</g>\n<!-- t5&#45;&gt;t4 -->\n<g id=\"edge4\" class=\"edge\">\n<title>t5&#45;&gt;t4</title>\n<path fill=\"none\" stroke=\"black\" d=\"M403.3,-54.69C391.69,-48.27 378.42,-40.92 366.94,-34.57\"/>\n<polygon fill=\"black\" stroke=\"black\" points=\"368.35,-31.75 358.95,-30.15 365.3,-37.27 368.35,-31.75\"/>\n</g>\n</g>\n</svg>\n",
            "text/plain": [
              "<graphviz.graphs.Digraph at 0x7f45f9612820>"
            ]
          },
          "metadata": {}
        },
        {
          "output_type": "display_data",
          "data": {
            "text/plain": [
              "<IPython.core.display.Markdown object>"
            ],
            "text/markdown": "---"
          },
          "metadata": {}
        },
        {
          "output_type": "stream",
          "name": "stdout",
          "text": [
            "JNTs:\n",
            "\tThis CJN returns no tuples.\n",
            "\n"
          ]
        },
        {
          "output_type": "display_data",
          "data": {
            "text/plain": [
              "<IPython.core.display.Markdown object>"
            ],
            "text/markdown": "---"
          },
          "metadata": {}
        },
        {
          "output_type": "display_data",
          "data": {
            "text/plain": [
              "<IPython.core.display.Markdown object>"
            ],
            "text/markdown": "**10th CJN**:"
          },
          "metadata": {}
        },
        {
          "output_type": "display_data",
          "data": {
            "text/plain": [
              "<IPython.core.display.Markdown object>"
            ],
            "text/markdown": "---"
          },
          "metadata": {}
        },
        {
          "output_type": "stream",
          "name": "stdout",
          "text": [
            "Graph:\n"
          ]
        },
        {
          "output_type": "display_data",
          "data": {
            "image/svg+xml": "<?xml version=\"1.0\" encoding=\"UTF-8\" standalone=\"no\"?>\n<!DOCTYPE svg PUBLIC \"-//W3C//DTD SVG 1.1//EN\"\n \"http://www.w3.org/Graphics/SVG/1.1/DTD/svg11.dtd\">\n<!-- Generated by graphviz version 2.43.0 (0)\n -->\n<!-- Title: %3 Pages: 1 -->\n<svg width=\"538pt\" height=\"98pt\"\n viewBox=\"0.00 0.00 538.36 98.00\" xmlns=\"http://www.w3.org/2000/svg\" xmlns:xlink=\"http://www.w3.org/1999/xlink\">\n<g id=\"graph0\" class=\"graph\" transform=\"scale(1 1) rotate(0) translate(4 94)\">\n<title>%3</title>\n<polygon fill=\"white\" stroke=\"transparent\" points=\"-4,4 -4,-94 534.36,-94 534.36,4 -4,4\"/>\n<!-- t1 -->\n<g id=\"node1\" class=\"node\">\n<title>t1</title>\n<ellipse fill=\"none\" stroke=\"black\" cx=\"76.79\" cy=\"-18\" rx=\"76.58\" ry=\"18\"/>\n<text text-anchor=\"middle\" x=\"76.79\" y=\"-15.8\" font-family=\"Times,serif\" font-size=\"9.00\">COUNTRY.v(name{saint,kitts})</text>\n</g>\n<!-- t2 -->\n<g id=\"node2\" class=\"node\">\n<title>t2</title>\n<ellipse fill=\"none\" stroke=\"black\" cx=\"180.79\" cy=\"-72\" rx=\"34.13\" ry=\"18\"/>\n<text text-anchor=\"middle\" x=\"180.79\" y=\"-69.8\" font-family=\"Times,serif\" font-size=\"9.00\">BORDERS</text>\n</g>\n<!-- t2&#45;&gt;t1 -->\n<g id=\"edge1\" class=\"edge\">\n<title>t2&#45;&gt;t1</title>\n<path fill=\"none\" stroke=\"black\" d=\"M156.93,-59.07C144.91,-53.06 130.02,-45.62 116.35,-38.78\"/>\n<polygon fill=\"black\" stroke=\"black\" points=\"117.49,-35.83 108.03,-34.62 114.68,-41.47 117.49,-35.83\"/>\n</g>\n<!-- t3 -->\n<g id=\"node3\" class=\"node\">\n<title>t3</title>\n<ellipse fill=\"none\" stroke=\"black\" cx=\"244.79\" cy=\"-18\" rx=\"76.58\" ry=\"18\"/>\n<text text-anchor=\"middle\" x=\"244.79\" y=\"-15.8\" font-family=\"Times,serif\" font-size=\"9.00\">COUNTRY.v(name{cambodia})</text>\n</g>\n<!-- t2&#45;&gt;t3 -->\n<g id=\"edge2\" class=\"edge\">\n<title>t2&#45;&gt;t3</title>\n<path fill=\"none\" stroke=\"black\" d=\"M198.62,-56.52C204.36,-51.85 210.86,-46.56 217.14,-41.46\"/>\n<polygon fill=\"black\" stroke=\"black\" points=\"219.35,-43.73 224.35,-35.61 215.37,-38.84 219.35,-43.73\"/>\n</g>\n<!-- t4 -->\n<g id=\"node4\" class=\"node\">\n<title>t4</title>\n<ellipse fill=\"none\" stroke=\"black\" cx=\"307.79\" cy=\"-72\" rx=\"39.02\" ry=\"18\"/>\n<text text-anchor=\"middle\" x=\"307.79\" y=\"-69.8\" font-family=\"Times,serif\" font-size=\"9.00\">IS_MEMBER</text>\n</g>\n<!-- t4&#45;&gt;t3 -->\n<g id=\"edge3\" class=\"edge\">\n<title>t4&#45;&gt;t3</title>\n<path fill=\"none\" stroke=\"black\" d=\"M289.57,-55.96C284.15,-51.49 278.09,-46.49 272.22,-41.65\"/>\n<polygon fill=\"black\" stroke=\"black\" points=\"273.9,-38.95 264.96,-35.65 269.89,-43.81 273.9,-38.95\"/>\n</g>\n<!-- t5 -->\n<g id=\"node5\" class=\"node\">\n<title>t5</title>\n<ellipse fill=\"none\" stroke=\"black\" cx=\"432.79\" cy=\"-18\" rx=\"97.64\" ry=\"18\"/>\n<text text-anchor=\"middle\" x=\"432.79\" y=\"-15.8\" font-family=\"Times,serif\" font-size=\"9.00\">ORGANIZATION.v(name{organization})</text>\n</g>\n<!-- t4&#45;&gt;t5 -->\n<g id=\"edge4\" class=\"edge\">\n<title>t4&#45;&gt;t5</title>\n<path fill=\"none\" stroke=\"black\" d=\"M335.84,-59.33C350.67,-53.16 369.27,-45.42 386.2,-38.38\"/>\n<polygon fill=\"black\" stroke=\"black\" points=\"387.77,-41.14 394.87,-34.77 385.35,-35.32 387.77,-41.14\"/>\n</g>\n</g>\n</svg>\n",
            "text/plain": [
              "<graphviz.graphs.Digraph at 0x7f45f95159a0>"
            ]
          },
          "metadata": {}
        },
        {
          "output_type": "display_data",
          "data": {
            "text/plain": [
              "<IPython.core.display.Markdown object>"
            ],
            "text/markdown": "---"
          },
          "metadata": {}
        },
        {
          "output_type": "stream",
          "name": "stdout",
          "text": [
            "JNTs:\n",
            "\tThis CJN returns no tuples.\n",
            "\n"
          ]
        }
      ]
    },
    {
      "cell_type": "markdown",
      "source": [
        "#### Keyword Search using Eager CJN Evaluation."
      ],
      "metadata": {
        "id": "CIaGmx4aWP7v"
      }
    },
    {
      "cell_type": "code",
      "source": [
        "results = lathe.keyword_search('saint kitts cambodia organization',configuration = (5,1,9))\n",
        "results.cjns(text=False,sql=False)"
      ],
      "metadata": {
        "id": "5_Zm3eGktEQH",
        "colab": {
          "base_uri": "https://localhost:8080/",
          "height": 904
        },
        "outputId": "639588ae-e165-4cc2-b9d5-0504f63d31df"
      },
      "execution_count": 22,
      "outputs": [
        {
          "output_type": "stream",
          "name": "stdout",
          "text": [
            "Keyword Query: saint kitts cambodia organization\n"
          ]
        },
        {
          "output_type": "display_data",
          "data": {
            "text/plain": [
              "<IPython.core.display.Markdown object>"
            ],
            "text/markdown": "---"
          },
          "metadata": {}
        },
        {
          "output_type": "display_data",
          "data": {
            "text/plain": [
              "<IPython.core.display.Markdown object>"
            ],
            "text/markdown": "**1st CJN**:"
          },
          "metadata": {}
        },
        {
          "output_type": "display_data",
          "data": {
            "text/plain": [
              "<IPython.core.display.Markdown object>"
            ],
            "text/markdown": "---"
          },
          "metadata": {}
        },
        {
          "output_type": "stream",
          "name": "stdout",
          "text": [
            "Graph:\n"
          ]
        },
        {
          "output_type": "display_data",
          "data": {
            "image/svg+xml": "<?xml version=\"1.0\" encoding=\"UTF-8\" standalone=\"no\"?>\n<!DOCTYPE svg PUBLIC \"-//W3C//DTD SVG 1.1//EN\"\n \"http://www.w3.org/Graphics/SVG/1.1/DTD/svg11.dtd\">\n<!-- Generated by graphviz version 2.43.0 (0)\n -->\n<!-- Title: %3 Pages: 1 -->\n<svg width=\"522pt\" height=\"98pt\"\n viewBox=\"0.00 0.00 521.58 98.00\" xmlns=\"http://www.w3.org/2000/svg\" xmlns:xlink=\"http://www.w3.org/1999/xlink\">\n<g id=\"graph0\" class=\"graph\" transform=\"scale(1 1) rotate(0) translate(4 94)\">\n<title>%3</title>\n<polygon fill=\"white\" stroke=\"transparent\" points=\"-4,4 -4,-94 517.58,-94 517.58,4 -4,4\"/>\n<!-- t1 -->\n<g id=\"node1\" class=\"node\">\n<title>t1</title>\n<ellipse fill=\"none\" stroke=\"black\" cx=\"76.79\" cy=\"-18\" rx=\"76.58\" ry=\"18\"/>\n<text text-anchor=\"middle\" x=\"76.79\" y=\"-15.8\" font-family=\"Times,serif\" font-size=\"9.00\">COUNTRY.v(name{saint,kitts})</text>\n</g>\n<!-- t2 -->\n<g id=\"node2\" class=\"node\">\n<title>t2</title>\n<ellipse fill=\"none\" stroke=\"black\" cx=\"188.79\" cy=\"-72\" rx=\"39.02\" ry=\"18\"/>\n<text text-anchor=\"middle\" x=\"188.79\" y=\"-69.8\" font-family=\"Times,serif\" font-size=\"9.00\">IS_MEMBER</text>\n</g>\n<!-- t2&#45;&gt;t1 -->\n<g id=\"edge1\" class=\"edge\">\n<title>t2&#45;&gt;t1</title>\n<path fill=\"none\" stroke=\"black\" d=\"M162.25,-58.68C149.16,-52.6 133.07,-45.13 118.4,-38.32\"/>\n<polygon fill=\"black\" stroke=\"black\" points=\"119.45,-35.33 109.96,-34.4 116.79,-41.05 119.45,-35.33\"/>\n</g>\n<!-- t3 -->\n<g id=\"node3\" class=\"node\">\n<title>t3</title>\n<ellipse fill=\"none\" stroke=\"black\" cx=\"256.79\" cy=\"-18\" rx=\"88.82\" ry=\"18\"/>\n<text text-anchor=\"middle\" x=\"256.79\" y=\"-15.8\" font-family=\"Times,serif\" font-size=\"9.00\">ORGANIZATION.s(*{organization})</text>\n</g>\n<!-- t2&#45;&gt;t3 -->\n<g id=\"edge2\" class=\"edge\">\n<title>t2&#45;&gt;t3</title>\n<path fill=\"none\" stroke=\"black\" d=\"M208.09,-56.24C214.07,-51.66 220.81,-46.51 227.32,-41.53\"/>\n<polygon fill=\"black\" stroke=\"black\" points=\"229.56,-43.78 234.8,-35.82 225.74,-38.78 229.56,-43.78\"/>\n</g>\n<!-- t4 -->\n<g id=\"node4\" class=\"node\">\n<title>t4</title>\n<ellipse fill=\"none\" stroke=\"black\" cx=\"324.79\" cy=\"-72\" rx=\"39.02\" ry=\"18\"/>\n<text text-anchor=\"middle\" x=\"324.79\" y=\"-69.8\" font-family=\"Times,serif\" font-size=\"9.00\">IS_MEMBER</text>\n</g>\n<!-- t4&#45;&gt;t3 -->\n<g id=\"edge4\" class=\"edge\">\n<title>t4&#45;&gt;t3</title>\n<path fill=\"none\" stroke=\"black\" d=\"M305.48,-56.24C299.5,-51.66 292.77,-46.51 286.26,-41.53\"/>\n<polygon fill=\"black\" stroke=\"black\" points=\"287.84,-38.78 278.78,-35.82 284.01,-43.78 287.84,-38.78\"/>\n</g>\n<!-- t5 -->\n<g id=\"node5\" class=\"node\">\n<title>t5</title>\n<ellipse fill=\"none\" stroke=\"black\" cx=\"436.79\" cy=\"-18\" rx=\"76.58\" ry=\"18\"/>\n<text text-anchor=\"middle\" x=\"436.79\" y=\"-15.8\" font-family=\"Times,serif\" font-size=\"9.00\">COUNTRY.v(name{cambodia})</text>\n</g>\n<!-- t4&#45;&gt;t5 -->\n<g id=\"edge3\" class=\"edge\">\n<title>t4&#45;&gt;t5</title>\n<path fill=\"none\" stroke=\"black\" d=\"M351.33,-58.68C364.42,-52.6 380.5,-45.13 395.17,-38.32\"/>\n<polygon fill=\"black\" stroke=\"black\" points=\"396.78,-41.05 403.62,-34.4 394.13,-35.33 396.78,-41.05\"/>\n</g>\n</g>\n</svg>\n",
            "text/plain": [
              "<graphviz.graphs.Digraph at 0x7f45f96a6e50>"
            ]
          },
          "metadata": {}
        },
        {
          "output_type": "display_data",
          "data": {
            "text/plain": [
              "<IPython.core.display.Markdown object>"
            ],
            "text/markdown": "---"
          },
          "metadata": {}
        },
        {
          "output_type": "stream",
          "name": "stdout",
          "text": [
            "JNTs:\n"
          ]
        },
        {
          "output_type": "display_data",
          "data": {
            "text/plain": [
              "       name abbreviation                                               name  \\\n",
              "0  Cambodia          FAO                  Food and Agriculture Organization   \n",
              "1  Cambodia         G-77                                        Group of 77   \n",
              "2  Cambodia         IBRD  International Bank for Reconstruction and Deve...   \n",
              "3  Cambodia     Interpol         International Criminal Police Organization   \n",
              "4  Cambodia          IDA              International Development Association   \n",
              "\n",
              "         city country         province established  __search_id  \\\n",
              "0        Rome       I            Lazio  1945-10-16        14707   \n",
              "1        None    None             None  1967-10-01        14723   \n",
              "2  Washington     USA  Distr. Columbia  1944-07-22        14728   \n",
              "3        Lyon       F      Rhone Alpes  1956-06-13        14734   \n",
              "4  Washington     USA  Distr. Columbia  1960-01-26        14735   \n",
              "\n",
              "                    name  \n",
              "0  Saint Kitts and Nevis  \n",
              "1  Saint Kitts and Nevis  \n",
              "2  Saint Kitts and Nevis  \n",
              "3  Saint Kitts and Nevis  \n",
              "4  Saint Kitts and Nevis  "
            ],
            "text/html": [
              "\n",
              "  <div id=\"df-feae37dc-aa99-49d3-8747-58b558bb49af\">\n",
              "    <div class=\"colab-df-container\">\n",
              "      <div>\n",
              "<style scoped>\n",
              "    .dataframe tbody tr th:only-of-type {\n",
              "        vertical-align: middle;\n",
              "    }\n",
              "\n",
              "    .dataframe tbody tr th {\n",
              "        vertical-align: top;\n",
              "    }\n",
              "\n",
              "    .dataframe thead th {\n",
              "        text-align: right;\n",
              "    }\n",
              "</style>\n",
              "<table border=\"1\" class=\"dataframe\">\n",
              "  <thead>\n",
              "    <tr style=\"text-align: right;\">\n",
              "      <th></th>\n",
              "      <th>name</th>\n",
              "      <th>abbreviation</th>\n",
              "      <th>name</th>\n",
              "      <th>city</th>\n",
              "      <th>country</th>\n",
              "      <th>province</th>\n",
              "      <th>established</th>\n",
              "      <th>__search_id</th>\n",
              "      <th>name</th>\n",
              "    </tr>\n",
              "  </thead>\n",
              "  <tbody>\n",
              "    <tr>\n",
              "      <th>0</th>\n",
              "      <td>Cambodia</td>\n",
              "      <td>FAO</td>\n",
              "      <td>Food and Agriculture Organization</td>\n",
              "      <td>Rome</td>\n",
              "      <td>I</td>\n",
              "      <td>Lazio</td>\n",
              "      <td>1945-10-16</td>\n",
              "      <td>14707</td>\n",
              "      <td>Saint Kitts and Nevis</td>\n",
              "    </tr>\n",
              "    <tr>\n",
              "      <th>1</th>\n",
              "      <td>Cambodia</td>\n",
              "      <td>G-77</td>\n",
              "      <td>Group of 77</td>\n",
              "      <td>None</td>\n",
              "      <td>None</td>\n",
              "      <td>None</td>\n",
              "      <td>1967-10-01</td>\n",
              "      <td>14723</td>\n",
              "      <td>Saint Kitts and Nevis</td>\n",
              "    </tr>\n",
              "    <tr>\n",
              "      <th>2</th>\n",
              "      <td>Cambodia</td>\n",
              "      <td>IBRD</td>\n",
              "      <td>International Bank for Reconstruction and Deve...</td>\n",
              "      <td>Washington</td>\n",
              "      <td>USA</td>\n",
              "      <td>Distr. Columbia</td>\n",
              "      <td>1944-07-22</td>\n",
              "      <td>14728</td>\n",
              "      <td>Saint Kitts and Nevis</td>\n",
              "    </tr>\n",
              "    <tr>\n",
              "      <th>3</th>\n",
              "      <td>Cambodia</td>\n",
              "      <td>Interpol</td>\n",
              "      <td>International Criminal Police Organization</td>\n",
              "      <td>Lyon</td>\n",
              "      <td>F</td>\n",
              "      <td>Rhone Alpes</td>\n",
              "      <td>1956-06-13</td>\n",
              "      <td>14734</td>\n",
              "      <td>Saint Kitts and Nevis</td>\n",
              "    </tr>\n",
              "    <tr>\n",
              "      <th>4</th>\n",
              "      <td>Cambodia</td>\n",
              "      <td>IDA</td>\n",
              "      <td>International Development Association</td>\n",
              "      <td>Washington</td>\n",
              "      <td>USA</td>\n",
              "      <td>Distr. Columbia</td>\n",
              "      <td>1960-01-26</td>\n",
              "      <td>14735</td>\n",
              "      <td>Saint Kitts and Nevis</td>\n",
              "    </tr>\n",
              "  </tbody>\n",
              "</table>\n",
              "</div>\n",
              "      <button class=\"colab-df-convert\" onclick=\"convertToInteractive('df-feae37dc-aa99-49d3-8747-58b558bb49af')\"\n",
              "              title=\"Convert this dataframe to an interactive table.\"\n",
              "              style=\"display:none;\">\n",
              "        \n",
              "  <svg xmlns=\"http://www.w3.org/2000/svg\" height=\"24px\"viewBox=\"0 0 24 24\"\n",
              "       width=\"24px\">\n",
              "    <path d=\"M0 0h24v24H0V0z\" fill=\"none\"/>\n",
              "    <path d=\"M18.56 5.44l.94 2.06.94-2.06 2.06-.94-2.06-.94-.94-2.06-.94 2.06-2.06.94zm-11 1L8.5 8.5l.94-2.06 2.06-.94-2.06-.94L8.5 2.5l-.94 2.06-2.06.94zm10 10l.94 2.06.94-2.06 2.06-.94-2.06-.94-.94-2.06-.94 2.06-2.06.94z\"/><path d=\"M17.41 7.96l-1.37-1.37c-.4-.4-.92-.59-1.43-.59-.52 0-1.04.2-1.43.59L10.3 9.45l-7.72 7.72c-.78.78-.78 2.05 0 2.83L4 21.41c.39.39.9.59 1.41.59.51 0 1.02-.2 1.41-.59l7.78-7.78 2.81-2.81c.8-.78.8-2.07 0-2.86zM5.41 20L4 18.59l7.72-7.72 1.47 1.35L5.41 20z\"/>\n",
              "  </svg>\n",
              "      </button>\n",
              "      \n",
              "  <style>\n",
              "    .colab-df-container {\n",
              "      display:flex;\n",
              "      flex-wrap:wrap;\n",
              "      gap: 12px;\n",
              "    }\n",
              "\n",
              "    .colab-df-convert {\n",
              "      background-color: #E8F0FE;\n",
              "      border: none;\n",
              "      border-radius: 50%;\n",
              "      cursor: pointer;\n",
              "      display: none;\n",
              "      fill: #1967D2;\n",
              "      height: 32px;\n",
              "      padding: 0 0 0 0;\n",
              "      width: 32px;\n",
              "    }\n",
              "\n",
              "    .colab-df-convert:hover {\n",
              "      background-color: #E2EBFA;\n",
              "      box-shadow: 0px 1px 2px rgba(60, 64, 67, 0.3), 0px 1px 3px 1px rgba(60, 64, 67, 0.15);\n",
              "      fill: #174EA6;\n",
              "    }\n",
              "\n",
              "    [theme=dark] .colab-df-convert {\n",
              "      background-color: #3B4455;\n",
              "      fill: #D2E3FC;\n",
              "    }\n",
              "\n",
              "    [theme=dark] .colab-df-convert:hover {\n",
              "      background-color: #434B5C;\n",
              "      box-shadow: 0px 1px 3px 1px rgba(0, 0, 0, 0.15);\n",
              "      filter: drop-shadow(0px 1px 2px rgba(0, 0, 0, 0.3));\n",
              "      fill: #FFFFFF;\n",
              "    }\n",
              "  </style>\n",
              "\n",
              "      <script>\n",
              "        const buttonEl =\n",
              "          document.querySelector('#df-feae37dc-aa99-49d3-8747-58b558bb49af button.colab-df-convert');\n",
              "        buttonEl.style.display =\n",
              "          google.colab.kernel.accessAllowed ? 'block' : 'none';\n",
              "\n",
              "        async function convertToInteractive(key) {\n",
              "          const element = document.querySelector('#df-feae37dc-aa99-49d3-8747-58b558bb49af');\n",
              "          const dataTable =\n",
              "            await google.colab.kernel.invokeFunction('convertToInteractive',\n",
              "                                                     [key], {});\n",
              "          if (!dataTable) return;\n",
              "\n",
              "          const docLinkHtml = 'Like what you see? Visit the ' +\n",
              "            '<a target=\"_blank\" href=https://colab.research.google.com/notebooks/data_table.ipynb>data table notebook</a>'\n",
              "            + ' to learn more about interactive tables.';\n",
              "          element.innerHTML = '';\n",
              "          dataTable['output_type'] = 'display_data';\n",
              "          await google.colab.output.renderOutput(dataTable, element);\n",
              "          const docLink = document.createElement('div');\n",
              "          docLink.innerHTML = docLinkHtml;\n",
              "          element.appendChild(docLink);\n",
              "        }\n",
              "      </script>\n",
              "    </div>\n",
              "  </div>\n",
              "  "
            ],
            "application/vnd.google.colaboratory.module+javascript": "\n      import \"https://ssl.gstatic.com/colaboratory/data_table/99dac6621f6ae8c4/data_table.js\";\n\n      window.createDataTable({\n        data: [[{\n            'v': 0,\n            'f': \"0\",\n        },\n\"Cambodia\",\n\"FAO\",\n\"Food and Agriculture Organization\",\n\"Rome\",\n\"I\",\n\"Lazio\",\n\"1945-10-16\",\n{\n            'v': 14707,\n            'f': \"14707\",\n        },\n\"Saint Kitts and Nevis\"],\n [{\n            'v': 1,\n            'f': \"1\",\n        },\n\"Cambodia\",\n\"G-77\",\n\"Group of 77\",\nnull,\nnull,\nnull,\n\"1967-10-01\",\n{\n            'v': 14723,\n            'f': \"14723\",\n        },\n\"Saint Kitts and Nevis\"],\n [{\n            'v': 2,\n            'f': \"2\",\n        },\n\"Cambodia\",\n\"IBRD\",\n\"International Bank for Reconstruction and Development\",\n\"Washington\",\n\"USA\",\n\"Distr. Columbia\",\n\"1944-07-22\",\n{\n            'v': 14728,\n            'f': \"14728\",\n        },\n\"Saint Kitts and Nevis\"],\n [{\n            'v': 3,\n            'f': \"3\",\n        },\n\"Cambodia\",\n\"Interpol\",\n\"International Criminal Police Organization\",\n\"Lyon\",\n\"F\",\n\"Rhone Alpes\",\n\"1956-06-13\",\n{\n            'v': 14734,\n            'f': \"14734\",\n        },\n\"Saint Kitts and Nevis\"],\n [{\n            'v': 4,\n            'f': \"4\",\n        },\n\"Cambodia\",\n\"IDA\",\n\"International Development Association\",\n\"Washington\",\n\"USA\",\n\"Distr. Columbia\",\n\"1960-01-26\",\n{\n            'v': 14735,\n            'f': \"14735\",\n        },\n\"Saint Kitts and Nevis\"]],\n        columns: [[\"number\", \"index\"], [\"string\", \"name\"], [\"string\", \"abbreviation\"], [\"string\", \"name\"], [\"string\", \"city\"], [\"string\", \"country\"], [\"string\", \"province\"], [\"string\", \"established\"], [\"number\", \"__search_id\"], [\"string\", \"name\"]],\n        columnOptions: [{\"width\": \"1px\", \"className\": \"index_column\"}],\n        rowsPerPage: 25,\n        helpUrl: \"https://colab.research.google.com/notebooks/data_table.ipynb\",\n        suppressOutputScrolling: true,\n        minimumWidth: undefined,\n      });\n    "
          },
          "metadata": {}
        },
        {
          "output_type": "stream",
          "name": "stdout",
          "text": [
            "\n"
          ]
        },
        {
          "output_type": "display_data",
          "data": {
            "text/plain": [
              "<IPython.core.display.Markdown object>"
            ],
            "text/markdown": "---"
          },
          "metadata": {}
        },
        {
          "output_type": "display_data",
          "data": {
            "text/plain": [
              "<IPython.core.display.Markdown object>"
            ],
            "text/markdown": "**2nd CJN**:"
          },
          "metadata": {}
        },
        {
          "output_type": "display_data",
          "data": {
            "text/plain": [
              "<IPython.core.display.Markdown object>"
            ],
            "text/markdown": "---"
          },
          "metadata": {}
        },
        {
          "output_type": "stream",
          "name": "stdout",
          "text": [
            "Graph:\n"
          ]
        },
        {
          "output_type": "display_data",
          "data": {
            "image/svg+xml": "<?xml version=\"1.0\" encoding=\"UTF-8\" standalone=\"no\"?>\n<!DOCTYPE svg PUBLIC \"-//W3C//DTD SVG 1.1//EN\"\n \"http://www.w3.org/Graphics/SVG/1.1/DTD/svg11.dtd\">\n<!-- Generated by graphviz version 2.43.0 (0)\n -->\n<!-- Title: %3 Pages: 1 -->\n<svg width=\"538pt\" height=\"98pt\"\n viewBox=\"0.00 0.00 537.58 98.00\" xmlns=\"http://www.w3.org/2000/svg\" xmlns:xlink=\"http://www.w3.org/1999/xlink\">\n<g id=\"graph0\" class=\"graph\" transform=\"scale(1 1) rotate(0) translate(4 94)\">\n<title>%3</title>\n<polygon fill=\"white\" stroke=\"transparent\" points=\"-4,4 -4,-94 533.58,-94 533.58,4 -4,4\"/>\n<!-- t1 -->\n<g id=\"node1\" class=\"node\">\n<title>t1</title>\n<ellipse fill=\"none\" stroke=\"black\" cx=\"76.79\" cy=\"-18\" rx=\"76.58\" ry=\"18\"/>\n<text text-anchor=\"middle\" x=\"76.79\" y=\"-15.8\" font-family=\"Times,serif\" font-size=\"9.00\">COUNTRY.v(name{saint,kitts})</text>\n</g>\n<!-- t2 -->\n<g id=\"node2\" class=\"node\">\n<title>t2</title>\n<ellipse fill=\"none\" stroke=\"black\" cx=\"194.79\" cy=\"-72\" rx=\"39.02\" ry=\"18\"/>\n<text text-anchor=\"middle\" x=\"194.79\" y=\"-69.8\" font-family=\"Times,serif\" font-size=\"9.00\">IS_MEMBER</text>\n</g>\n<!-- t2&#45;&gt;t1 -->\n<g id=\"edge1\" class=\"edge\">\n<title>t2&#45;&gt;t1</title>\n<path fill=\"none\" stroke=\"black\" d=\"M167.42,-58.94C153.29,-52.71 135.72,-44.97 119.82,-37.96\"/>\n<polygon fill=\"black\" stroke=\"black\" points=\"120.7,-34.91 111.2,-34.16 118.16,-40.67 120.7,-34.91\"/>\n</g>\n<!-- t3 -->\n<g id=\"node3\" class=\"node\">\n<title>t3</title>\n<ellipse fill=\"none\" stroke=\"black\" cx=\"264.79\" cy=\"-18\" rx=\"97.64\" ry=\"18\"/>\n<text text-anchor=\"middle\" x=\"264.79\" y=\"-15.8\" font-family=\"Times,serif\" font-size=\"9.00\">ORGANIZATION.v(name{organization})</text>\n</g>\n<!-- t2&#45;&gt;t3 -->\n<g id=\"edge2\" class=\"edge\">\n<title>t2&#45;&gt;t3</title>\n<path fill=\"none\" stroke=\"black\" d=\"M214.66,-56.24C220.95,-51.56 228.05,-46.29 234.89,-41.21\"/>\n<polygon fill=\"black\" stroke=\"black\" points=\"236.8,-43.71 242.15,-35.82 233.05,-38.65 236.8,-43.71\"/>\n</g>\n<!-- t4 -->\n<g id=\"node4\" class=\"node\">\n<title>t4</title>\n<ellipse fill=\"none\" stroke=\"black\" cx=\"334.79\" cy=\"-72\" rx=\"39.02\" ry=\"18\"/>\n<text text-anchor=\"middle\" x=\"334.79\" y=\"-69.8\" font-family=\"Times,serif\" font-size=\"9.00\">IS_MEMBER</text>\n</g>\n<!-- t4&#45;&gt;t3 -->\n<g id=\"edge3\" class=\"edge\">\n<title>t4&#45;&gt;t3</title>\n<path fill=\"none\" stroke=\"black\" d=\"M314.92,-56.24C308.62,-51.56 301.52,-46.29 294.69,-41.21\"/>\n<polygon fill=\"black\" stroke=\"black\" points=\"296.53,-38.65 287.42,-35.82 292.77,-43.71 296.53,-38.65\"/>\n</g>\n<!-- t5 -->\n<g id=\"node5\" class=\"node\">\n<title>t5</title>\n<ellipse fill=\"none\" stroke=\"black\" cx=\"452.79\" cy=\"-18\" rx=\"76.58\" ry=\"18\"/>\n<text text-anchor=\"middle\" x=\"452.79\" y=\"-15.8\" font-family=\"Times,serif\" font-size=\"9.00\">COUNTRY.v(name{cambodia})</text>\n</g>\n<!-- t4&#45;&gt;t5 -->\n<g id=\"edge4\" class=\"edge\">\n<title>t4&#45;&gt;t5</title>\n<path fill=\"none\" stroke=\"black\" d=\"M362.16,-58.94C376.29,-52.71 393.86,-44.97 409.75,-37.96\"/>\n<polygon fill=\"black\" stroke=\"black\" points=\"411.41,-40.67 418.38,-34.16 408.87,-34.91 411.41,-40.67\"/>\n</g>\n</g>\n</svg>\n",
            "text/plain": [
              "<graphviz.graphs.Digraph at 0x7f45f96d1e80>"
            ]
          },
          "metadata": {}
        },
        {
          "output_type": "display_data",
          "data": {
            "text/plain": [
              "<IPython.core.display.Markdown object>"
            ],
            "text/markdown": "---"
          },
          "metadata": {}
        },
        {
          "output_type": "stream",
          "name": "stdout",
          "text": [
            "JNTs:\n"
          ]
        },
        {
          "output_type": "display_data",
          "data": {
            "text/plain": [
              "                                                name      name  \\\n",
              "0                  Food and Agriculture Organization  Cambodia   \n",
              "1         International Criminal Police Organization  Cambodia   \n",
              "2  United Nations Educational, Scientific, and Cu...  Cambodia   \n",
              "3  United Nations Industrial Development Organiza...  Cambodia   \n",
              "4                          World Health Organization  Cambodia   \n",
              "\n",
              "                    name  \n",
              "0  Saint Kitts and Nevis  \n",
              "1  Saint Kitts and Nevis  \n",
              "2  Saint Kitts and Nevis  \n",
              "3  Saint Kitts and Nevis  \n",
              "4  Saint Kitts and Nevis  "
            ],
            "text/html": [
              "\n",
              "  <div id=\"df-7cb44986-c4fa-4bca-b8cf-8d2f52853e5e\">\n",
              "    <div class=\"colab-df-container\">\n",
              "      <div>\n",
              "<style scoped>\n",
              "    .dataframe tbody tr th:only-of-type {\n",
              "        vertical-align: middle;\n",
              "    }\n",
              "\n",
              "    .dataframe tbody tr th {\n",
              "        vertical-align: top;\n",
              "    }\n",
              "\n",
              "    .dataframe thead th {\n",
              "        text-align: right;\n",
              "    }\n",
              "</style>\n",
              "<table border=\"1\" class=\"dataframe\">\n",
              "  <thead>\n",
              "    <tr style=\"text-align: right;\">\n",
              "      <th></th>\n",
              "      <th>name</th>\n",
              "      <th>name</th>\n",
              "      <th>name</th>\n",
              "    </tr>\n",
              "  </thead>\n",
              "  <tbody>\n",
              "    <tr>\n",
              "      <th>0</th>\n",
              "      <td>Food and Agriculture Organization</td>\n",
              "      <td>Cambodia</td>\n",
              "      <td>Saint Kitts and Nevis</td>\n",
              "    </tr>\n",
              "    <tr>\n",
              "      <th>1</th>\n",
              "      <td>International Criminal Police Organization</td>\n",
              "      <td>Cambodia</td>\n",
              "      <td>Saint Kitts and Nevis</td>\n",
              "    </tr>\n",
              "    <tr>\n",
              "      <th>2</th>\n",
              "      <td>United Nations Educational, Scientific, and Cu...</td>\n",
              "      <td>Cambodia</td>\n",
              "      <td>Saint Kitts and Nevis</td>\n",
              "    </tr>\n",
              "    <tr>\n",
              "      <th>3</th>\n",
              "      <td>United Nations Industrial Development Organiza...</td>\n",
              "      <td>Cambodia</td>\n",
              "      <td>Saint Kitts and Nevis</td>\n",
              "    </tr>\n",
              "    <tr>\n",
              "      <th>4</th>\n",
              "      <td>World Health Organization</td>\n",
              "      <td>Cambodia</td>\n",
              "      <td>Saint Kitts and Nevis</td>\n",
              "    </tr>\n",
              "  </tbody>\n",
              "</table>\n",
              "</div>\n",
              "      <button class=\"colab-df-convert\" onclick=\"convertToInteractive('df-7cb44986-c4fa-4bca-b8cf-8d2f52853e5e')\"\n",
              "              title=\"Convert this dataframe to an interactive table.\"\n",
              "              style=\"display:none;\">\n",
              "        \n",
              "  <svg xmlns=\"http://www.w3.org/2000/svg\" height=\"24px\"viewBox=\"0 0 24 24\"\n",
              "       width=\"24px\">\n",
              "    <path d=\"M0 0h24v24H0V0z\" fill=\"none\"/>\n",
              "    <path d=\"M18.56 5.44l.94 2.06.94-2.06 2.06-.94-2.06-.94-.94-2.06-.94 2.06-2.06.94zm-11 1L8.5 8.5l.94-2.06 2.06-.94-2.06-.94L8.5 2.5l-.94 2.06-2.06.94zm10 10l.94 2.06.94-2.06 2.06-.94-2.06-.94-.94-2.06-.94 2.06-2.06.94z\"/><path d=\"M17.41 7.96l-1.37-1.37c-.4-.4-.92-.59-1.43-.59-.52 0-1.04.2-1.43.59L10.3 9.45l-7.72 7.72c-.78.78-.78 2.05 0 2.83L4 21.41c.39.39.9.59 1.41.59.51 0 1.02-.2 1.41-.59l7.78-7.78 2.81-2.81c.8-.78.8-2.07 0-2.86zM5.41 20L4 18.59l7.72-7.72 1.47 1.35L5.41 20z\"/>\n",
              "  </svg>\n",
              "      </button>\n",
              "      \n",
              "  <style>\n",
              "    .colab-df-container {\n",
              "      display:flex;\n",
              "      flex-wrap:wrap;\n",
              "      gap: 12px;\n",
              "    }\n",
              "\n",
              "    .colab-df-convert {\n",
              "      background-color: #E8F0FE;\n",
              "      border: none;\n",
              "      border-radius: 50%;\n",
              "      cursor: pointer;\n",
              "      display: none;\n",
              "      fill: #1967D2;\n",
              "      height: 32px;\n",
              "      padding: 0 0 0 0;\n",
              "      width: 32px;\n",
              "    }\n",
              "\n",
              "    .colab-df-convert:hover {\n",
              "      background-color: #E2EBFA;\n",
              "      box-shadow: 0px 1px 2px rgba(60, 64, 67, 0.3), 0px 1px 3px 1px rgba(60, 64, 67, 0.15);\n",
              "      fill: #174EA6;\n",
              "    }\n",
              "\n",
              "    [theme=dark] .colab-df-convert {\n",
              "      background-color: #3B4455;\n",
              "      fill: #D2E3FC;\n",
              "    }\n",
              "\n",
              "    [theme=dark] .colab-df-convert:hover {\n",
              "      background-color: #434B5C;\n",
              "      box-shadow: 0px 1px 3px 1px rgba(0, 0, 0, 0.15);\n",
              "      filter: drop-shadow(0px 1px 2px rgba(0, 0, 0, 0.3));\n",
              "      fill: #FFFFFF;\n",
              "    }\n",
              "  </style>\n",
              "\n",
              "      <script>\n",
              "        const buttonEl =\n",
              "          document.querySelector('#df-7cb44986-c4fa-4bca-b8cf-8d2f52853e5e button.colab-df-convert');\n",
              "        buttonEl.style.display =\n",
              "          google.colab.kernel.accessAllowed ? 'block' : 'none';\n",
              "\n",
              "        async function convertToInteractive(key) {\n",
              "          const element = document.querySelector('#df-7cb44986-c4fa-4bca-b8cf-8d2f52853e5e');\n",
              "          const dataTable =\n",
              "            await google.colab.kernel.invokeFunction('convertToInteractive',\n",
              "                                                     [key], {});\n",
              "          if (!dataTable) return;\n",
              "\n",
              "          const docLinkHtml = 'Like what you see? Visit the ' +\n",
              "            '<a target=\"_blank\" href=https://colab.research.google.com/notebooks/data_table.ipynb>data table notebook</a>'\n",
              "            + ' to learn more about interactive tables.';\n",
              "          element.innerHTML = '';\n",
              "          dataTable['output_type'] = 'display_data';\n",
              "          await google.colab.output.renderOutput(dataTable, element);\n",
              "          const docLink = document.createElement('div');\n",
              "          docLink.innerHTML = docLinkHtml;\n",
              "          element.appendChild(docLink);\n",
              "        }\n",
              "      </script>\n",
              "    </div>\n",
              "  </div>\n",
              "  "
            ],
            "application/vnd.google.colaboratory.module+javascript": "\n      import \"https://ssl.gstatic.com/colaboratory/data_table/99dac6621f6ae8c4/data_table.js\";\n\n      window.createDataTable({\n        data: [[{\n            'v': 0,\n            'f': \"0\",\n        },\n\"Food and Agriculture Organization\",\n\"Cambodia\",\n\"Saint Kitts and Nevis\"],\n [{\n            'v': 1,\n            'f': \"1\",\n        },\n\"International Criminal Police Organization\",\n\"Cambodia\",\n\"Saint Kitts and Nevis\"],\n [{\n            'v': 2,\n            'f': \"2\",\n        },\n\"United Nations Educational, Scientific, and Cultural Organization\",\n\"Cambodia\",\n\"Saint Kitts and Nevis\"],\n [{\n            'v': 3,\n            'f': \"3\",\n        },\n\"United Nations Industrial Development Organization\",\n\"Cambodia\",\n\"Saint Kitts and Nevis\"],\n [{\n            'v': 4,\n            'f': \"4\",\n        },\n\"World Health Organization\",\n\"Cambodia\",\n\"Saint Kitts and Nevis\"]],\n        columns: [[\"number\", \"index\"], [\"string\", \"name\"], [\"string\", \"name\"], [\"string\", \"name\"]],\n        columnOptions: [{\"width\": \"1px\", \"className\": \"index_column\"}],\n        rowsPerPage: 25,\n        helpUrl: \"https://colab.research.google.com/notebooks/data_table.ipynb\",\n        suppressOutputScrolling: true,\n        minimumWidth: undefined,\n      });\n    "
          },
          "metadata": {}
        },
        {
          "output_type": "stream",
          "name": "stdout",
          "text": [
            "\n"
          ]
        }
      ]
    },
    {
      "cell_type": "markdown",
      "source": [
        "## Contact Info\n",
        "\n",
        "If you have any questions, please contact us.\n",
        "\n",
        "**Github repository**: https://github.com/pr3martins/PyLatheDB\n",
        "\n",
        "**E-mail**: paulo.martins@icomp.ufam.edu.br\n"
      ],
      "metadata": {
        "id": "iRk_DygLW2r2"
      }
    }
  ]
}